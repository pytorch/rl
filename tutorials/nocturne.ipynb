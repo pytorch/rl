{
 "cells": [
  {
   "cell_type": "markdown",
   "id": "bdbba414-d9aa-45cd-aedd-0c18371f14aa",
   "metadata": {},
   "source": [
    "# Multi-agent model training using Nocturne\n",
    "\n"
   ]
  },
  {
   "cell_type": "code",
   "execution_count": null,
   "id": "cc69b73c-4cb3-438c-b03e-9dc260d99ad4",
   "metadata": {},
   "outputs": [],
   "source": []
  },
  {
   "cell_type": "markdown",
   "id": "833e855f-457c-44af-bd6a-8afc4c2dd605",
   "metadata": {},
   "source": [
    "## Creating the environment"
   ]
  },
  {
   "cell_type": "code",
   "execution_count": 1,
   "id": "03fadd43-5c68-4ce8-b788-2b9d6f2ede53",
   "metadata": {},
   "outputs": [
    {
     "name": "stderr",
     "output_type": "stream",
     "text": [
      "/Users/vmoens/venv/nocturne/lib/python3.8/site-packages/tqdm/auto.py:22: TqdmWarning: IProgress not found. Please update jupyter and ipywidgets. See https://ipywidgets.readthedocs.io/en/stable/user_install.html\n",
      "  from .autonotebook import tqdm as notebook_tqdm\n"
     ]
    }
   ],
   "source": [
    "import os\n",
    "import torch\n",
    "from nocturne.envs.wrappers import create_env\n",
    "import yaml\n",
    "import numpy as np\n",
    "import re\n",
    "\n",
    "import tqdm\n",
    "from IPython import display\n",
    "\n",
    "import matplotlib.pyplot as plt"
   ]
  },
  {
   "cell_type": "code",
   "execution_count": 2,
   "id": "591e7447-beb3-4b7f-8b0f-04efb8b0f373",
   "metadata": {},
   "outputs": [],
   "source": [
    "import os\n",
    "from hydra import initialize, initialize_config_module, initialize_config_dir, compose\n",
    "from omegaconf import OmegaConf\n",
    "\n",
    "\n",
    "# env = create_env(cfg)"
   ]
  },
  {
   "cell_type": "code",
   "execution_count": 3,
   "id": "901d57d2-151f-435f-aa01-93c485d611d3",
   "metadata": {},
   "outputs": [],
   "source": [
    "frames_per_batch=80*20\n",
    "max_frames_per_traj=80*20\n",
    "num_lstm_layers = 2\n",
    "n_optim_per_batch = 10\n",
    "\n",
    "device=\"cpu\"\n",
    "\n",
    "total_frames=5000000"
   ]
  },
  {
   "cell_type": "markdown",
   "id": "af291f46-a2d2-4240-9219-a8c22485e5a5",
   "metadata": {},
   "source": [
    "## Environment wrapper in torchrl"
   ]
  },
  {
   "cell_type": "code",
   "execution_count": 6,
   "id": "83c6b913-64c8-4062-9fa1-510e6edfc229",
   "metadata": {},
   "outputs": [],
   "source": [
    "from torchrl.envs.libs.gym import GymWrapper\n",
    "from torchrl.envs import TransformedEnv, TensorDictPrimer\n",
    "from torchrl.data import NdUnboundedContinuousTensorSpec, CompositeSpec, UnboundedContinuousTensorSpec, TensorDict\n",
    "from nocturne import Action\n",
    "\n",
    "class NocturneWrapper(GymWrapper):\n",
    "    def __init__(self, cfg):\n",
    "        batch_size = cfg['max_num_vehicles']\n",
    "        super().__init__(create_env(cfg), batch_size=[batch_size])\n",
    "        self.action_spec = NdUnboundedContinuousTensorSpec(3, device=self.device)\n",
    "        # action_spec = {str(i): self.action_spec for i in range(batch_size)}\n",
    "        # self.action_spec = CompositeSpec(**action_spec)\n",
    "        # reward_spec = {str(i): UnboundedContinuousTensorSpec() for i in range(batch_size)}\n",
    "        # self.reward_spec = CompositeSpec(**reward_spec)\n",
    "\n",
    "    def read_action(self, action):\n",
    "        action = action.detach()\n",
    "        env_moved_ids = [veh.id for veh in self._env.scenario.getObjectsThatMoved()]\n",
    "        return {i: Action(acceleration=float(_action[0]), steering=float(_action[1]), head_angle=float(_action[2])) for i, _action in enumerate(action) if i in env_moved_ids}\n",
    "\n",
    "    def read_reward(self, toral_reward, step_reward):\n",
    "        for i in range(self.batch_size[0]):\n",
    "            toral_reward[i] += step_reward.get(i, 0.0)\n",
    "        return toral_reward\n",
    "\n",
    "    def read_done(self, done):\n",
    "        done_out = torch.zeros(self.batch_size, device=self.device, dtype=torch.bool)\n",
    "        for i in range(self.batch_size[0]):\n",
    "            done_out[i] = done.get(i, False)\n",
    "        return done_out, False\n",
    "\n",
    "    def read_obs(self, obs, dtype=None):\n",
    "        max_items = self.batch_size[0]\n",
    "        z = None\n",
    "        for _array in obs.values():\n",
    "            if _array is not None:\n",
    "                z = _array * 0\n",
    "                break\n",
    "        if z is None:\n",
    "            raise RuntimeError(\"no data\")\n",
    "        array = [obs[i] if i in obs else z for i in range(max_items)]\n",
    "        array = np.array(array)\n",
    "        if dtype:\n",
    "            tensor = torch.as_tensor(array, dtype=dtype)\n",
    "        else:\n",
    "            tensor = torch.as_tensor(array)\n",
    "        return {\"next_observation\": tensor}\n",
    "\n",
    "    def _reset(self, tensordict):\n",
    "        out = super()._reset()\n",
    "        while not out[\"next_observation\"].any():\n",
    "            out = super()._reset()\n",
    "        return out"
   ]
  },
  {
   "cell_type": "markdown",
   "id": "37020e92-e0ae-4c1e-97a3-a61e52dee835",
   "metadata": {},
   "source": [
    "## Policy and value model"
   ]
  },
  {
   "cell_type": "code",
   "execution_count": 7,
   "id": "b3135fbc-86d0-45ad-84a8-3ca6081c0352",
   "metadata": {},
   "outputs": [],
   "source": [
    "from torch.nn import LSTM, LSTMCell, GRU\n",
    "from torchrl.modules import MLP\n",
    "from torchrl.envs.utils import set_exploration_mode\n",
    "from torch import nn\n",
    "from torchrl.envs import EnvCreator\n",
    "\n",
    "with initialize(version_base=None, config_path=\"../../../Repos/RL/nocturne/cfgs/\"):\n",
    "    cfg = compose(config_name=\"config.yaml\")\n",
    "\n",
    "num_lstm_layers = 2\n",
    "def make_env(cfg=cfg):\n",
    "\n",
    "    env = NocturneWrapper(cfg)\n",
    "    hidden_names = [*[f\"next_hidden{j}\" for j in range(num_lstm_layers)]]\n",
    "    hidden_values = [NdUnboundedContinuousTensorSpec(512) for _ in range(num_lstm_layers)]\n",
    "    hidden_specs = {n: val for n, val in zip(hidden_names, hidden_values)}\n",
    "    env = TransformedEnv(env, TensorDictPrimer(**hidden_specs))\n",
    "    return env\n",
    "make_env = EnvCreator(make_env)"
   ]
  },
  {
   "cell_type": "code",
   "execution_count": 8,
   "id": "6dd70d72-4eff-46c1-9c34-fb14c59b44d9",
   "metadata": {},
   "outputs": [],
   "source": [
    "class PolicyNet(nn.Module):\n",
    "    def __init__(self, out_features, device=\"cpu\", num_lstm_layers=2):\n",
    "        super().__init__()\n",
    "        self.num_lstm_layers = num_lstm_layers\n",
    "        self.lstm_states = LSTM(13470, 256, bidirectional=True, num_layers=2, batch_first=False, device=device)\n",
    "        self.gru_temporal = nn.ModuleList([GRU(512, 512, bidirectional=False, num_layers=1, batch_first=True, device=device) for _ in range(num_lstm_layers)])\n",
    "        # self.lstm_temporal1 = \n",
    "        # self.lstm_temporal2 = GRU(512, 512, bidirectional=False, num_layers=2, batch_first=True, device=device)\n",
    "        self.net = MLP(out_features=out_features, num_cells=[128, 128], activation_class=nn.ELU)\n",
    "    \n",
    "    def forward(self, observation, *hiddens):\n",
    "        unsqueeze = False\n",
    "        if observation.ndimension() == 2:\n",
    "            unsqueeze = True\n",
    "            # we assume a single time step\n",
    "            observation = observation.unsqueeze(1)  # time is at dim 1\n",
    "        embed, _ = self.lstm_states(observation)\n",
    "        if unsqueeze:\n",
    "            # hidden has shape [batch x D]\n",
    "            hiddens = [hidden.unsqueeze(1) for hidden in hiddens]\n",
    "        else:\n",
    "            # hidden has shape [batch x time_steps x D]\n",
    "            # we have one hidden state per time step, we just need one\n",
    "            hiddens = [hidden[:, -1:] for hidden in hiddens]\n",
    "\n",
    "        next_hiddens = []\n",
    "        # all_none = all(_hidden is None for _hidden in hiddens)\n",
    "        for i in range(self.num_lstm_layers):\n",
    "            _hiddens = hiddens[i]\n",
    "            embed, hidden = self.gru_temporal[i](embed, _hiddens.transpose(0, 1))\n",
    "            # embed is of size batch x time x D\n",
    "            # hidden is of size 1 x batch x D\n",
    "            # we can discard hidden, which is equal to embed\n",
    "            next_hiddens.append(embed)\n",
    "        \n",
    "        #     embed = next_hiddens[-2]\n",
    "        # if not unsqueeze:\n",
    "        #     next_hiddens = [next_hidden.unflatten(0, shape) for next_hidden in next_hiddens]\n",
    "        #     embed = embed.unflatten(0, shape)\n",
    "        \n",
    "        embed = self.net(embed)\n",
    "        if unsqueeze:\n",
    "            embed = embed.squeeze(1)\n",
    "            next_hiddens = [next_hidden.squeeze(1) for next_hidden in next_hiddens]\n",
    "        return (embed, *next_hiddens)\n"
   ]
  },
  {
   "cell_type": "markdown",
   "id": "008cd5c8-9921-4d59-a75a-d8cd9e8e6422",
   "metadata": {
    "tags": []
   },
   "source": [
    "### Wrapping networks in tensordict modules"
   ]
  },
  {
   "cell_type": "code",
   "execution_count": 9,
   "id": "8365fd72-c98b-43e5-b2bf-dba563e3d2cd",
   "metadata": {},
   "outputs": [
    {
     "name": "stderr",
     "output_type": "stream",
     "text": [
      "/Users/vmoens/venv/nocturne/lib/python3.8/site-packages/torch/nn/modules/lazy.py:180: UserWarning: Lazy modules are a new feature under heavy development so changes to the API or functionality can happen at any moment.\n",
      "  warnings.warn('Lazy modules are a new feature under heavy development '\n"
     ]
    },
    {
     "data": {
      "text/plain": [
       "TensorDict(\n",
       "    fields={\n",
       "        done: Tensor(torch.Size([20, 1]), dtype=torch.bool),\n",
       "        hidden0: Tensor(torch.Size([20, 512]), dtype=torch.float32),\n",
       "        hidden1: Tensor(torch.Size([20, 512]), dtype=torch.float32),\n",
       "        next_hidden0: Tensor(torch.Size([20, 512]), dtype=torch.float32),\n",
       "        next_hidden1: Tensor(torch.Size([20, 512]), dtype=torch.float32),\n",
       "        observation: Tensor(torch.Size([20, 13470]), dtype=torch.float32),\n",
       "        state_value: Tensor(torch.Size([20, 1]), dtype=torch.float32)},\n",
       "    batch_size=torch.Size([20]),\n",
       "    device=cpu,\n",
       "    is_shared=False)"
      ]
     },
     "execution_count": 9,
     "metadata": {},
     "output_type": "execute_result"
    }
   ],
   "source": [
    "from torchrl.modules import ProbabilisticActor, TensorDictModule, ValueOperator, NormalParamWrapper\n",
    "from torchrl.modules.distributions import IndependentNormal\n",
    "env = make_env()\n",
    "\n",
    "policy_net = NormalParamWrapper(PolicyNet(2 * env.action_spec.shape[-1]), scale_mapping=\"biased_softplus_0.1\")\n",
    "value_net = PolicyNet(1)\n",
    "\n",
    "actor = ProbabilisticActor(\n",
    "    TensorDictModule(\n",
    "        policy_net, \n",
    "         [\"observation\", *[f\"hidden{j}\" for j in range(num_lstm_layers)]], \n",
    "         [\"loc\", \"scale\", *[f\"next_hidden{j}\" for j in range(num_lstm_layers)]]),\n",
    "    distribution_class=IndependentNormal,\n",
    "    dist_param_keys=[\"loc\", \"scale\"],\n",
    "    out_key_sample=[\"action\"],\n",
    "    return_log_prob=True,\n",
    ")\n",
    "\n",
    "value = TensorDictModule(\n",
    "    value_net, \n",
    "    in_keys=[\"observation\", *[f\"hidden{j}\" for j in range(num_lstm_layers)]], \n",
    "    out_keys=[\"state_value\", *[f\"next_hidden{j}\" for j in range(num_lstm_layers)]],\n",
    ")\n",
    "actor(env.reset())\n",
    "value(env.reset())\n"
   ]
  },
  {
   "cell_type": "markdown",
   "id": "baca6208-30fe-4906-8e5d-16edbe0abe5f",
   "metadata": {},
   "source": [
    "## Loss function"
   ]
  },
  {
   "cell_type": "code",
   "execution_count": 10,
   "id": "aac6c40a-22c3-41c9-90ae-8075a6dd8e49",
   "metadata": {},
   "outputs": [],
   "source": [
    "from torchrl.objectives import ClipPPOLoss, TDLambdaEstimate"
   ]
  },
  {
   "cell_type": "code",
   "execution_count": 11,
   "id": "1f6a6c6b-f71e-4768-b717-89977a91e9ab",
   "metadata": {},
   "outputs": [],
   "source": [
    "value_estimator = TDLambdaEstimate(0.99, 0.95, value)"
   ]
  },
  {
   "cell_type": "code",
   "execution_count": 12,
   "id": "8ea2733c-8bf4-4b4c-b2f1-1cc9b9f1db40",
   "metadata": {},
   "outputs": [],
   "source": [
    "loss_module = ClipPPOLoss(actor, value)\n",
    "optim = torch.optim.Adam(loss_module.parameters(), 5e-3)"
   ]
  },
  {
   "cell_type": "markdown",
   "id": "2c7bcce1-eb86-4bfc-bf17-d0b18fb065c0",
   "metadata": {},
   "source": [
    "## Data collector\n"
   ]
  },
  {
   "cell_type": "code",
   "execution_count": 13,
   "id": "67f63560-901c-4e08-9f9d-0fc96a25e6c3",
   "metadata": {},
   "outputs": [],
   "source": [
    "from torchrl.collectors import SyncDataCollector\n",
    "\n",
    "collector = SyncDataCollector(make_env, actor, frames_per_batch=frames_per_batch, max_frames_per_traj=max_frames_per_traj, device=device, total_frames=total_frames, split_trajs=False)"
   ]
  },
  {
   "cell_type": "code",
   "execution_count": null,
   "id": "4b05b98c-a2cc-49b2-af1b-f025b6425ffb",
   "metadata": {},
   "outputs": [],
   "source": []
  },
  {
   "cell_type": "code",
   "execution_count": null,
   "id": "8069d836-0d31-4e86-a66a-05a2f4e293ff",
   "metadata": {},
   "outputs": [
    {
     "data": {
      "text/plain": [
       "<Figure size 640x480 with 0 Axes>"
      ]
     },
     "metadata": {},
     "output_type": "display_data"
    },
    {
     "data": {
      "image/png": "[encoded data removed]",
      "text/plain": [
       "<Figure size 640x480 with 1 Axes>"
      ]
     },
     "metadata": {},
     "output_type": "display_data"
    },
    {
     "name": "stderr",
     "output_type": "stream",
     "text": [
      "total_reward=-0.0542:   3%|█████                                                                                                                                                           | 160000/5000000 [57:59<24:58:11, 53.84it/s]"
     ]
    }
   ],
   "source": [
    "pbar = tqdm.tqdm(total=total_frames)\n",
    "\n",
    "frames = []\n",
    "rewards = []\n",
    "for i, d in enumerate(collector):\n",
    "    idx = d[\"observation\"].sum(1).any(-1)\n",
    "    frames.append(d.numel())\n",
    "    if len(frames) > 1:\n",
    "        frames[-1] = frames[-2] + frames[-1]\n",
    "    rewards.append(d['reward'][idx].mean())\n",
    "    pbar.update(d.numel())\n",
    "    for j in range(n_optim_per_batch):\n",
    "        tensordict = value_estimator(d)\n",
    "        losses = loss_module(tensordict)\n",
    "        loss = sum([v.mean() for k, v in losses.items() if k.startswith(\"loss_\")])\n",
    "        loss.backward()\n",
    "        optim.step()\n",
    "        optim.zero_grad()\n",
    "    pbar.set_description(f\"total_reward={rewards[-1]: 4.4f}\")\n",
    "    if i % 10 == 0:\n",
    "        display.clear_output(wait=True)\n",
    "        display.display(plt.gcf())\n",
    "        plt.plot(frames, rewards)\n",
    "        plt.show()\n",
    "    collector.update_policy_weights_()\n"
   ]
  },
  {
   "cell_type": "code",
   "execution_count": null,
   "id": "f9f364fa-e9e9-4345-8878-5f48b6b65645",
   "metadata": {},
   "outputs": [],
   "source": [
    "d.shape"
   ]
  },
  {
   "cell_type": "code",
   "execution_count": null,
   "id": "efdcc1f5-a18c-42a7-9026-e29ac0a287f9",
   "metadata": {},
   "outputs": [],
   "source": []
  },
  {
   "cell_type": "code",
   "execution_count": null,
   "id": "b74497a1-0838-4ace-8b1a-f010fab983a9",
   "metadata": {},
   "outputs": [],
   "source": []
  },
  {
   "cell_type": "code",
   "execution_count": null,
   "id": "96edec71-b8eb-4d6c-a8fc-879a38176b54",
   "metadata": {},
   "outputs": [],
   "source": []
  }
 ],
 "metadata": {
  "kernelspec": {
   "display_name": "Python 3 (ipykernel)",
   "language": "python",
   "name": "python3"
  },
  "language_info": {
   "codemirror_mode": {
    "name": "ipython",
    "version": 3
   },
   "file_extension": ".py",
   "mimetype": "text/x-python",
   "name": "python",
   "nbconvert_exporter": "python",
   "pygments_lexer": "ipython3",
   "version": "3.8.3"
  }
 },
 "nbformat": 4,
 "nbformat_minor": 5
}
