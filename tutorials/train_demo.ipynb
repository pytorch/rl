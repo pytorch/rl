{
 "cells": [
  {
   "cell_type": "markdown",
   "id": "c2e7018e-62a9-4d3f-9e75-343e8910e981",
   "metadata": {},
   "source": [
    "# TorchRL overview"
   ]
  },
  {
   "cell_type": "code",
   "execution_count": null,
   "id": "3c75a1ad-128c-4a8c-b387-7021dd6767a1",
   "metadata": {},
   "outputs": [],
   "source": []
  }
 ],
 "metadata": {
  "kernelspec": {
   "display_name": "Python 3 (ipykernel)",
   "language": "python",
   "name": "python3"
  },
  "language_info": {
   "codemirror_mode": {
    "name": "ipython",
    "version": 3
   },
   "file_extension": ".py",
   "mimetype": "text/x-python",
   "name": "python",
   "nbconvert_exporter": "python",
   "pygments_lexer": "ipython3",
   "version": "3.8.3"
  }
 },
 "nbformat": 4,
 "nbformat_minor": 5
}
