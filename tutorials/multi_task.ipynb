{
 "cells": [
  {
   "cell_type": "markdown",
   "id": "0e971c71-dc14-46db-a3a0-a71423ebece0",
   "metadata": {},
   "source": [
    "# Task-specific policy"
   ]
  },
  {
   "cell_type": "code",
   "execution_count": 10,
   "id": "b2c1c6c2-0ce0-42de-805a-b37fbccaa9dd",
   "metadata": {},
   "outputs": [],
   "source": [
    "from torchrl.envs import DMControlEnv, TransformedEnv, CatTensors, Compose, DoubleToFloat\n",
    "from torchrl.modules import TensorDictModule, TensorDictSequence, MLP\n",
    "from torch import nn\n",
    "import torch"
   ]
  },
  {
   "cell_type": "code",
   "execution_count": 23,
   "id": "2d9cb67c-8c01-4d13-9590-cb9947c89221",
   "metadata": {},
   "outputs": [],
   "source": [
    "env1 = DMControlEnv(\"humanoid\", \"stand\")\n",
    "env1 = TransformedEnv(\n",
    "    env1, \n",
    "    Compose(\n",
    "        CatTensors(list(env1.observation_spec.keys()), \"next_observation_stand\", del_keys=False),\n",
    "        CatTensors(list(env1.observation_spec.keys()), \"next_observation\"),\n",
    "        DoubleToFloat(keys_in=[\"next_observation_stand\", \"next_observation\"], keys_inv_in=[\"action\"]),\n",
    "    )\n",
    ")\n",
    "env2 = DMControlEnv(\"humanoid\", \"walk\")\n",
    "env2 = TransformedEnv(\n",
    "    env2, \n",
    "    Compose(\n",
    "        CatTensors(list(env2.observation_spec.keys()), \"next_observation_walk\", del_keys=False),\n",
    "        CatTensors(list(env2.observation_spec.keys()), \"next_observation\"),\n",
    "        DoubleToFloat(keys_in=[\"next_observation_walk\", \"next_observation\"], keys_inv_in=[\"action\"]),\n",
    "    )\n",
    ")\n"
   ]
  },
  {
   "cell_type": "code",
   "execution_count": 24,
   "id": "a1327fde-306b-4cd0-9954-caf88bfa2e82",
   "metadata": {},
   "outputs": [
    {
     "data": {
      "text/plain": [
       "TensorDict(\n",
       "    fields={\n",
       "        done: Tensor(torch.Size([1]), dtype=torch.bool),\n",
       "        observation: Tensor(torch.Size([67]), dtype=torch.float32),\n",
       "        observation_stand: Tensor(torch.Size([67]), dtype=torch.float32)},\n",
       "    batch_size=torch.Size([]),\n",
       "    device=cpu,\n",
       "    is_shared=False)"
      ]
     },
     "execution_count": 24,
     "metadata": {},
     "output_type": "execute_result"
    }
   ],
   "source": [
    "env1.reset()"
   ]
  },
  {
   "cell_type": "code",
   "execution_count": 25,
   "id": "f9551947-7b2a-4fb7-8fd5-814fefa6c081",
   "metadata": {},
   "outputs": [
    {
     "data": {
      "text/plain": [
       "TensorDict(\n",
       "    fields={\n",
       "        done: Tensor(torch.Size([1]), dtype=torch.bool),\n",
       "        observation: Tensor(torch.Size([67]), dtype=torch.float32),\n",
       "        observation_walk: Tensor(torch.Size([67]), dtype=torch.float32)},\n",
       "    batch_size=torch.Size([]),\n",
       "    device=cpu,\n",
       "    is_shared=False)"
      ]
     },
     "execution_count": 25,
     "metadata": {},
     "output_type": "execute_result"
    }
   ],
   "source": [
    "env2.reset()"
   ]
  },
  {
   "cell_type": "code",
   "execution_count": 26,
   "id": "09a55836-a473-45ed-86c7-feae2d95771a",
   "metadata": {},
   "outputs": [],
   "source": [
    "policy_common = TensorDictModule(nn.Linear(67, 64), in_keys=[\"observation\"], out_keys=[\"hidden\"])\n",
    "policy_stand = TensorDictModule(MLP(67 + 64, 64, depth=2), in_keys=[\"observation_stand\", \"hidden\"], out_keys=[\"action_stand\"])\n",
    "policy_walk = TensorDictModule(MLP(67 + 64, 64, depth=2), in_keys=[\"observation_walk\", \"hidden\"], out_keys=[\"action_walk\"])\n",
    "seq = TensorDictSequence(policy_common, policy_stand, policy_walk, partial_tolerant=True)"
   ]
  },
  {
   "cell_type": "code",
   "execution_count": 27,
   "id": "a2650046-86bb-4dda-a041-7de52ac133a4",
   "metadata": {},
   "outputs": [
    {
     "data": {
      "text/plain": [
       "TensorDict(\n",
       "    fields={\n",
       "        action_stand: Tensor(torch.Size([64]), dtype=torch.float32),\n",
       "        done: Tensor(torch.Size([1]), dtype=torch.bool),\n",
       "        hidden: Tensor(torch.Size([64]), dtype=torch.float32),\n",
       "        observation: Tensor(torch.Size([67]), dtype=torch.float32),\n",
       "        observation_stand: Tensor(torch.Size([67]), dtype=torch.float32)},\n",
       "    batch_size=torch.Size([]),\n",
       "    device=cpu,\n",
       "    is_shared=False)"
      ]
     },
     "execution_count": 27,
     "metadata": {},
     "output_type": "execute_result"
    }
   ],
   "source": [
    "seq(env1.reset())"
   ]
  },
  {
   "cell_type": "code",
   "execution_count": 28,
   "id": "87006ff8-69b5-43db-938f-dd54a08ca027",
   "metadata": {},
   "outputs": [
    {
     "data": {
      "text/plain": [
       "TensorDict(\n",
       "    fields={\n",
       "        action_walk: Tensor(torch.Size([64]), dtype=torch.float32),\n",
       "        done: Tensor(torch.Size([1]), dtype=torch.bool),\n",
       "        hidden: Tensor(torch.Size([64]), dtype=torch.float32),\n",
       "        observation: Tensor(torch.Size([67]), dtype=torch.float32),\n",
       "        observation_walk: Tensor(torch.Size([67]), dtype=torch.float32)},\n",
       "    batch_size=torch.Size([]),\n",
       "    device=cpu,\n",
       "    is_shared=False)"
      ]
     },
     "execution_count": 28,
     "metadata": {},
     "output_type": "execute_result"
    }
   ],
   "source": [
    "seq(env2.reset())"
   ]
  },
  {
   "cell_type": "code",
   "execution_count": null,
   "id": "563281b8-8aa8-429c-b3d3-10183bbb4c6c",
   "metadata": {},
   "outputs": [],
   "source": []
  }
 ],
 "metadata": {
  "kernelspec": {
   "display_name": "Python 3 (ipykernel)",
   "language": "python",
   "name": "python3"
  },
  "language_info": {
   "codemirror_mode": {
    "name": "ipython",
    "version": 3
   },
   "file_extension": ".py",
   "mimetype": "text/x-python",
   "name": "python",
   "nbconvert_exporter": "python",
   "pygments_lexer": "ipython3",
   "version": "3.8.3"
  }
 },
 "nbformat": 4,
 "nbformat_minor": 5
}
