{
 "cells": [
  {
   "cell_type": "code",
   "execution_count": 1,
   "id": "5f53cf70-25e6-4802-a5fe-cdaacf6deff7",
   "metadata": {},
   "outputs": [],
   "source": [
    "from torch.utils._cxx_pytree import tree_map, tree_leaves, tree_flatten"
   ]
  },
  {
   "cell_type": "code",
   "execution_count": 2,
   "id": "2111a53d-0714-42bf-9051-4eaee5d8a86c",
   "metadata": {},
   "outputs": [],
   "source": [
    "from tensordict import TensorDict, lazy_stack, is_tensor_collection\n",
    "import torch\n",
    "from tensordict._pytree import *"
   ]
  },
  {
   "cell_type": "code",
   "execution_count": 3,
   "id": "951e96a4-4a8c-432a-80e3-c1d30d165ab7",
   "metadata": {},
   "outputs": [
    {
     "data": {
      "text/plain": [
       "99"
      ]
     },
     "execution_count": 3,
     "metadata": {},
     "output_type": "execute_result"
    }
   ],
   "source": [
    "d_ = d = {}\n",
    "for _ in range(100):\n",
    "    newd = {}\n",
    "    d_[\"a\"] = newd\n",
    "    d_[\"t\"] = torch.zeros((1,))\n",
    "    d_ = newd\n",
    "td = TensorDict(d, batch_size=(1,))\n",
    "td.depth"
   ]
  },
  {
   "cell_type": "code",
   "execution_count": 4,
   "id": "53df5c9e-aac3-4b84-95ed-9619273da95f",
   "metadata": {},
   "outputs": [
    {
     "name": "stdout",
     "output_type": "stream",
     "text": [
      "581 μs ± 9.34 μs per loop (mean ± std. dev. of 7 runs, 1,000 loops each)\n"
     ]
    }
   ],
   "source": [
    "%%timeit\n",
    "tree_map(lambda x: x+1, td)"
   ]
  },
  {
   "cell_type": "code",
   "execution_count": 5,
   "id": "7ff87f96-00c3-4134-926e-d2dba44d0b11",
   "metadata": {},
   "outputs": [
    {
     "name": "stdout",
     "output_type": "stream",
     "text": [
      "2.32 ms ± 37.5 μs per loop (mean ± std. dev. of 7 runs, 100 loops each)\n"
     ]
    }
   ],
   "source": [
    "%%timeit\n",
    "td + 1"
   ]
  },
  {
   "cell_type": "code",
   "execution_count": 6,
   "id": "5e370705-afe2-44d0-bb79-088f4b4c7c75",
   "metadata": {},
   "outputs": [
    {
     "name": "stdout",
     "output_type": "stream",
     "text": [
      "694 μs ± 9.36 μs per loop (mean ± std. dev. of 7 runs, 1,000 loops each)\n"
     ]
    }
   ],
   "source": [
    "%%timeit\n",
    "td.apply(lambda x: x+1)"
   ]
  },
  {
   "cell_type": "code",
   "execution_count": 7,
   "id": "e3f93951-7be8-4be5-a385-735d456dc9d5",
   "metadata": {},
   "outputs": [
    {
     "data": {
      "text/plain": [
       "torch.Size([1])"
      ]
     },
     "execution_count": 7,
     "metadata": {},
     "output_type": "execute_result"
    }
   ],
   "source": [
    "tree_map(lambda x: x+1, td).batch_size"
   ]
  },
  {
   "cell_type": "code",
   "execution_count": 8,
   "id": "6a76f7f9-a813-4cba-92c8-a90240050a99",
   "metadata": {},
   "outputs": [],
   "source": [
    "assert (tree_map(lambda x: x+1, td) == 1).all()"
   ]
  },
  {
   "cell_type": "code",
   "execution_count": 9,
   "id": "8b6a46c1-6dbc-4aa4-868c-6891453efb32",
   "metadata": {},
   "outputs": [
    {
     "name": "stdout",
     "output_type": "stream",
     "text": [
      "214 μs ± 2.42 μs per loop (mean ± std. dev. of 7 runs, 1,000 loops each)\n"
     ]
    }
   ],
   "source": [
    "%%timeit\n",
    "tree_flatten(td)"
   ]
  },
  {
   "cell_type": "code",
   "execution_count": 10,
   "id": "68fbb5c4-1d89-4620-ac27-8761b97b18e8",
   "metadata": {},
   "outputs": [
    {
     "name": "stdout",
     "output_type": "stream",
     "text": [
      "287 μs ± 7.88 μs per loop (mean ± std. dev. of 7 runs, 1,000 loops each)\n"
     ]
    }
   ],
   "source": [
    "%%timeit\n",
    "list(td.values(True, True))"
   ]
  },
  {
   "cell_type": "code",
   "execution_count": 11,
   "id": "1fa58391-21b6-4f18-9b20-dd4165f7c877",
   "metadata": {},
   "outputs": [],
   "source": [
    "d_ = d = {}\n",
    "for _ in range(10):\n",
    "    newd = {}\n",
    "    d_[\"a\"] = newd\n",
    "    d_[\"t\"] = torch.zeros((1,))\n",
    "    d_ = newd\n",
    "tdls = TensorDict(d, batch_size=(1,))\n",
    "tdls.depth\n",
    "\n",
    "tdls = lazy_stack([tdls.clone() for _ in range(100)])"
   ]
  },
  {
   "cell_type": "code",
   "execution_count": 12,
   "id": "d87daadc-0a5e-46c6-8382-f6599d199d36",
   "metadata": {},
   "outputs": [
    {
     "data": {
      "text/plain": [
       "torch.Size([100, 1])"
      ]
     },
     "execution_count": 12,
     "metadata": {},
     "output_type": "execute_result"
    }
   ],
   "source": [
    "tree_map(lambda x: x+1, tdls).batch_size"
   ]
  },
  {
   "cell_type": "code",
   "execution_count": 13,
   "id": "015dbd32-cf97-4b60-9d56-550f82e7e238",
   "metadata": {},
   "outputs": [
    {
     "name": "stdout",
     "output_type": "stream",
     "text": [
      "6.07 ms ± 75.1 μs per loop (mean ± std. dev. of 7 runs, 100 loops each)\n"
     ]
    }
   ],
   "source": [
    "%%timeit\n",
    "tree_map(lambda x: x+1, tdls)"
   ]
  },
  {
   "cell_type": "code",
   "execution_count": 14,
   "id": "7cff3ea1-239c-4cab-9d47-2a7f31862b74",
   "metadata": {},
   "outputs": [
    {
     "name": "stdout",
     "output_type": "stream",
     "text": [
      "6.29 ms ± 101 μs per loop (mean ± std. dev. of 7 runs, 100 loops each)\n"
     ]
    }
   ],
   "source": [
    "%%timeit\n",
    "tdls + 1"
   ]
  },
  {
   "cell_type": "code",
   "execution_count": 15,
   "id": "e2a0a78c-0401-4d6c-92c7-b3ddbe74de42",
   "metadata": {},
   "outputs": [
    {
     "name": "stdout",
     "output_type": "stream",
     "text": [
      "7.1 ms ± 130 μs per loop (mean ± std. dev. of 7 runs, 100 loops each)\n"
     ]
    }
   ],
   "source": [
    "%%timeit\n",
    "tdls.apply(lambda x: x+1)"
   ]
  },
  {
   "cell_type": "code",
   "execution_count": null,
   "id": "2fc590d1-0774-4f79-90a2-98fe6b3ac2c3",
   "metadata": {},
   "outputs": [],
   "source": [
    "%%timeit\n",
    "tree_flatten(tdls)"
   ]
  },
  {
   "cell_type": "code",
   "execution_count": null,
   "id": "579a2a89-802b-4f5b-9354-7a9cbb5530f5",
   "metadata": {},
   "outputs": [],
   "source": [
    "%%timeit\n",
    "list(tdls.values(True, True))"
   ]
  },
  {
   "cell_type": "code",
   "execution_count": null,
   "id": "01f21ad4-57f6-4523-9b48-eb2697c9f8ec",
   "metadata": {},
   "outputs": [],
   "source": []
  }
 ],
 "metadata": {
  "kernelspec": {
   "display_name": "Python 3 (ipykernel)",
   "language": "python",
   "name": "python3"
  },
  "language_info": {
   "codemirror_mode": {
    "name": "ipython",
    "version": 3
   },
   "file_extension": ".py",
   "mimetype": "text/x-python",
   "name": "python",
   "nbconvert_exporter": "python",
   "pygments_lexer": "ipython3",
   "version": "3.10.16"
  }
 },
 "nbformat": 4,
 "nbformat_minor": 5
}
