{
  "cells": [
    {
      "cell_type": "markdown",
      "metadata": {},
      "source": [
        "\n# Get started with TorchRL's modules\n\n**Author**: [Vincent Moens](https://github.com/vmoens)\n\n\n<div class=\"alert alert-info\"><h4>Note</h4><p>To run this tutorial in a notebook, add an installation cell\n  at the beginning containing:\n\n```\n!pip install tensordict\n!pip install torchrl</p></div>\n```\n"
      ]
    },
    {
      "cell_type": "markdown",
      "metadata": {},
      "source": [
        "Reinforcement Learning is designed to create policies that can effectively\ntackle specific tasks. Policies can take various forms, from a differentiable\nmap transitioning from the observation space to the action space, to a more\nad-hoc method like an argmax over a list of values computed for each possible\naction. Policies can be deterministic or stochastic, and may incorporate\ncomplex elements such as Recurrent Neural Networks (RNNs) or transformers.\n\nAccommodating all these scenarios can be quite intricate. In this succinct\ntutorial, we will delve into the core functionality of TorchRL in terms of\npolicy construction. We will primarily focus on stochastic and Q-Value\npolicies in two common scenarios: using a Multi-Layer Perceptron (MLP) or\na Convolutional Neural Network (CNN) as backbones.\n\n## TensorDictModules\n\nSimilar to how environments interact with instances of\n:class:`~tensordict.TensorDict`, the modules used to represent policies and\nvalue functions also do the same. The core idea is simple: encapsulate a\nstandard :class:`~torch.nn.Module` (or any other function) within a class\nthat knows which entries need to be read and passed to the module, and then\nrecords the results with the assigned entries. To illustrate this, we will\nuse the simplest policy possible: a deterministic map from the observation\nspace to the action space. For maximum generality, we will use a\n:class:`~torch.nn.LazyLinear` module with the Pendulum environment we\ninstantiated in the previous tutorial.\n\n\n"
      ]
    },
    {
      "cell_type": "code",
      "execution_count": null,
      "metadata": {
        "collapsed": false
      },
      "outputs": [],
      "source": [
        "import torch\n\nfrom tensordict.nn import TensorDictModule\nfrom torchrl.envs import GymEnv\n\nenv = GymEnv(\"Pendulum-v1\")\nmodule = torch.nn.LazyLinear(out_features=env.action_spec.shape[-1])\npolicy = TensorDictModule(\n    module,\n    in_keys=[\"observation\"],\n    out_keys=[\"action\"],\n)"
      ]
    },
    {
      "cell_type": "markdown",
      "metadata": {},
      "source": [
        "This is all that's required to execute our policy! The use of a lazy module\nallows us to bypass the need to fetch the shape of the observation space, as\nthe module will automatically determine it. This policy is now ready to be\nrun in the environment:\n\n"
      ]
    },
    {
      "cell_type": "code",
      "execution_count": null,
      "metadata": {
        "collapsed": false
      },
      "outputs": [],
      "source": [
        "rollout = env.rollout(max_steps=10, policy=policy)\nprint(rollout)"
      ]
    },
    {
      "cell_type": "markdown",
      "metadata": {},
      "source": [
        "## Specialized wrappers\n\nTo simplify the incorporation of :class:`~torch.nn.Module`s into your\ncodebase, TorchRL offers a range of specialized wrappers designed to be\nused as actors, including :class:`~torchrl.modules.tensordict_module.Actor`,\n# :class:`~torchrl.modules.tensordict_module.ProbabilisticActor`,\n# :class:`~torchrl.modules.tensordict_module.ActorValueOperator` or\n# :class:`~torchrl.modules.tensordict_module.ActorCriticOperator`.\nFor example, :class:`~torchrl.modules.tensordict_module.Actor` provides\ndefault values for the ``in_keys`` and ``out_keys``, making integration\nwith many common environments straightforward:\n\n\n"
      ]
    },
    {
      "cell_type": "code",
      "execution_count": null,
      "metadata": {
        "collapsed": false
      },
      "outputs": [],
      "source": [
        "from torchrl.modules import Actor\n\npolicy = Actor(module)\nrollout = env.rollout(max_steps=10, policy=policy)\nprint(rollout)"
      ]
    },
    {
      "cell_type": "markdown",
      "metadata": {},
      "source": [
        "The list of available specialized TensorDictModules is available in the\n`API reference <tdmodules>`.\n\n## Networks\n\nTorchRL also provides regular modules that can be used without recurring to\ntensordict features. The two most common networks you will encounter are\nthe :class:`~torchrl.modules.MLP` and the :class:`~torchrl.modules.ConvNet`\n(CNN) modules. We can substitute our policy module with one of these:\n\n\n"
      ]
    },
    {
      "cell_type": "code",
      "execution_count": null,
      "metadata": {
        "collapsed": false
      },
      "outputs": [],
      "source": [
        "from torchrl.modules import MLP\n\nmodule = MLP(\n    out_features=env.action_spec.shape[-1],\n    num_cells=[32, 64],\n    activation_class=torch.nn.Tanh,\n)\npolicy = Actor(module)\nrollout = env.rollout(max_steps=10, policy=policy)"
      ]
    },
    {
      "cell_type": "markdown",
      "metadata": {},
      "source": [
        "TorchRL also supports RNN-based policies. Since this is a more technical\ntopic, it is treated in `a separate tutorial <RNN_tuto>`.\n\n## Probabilistic policies\n\nPolicy-optimization algorithms like\n[PPO](https://arxiv.org/abs/1707.06347) require the policy to be\nstochastic: unlike in the examples above, the module now encodes a map from\nthe observation space to a parameter space encoding a distribution over the\npossible actions. TorchRL facilitates the design of such modules by grouping\nunder a single class the various operations such as building the distribution\nfrom the parameters, sampling from that distribution and retrieving the\nlog-probability. Here, we'll be building an actor that relies on a regular\nnormal distribution using three components:\n\n- An :class:`~torchrl.modules.MLP` backbone reading observations of size\n  ``[3]`` and outputting a single tensor of size ``[2]``;\n- A :class:`~tensordict.nn.distributions.NormalParamExtractor` module that\n  will split this output on two chunks, a mean and a standard deviation of\n  size ``[1]``;\n- A :class:`~torchrl.modules.tensordict_module.ProbabilisticActor` that will\n  read those parameters as ``in_keys``, create a distribution with them and\n  populate our tensordict with samples and log-probabilities.\n\n\n"
      ]
    },
    {
      "cell_type": "code",
      "execution_count": null,
      "metadata": {
        "collapsed": false
      },
      "outputs": [],
      "source": [
        "from tensordict.nn.distributions import NormalParamExtractor\nfrom torch.distributions import Normal\nfrom torchrl.modules import ProbabilisticActor\n\nbackbone = MLP(in_features=3, out_features=2)\nextractor = NormalParamExtractor()\nmodule = torch.nn.Sequential(backbone, extractor)\ntd_module = TensorDictModule(module, in_keys=[\"observation\"], out_keys=[\"loc\", \"scale\"])\npolicy = ProbabilisticActor(\n    td_module,\n    in_keys=[\"loc\", \"scale\"],\n    out_keys=[\"action\"],\n    distribution_class=Normal,\n    return_log_prob=True,\n)\n\nrollout = env.rollout(max_steps=10, policy=policy)\nprint(rollout)"
      ]
    },
    {
      "cell_type": "markdown",
      "metadata": {},
      "source": [
        "There are a few things to note about this rollout:\n\n- Since we asked for it during the construction of the actor, the\n  log-probability of the actions given the distribution at that time is\n  also written. This is necessary for algorithms like PPO.\n- The parameters of the distribution are returned within the output\n  tensordict too under the ``\"loc\"`` and ``\"scale\"`` entries.\n\nYou can control the sampling of the action to use the expected value or\nother properties of the distribution instead of using random samples if\nyour application requires it. This can be controlled via the\n:func:`~torchrl.envs.utils.set_exploration_type` function:\n\n"
      ]
    },
    {
      "cell_type": "code",
      "execution_count": null,
      "metadata": {
        "collapsed": false
      },
      "outputs": [],
      "source": [
        "from torchrl.envs.utils import ExplorationType, set_exploration_type\n\nwith set_exploration_type(ExplorationType.DETERMINISTIC):\n    # takes the mean as action\n    rollout = env.rollout(max_steps=10, policy=policy)\nwith set_exploration_type(ExplorationType.RANDOM):\n    # Samples actions according to the dist\n    rollout = env.rollout(max_steps=10, policy=policy)"
      ]
    },
    {
      "cell_type": "markdown",
      "metadata": {},
      "source": [
        "Check the ``default_interaction_type`` keyword argument in\nthe docstrings to know more.\n\n## Exploration\n\nStochastic policies like this somewhat naturally trade off exploration and\nexploitation, but deterministic policies won't. Fortunately, TorchRL can\nalso palliate to this with its exploration modules.\nWe will take the example of the :class:`~torchrl.modules.EGreedyModule`\nexploration module (check also\n:class:`~torchrl.modules.AdditiveGaussianModule` and\n:class:`~torchrl.modules.OrnsteinUhlenbeckProcessModule`).\nTo see this module in action, let's revert to a deterministic policy:\n\n"
      ]
    },
    {
      "cell_type": "code",
      "execution_count": null,
      "metadata": {
        "collapsed": false
      },
      "outputs": [],
      "source": [
        "from tensordict.nn import TensorDictSequential\nfrom torchrl.modules import EGreedyModule\n\npolicy = Actor(MLP(3, 1, num_cells=[32, 64]))"
      ]
    },
    {
      "cell_type": "markdown",
      "metadata": {},
      "source": [
        "Our $\\epsilon$-greedy exploration module will usually be customized\nwith a number of annealing frames and an initial value for the\n$\\epsilon$ parameter. A value of $\\epsilon = 1$ means that every\naction taken is random, while $\\epsilon=0$ means that there is no\nexploration at all. To anneal (i.e., decrease) the exploration factor, a call\nto :meth:`~torchrl.modules.EGreedyModule.step` is required (see the last\n`tutorial <gs_first_training>` for an example).\n\n\n"
      ]
    },
    {
      "cell_type": "code",
      "execution_count": null,
      "metadata": {
        "collapsed": false
      },
      "outputs": [],
      "source": [
        "exploration_module = EGreedyModule(\n    spec=env.action_spec, annealing_num_steps=1000, eps_init=0.5\n)"
      ]
    },
    {
      "cell_type": "markdown",
      "metadata": {},
      "source": [
        "To build our explorative policy, we only had to concatenate the\ndeterministic policy module with the exploration module within a\n:class:`~tensordict.nn.TensorDictSequential` module (which is the analogous\nto :class:`~torch.nn.Sequential` in the tensordict realm).\n\n"
      ]
    },
    {
      "cell_type": "code",
      "execution_count": null,
      "metadata": {
        "collapsed": false
      },
      "outputs": [],
      "source": [
        "exploration_policy = TensorDictSequential(policy, exploration_module)\n\nwith set_exploration_type(ExplorationType.DETERMINISTIC):\n    # Turns off exploration\n    rollout = env.rollout(max_steps=10, policy=exploration_policy)\nwith set_exploration_type(ExplorationType.RANDOM):\n    # Turns on exploration\n    rollout = env.rollout(max_steps=10, policy=exploration_policy)"
      ]
    },
    {
      "cell_type": "markdown",
      "metadata": {},
      "source": [
        "Because it must be able to sample random actions in the action space, the\n:class:`~torchrl.modules.EGreedyModule` must be equipped with the\n``action_space`` from the environment to know what strategy to use to\nsample actions randomly.\n\n## Q-Value actors\n\nIn some settings, the policy isn't a standalone module but is constructed on\ntop of another module. This is the case with **Q-Value actors**. In short, these\nactors require an estimate of the action value (most of the time discrete)\nand will greedily pick up the action with the highest value. In some\nsettings (finite discrete action space and finite discrete state space),\none can just store a 2D table of state-action pairs and pick up the\naction with the highest value. The innovation brought by\n[DQN](https://arxiv.org/abs/1312.5602) was to scale this up to continuous\nstate spaces by utilizing a neural network to encode for the ``Q(s, a)``\nvalue map. Let's consider another environment with a discrete action space\nfor a clearer understanding:\n\n"
      ]
    },
    {
      "cell_type": "code",
      "execution_count": null,
      "metadata": {
        "collapsed": false
      },
      "outputs": [],
      "source": [
        "env = GymEnv(\"CartPole-v1\")\nprint(env.action_spec)"
      ]
    },
    {
      "cell_type": "markdown",
      "metadata": {},
      "source": [
        "We build a value network that produces one value per action when it reads a\nstate from the environment:\n\n"
      ]
    },
    {
      "cell_type": "code",
      "execution_count": null,
      "metadata": {
        "collapsed": false
      },
      "outputs": [],
      "source": [
        "num_actions = 2\nvalue_net = TensorDictModule(\n    MLP(out_features=num_actions, num_cells=[32, 32]),\n    in_keys=[\"observation\"],\n    out_keys=[\"action_value\"],\n)"
      ]
    },
    {
      "cell_type": "markdown",
      "metadata": {},
      "source": [
        "We can easily build our Q-Value actor by adding a\n:class:`~torchrl.modules.tensordict_module.QValueModule` after our value\nnetwork:\n\n"
      ]
    },
    {
      "cell_type": "code",
      "execution_count": null,
      "metadata": {
        "collapsed": false
      },
      "outputs": [],
      "source": [
        "from torchrl.modules import QValueModule\n\npolicy = TensorDictSequential(\n    value_net,  # writes action values in our tensordict\n    QValueModule(spec=env.action_spec),  # Reads the \"action_value\" entry by default\n)"
      ]
    },
    {
      "cell_type": "markdown",
      "metadata": {},
      "source": [
        "Let's check it out! We run the policy for a couple of steps and look at the\noutput. We should find an ``\"action_value\"`` as well as a\n``\"chosen_action_value\"`` entries in the rollout that we obtain:\n\n\n"
      ]
    },
    {
      "cell_type": "code",
      "execution_count": null,
      "metadata": {
        "collapsed": false
      },
      "outputs": [],
      "source": [
        "rollout = env.rollout(max_steps=3, policy=policy)\nprint(rollout)"
      ]
    },
    {
      "cell_type": "markdown",
      "metadata": {},
      "source": [
        "Because it relies on the ``argmax`` operator, this policy is deterministic.\nDuring data collection, we will need to explore the environment. For that,\nwe are using the :class:`~torchrl.modules.tensordict_module.EGreedyModule`\nonce again:\n\n"
      ]
    },
    {
      "cell_type": "code",
      "execution_count": null,
      "metadata": {
        "collapsed": false
      },
      "outputs": [],
      "source": [
        "policy_explore = TensorDictSequential(policy, EGreedyModule(env.action_spec))\n\nwith set_exploration_type(ExplorationType.RANDOM):\n    rollout_explore = env.rollout(max_steps=3, policy=policy_explore)"
      ]
    },
    {
      "cell_type": "markdown",
      "metadata": {},
      "source": [
        "This is it for our short tutorial on building a policy with TorchRL!\n\nThere are many more things you can do with the library. A good place to start\nis to look at the `API reference for modules <ref_modules>`.\n\nNext steps:\n\n- Check how to use compound distributions with\n  :class:`~tensordict.nn.distributions.CompositeDistribution` when the\n  action is composite (e.g., a discrete and a continuous action are\n  required by the env);\n- Have a look at how you can use an RNN within the policy (a\n  `tutorial <RNN_tuto>`);\n- Compare this to the usage of transformers with the Decision Transformers\n  examples (see the ``example`` directory on GitHub).\n\n\n"
      ]
    }
  ],
  "metadata": {
    "kernelspec": {
      "display_name": "Python 3",
      "language": "python",
      "name": "python3"
    },
    "language_info": {
      "codemirror_mode": {
        "name": "ipython",
        "version": 3
      },
      "file_extension": ".py",
      "mimetype": "text/x-python",
      "name": "python",
      "nbconvert_exporter": "python",
      "pygments_lexer": "ipython3",
      "version": "3.9.24"
    }
  },
  "nbformat": 4,
  "nbformat_minor": 0
}