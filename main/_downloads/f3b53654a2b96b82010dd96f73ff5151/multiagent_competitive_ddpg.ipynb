{
  "cells": [
    {
      "cell_type": "markdown",
      "metadata": {},
      "source": [
        "\n# Competitive Multi-Agent Reinforcement Learning (DDPG) with TorchRL Tutorial\n**Author**: [Matteo Bettini](https://github.com/matteobettini)\n\n.. seealso::\n   The [BenchMARL](https://github.com/facebookresearch/BenchMARL)_ library provides state-of-the-art\n   implementations of MARL algorithms using TorchRL.\n\nThis tutorial demonstrates how to use PyTorch and TorchRL to\nsolve a Competitive Multi-Agent Reinforcement Learning (MARL) problem.\n\nFor ease of use, this tutorial will follow the general structure of the already available :doc:`/tutorials/multiagent_ppo`.\n\nIn this tutorial, we will use the *simple_tag* environment from the\n[MADDPG paper](https://arxiv.org/abs/1706.02275)_. This environment is part\nof a set called [MultiAgentParticleEnvironments (MPE)](https://github.com/openai/multiagent-particle-envs)_\nintroduced with the paper.\n\nThere are currently multiple simulators providing MPE environments.\nIn this tutorial we show how to train this environment in TorchRL using either:\n\n- [PettingZoo](https://pettingzoo.farama.org/)_, in the traditional CPU version of the environment;\n- [VMAS](https://github.com/proroklab/VectorizedMultiAgentSimulator)_, which provides a vectorized implementation in PyTorch,\n  able to simulate multiple environments on a GPU to speed up computation.\n\n.. figure:: https://github.com/matteobettini/vmas-media/blob/main/media/scenarios/simple_tag.gif?raw=true\n   :alt: Simple tag\n\n   Multi-agent *simple_tag* scenario\n\nKey learnings:\n\n- How to use competitive multi-agent environments in TorchRL, how their specs work, and how they integrate with the library;\n- How to use Parallel PettingZoo and VMAS environments with multiple agent groups in TorchRL;\n- How to create different multi-agent network architectures in TorchRL (e.g., using parameter sharing, centralised critic)\n- How we can use :class:`~tensordict.TensorDict` to carry multi-agent multi-group data;\n- How we can tie all the library components (collectors, modules, replay buffers, and losses) in an off-policy multi-agent MADDPG/IDDPG training loop.\n"
      ]
    },
    {
      "cell_type": "markdown",
      "metadata": {},
      "source": [
        "If you are running this in Google Colab, make sure you install the following dependencies:\n\n```bash\n!pip3 install torchrl\n!pip3 install vmas\n!pip3 install pettingzoo[mpe]==1.24.3\n!pip3 install tqdm\n```\nDeep Deterministic Policy Gradient (DDPG) is an off-policy actor-critic algorithm\nwhere a deterministic policy is optimised using the gradients from the critic network.\nFor more information, see the [Deep Deterministic Policy Gradients](https://arxiv.org/abs/1509.02971) paper.\nThis kind of algorithm is typically trained off-policy. For more info on off-policy learning see\n*Sutton, Richard S., and Andrew G. Barto. Reinforcement learning: An introduction. MIT press, 2018*.\n\n.. figure:: https://pytorch.s3.amazonaws.com/torchrl/github-artifacts/img/off-policy-vmas-loop-min.png\n   :alt: Off-policy learning\n\n   Off-policy learning\n\nThis approach has been extended to multi-agent learning in [Multi-Agent Actor-Critic for Mixed Cooperative-Competitive Environments](https://arxiv.org/abs/1706.02275)_,\nwhich introduces the Multi Agent DDPG (MADDPG) algorithm.\nIn multi-agent settings, things are a bit different. We now have multiple policies $\\mathbf{\\pi}$,\none for each agent. Policies are typically local and decentralised. This means that\nthe policy for a single agent will output an action for that agent based only on its observation.\nIn the MARL literature, this is referred to as **decentralised execution**.\nOn the other hand, different formulations exist for the critic, mainly:\n\n- In [MADDPG](https://arxiv.org/abs/1706.02275) the critic is centralised and takes as input the global state and global action\n  of the system. The global state can be a global observation or simply the concatenation of the agents' observation.\n  The global action is the concatenation of agent actions. MADDPG\n  can be used in contexts where **centralised training** is performed as it needs access to global information.\n- In IDDPG, the critic takes as input just the observation and action of one agent.\n  This allows **decentralised training** as both the critic and the policy will only need local\n  information to compute their outputs.\n\nCentralised critics help overcome the non-stationary of multiple agents learning concurrently, but,\non the other hand, they may be impacted by their large input space.\nIn this tutorial, we will be able to train both formulations, and we will also discuss how\nparameter-sharing (the practice of sharing the network parameters across the agents) impacts each.\n\nThe structure of this tutorial is as follows:\n\n1. Initially, we will establish a set of hyperparameters for use.\n\n2. Subsequently, we will construct a multi-agent environment, utilizing TorchRL's\n   wrapper for either PettingZoo or VMAS.\n\n3. Following that, we will formulate the policy and critic networks, discussing the effects of various choices on\n   parameter sharing and critic centralization.\n\n4. Afterwards, we will create the sampling collector and the replay buffer.\n\n5. In the end, we will execute our training loop and examine the outcomes.\n\nIf you are operating this in Colab or on a machine with a GUI, you will also have the opportunity\nto render and visualize your own trained policy before and after the training process.\n\nImport our dependencies:\n\n\n"
      ]
    },
    {
      "cell_type": "code",
      "execution_count": null,
      "metadata": {
        "collapsed": false
      },
      "outputs": [],
      "source": [
        "import copy\nimport tempfile\n\nimport torch\n\nfrom matplotlib import pyplot as plt\nfrom tensordict import TensorDictBase\n\nfrom tensordict.nn import TensorDictModule, TensorDictSequential\nfrom torch import multiprocessing\n\nfrom torchrl.collectors import SyncDataCollector\nfrom torchrl.data import LazyMemmapStorage, RandomSampler, ReplayBuffer\n\nfrom torchrl.envs import (\n    check_env_specs,\n    ExplorationType,\n    PettingZooEnv,\n    RewardSum,\n    set_exploration_type,\n    TransformedEnv,\n    VmasEnv,\n)\n\nfrom torchrl.modules import (\n    AdditiveGaussianModule,\n    MultiAgentMLP,\n    ProbabilisticActor,\n    TanhDelta,\n)\n\nfrom torchrl.objectives import DDPGLoss, SoftUpdate, ValueEstimators\n\nfrom torchrl.record import CSVLogger, PixelRenderTransform, VideoRecorder\n\nfrom tqdm import tqdm\n\n# Check if we're building the doc, in which case disable video rendering\ntry:\n    is_sphinx = __sphinx_build__\nexcept NameError:\n    is_sphinx = False"
      ]
    },
    {
      "cell_type": "markdown",
      "metadata": {},
      "source": [
        "## Define Hyperparameters\n\nWe set the hyperparameters for our tutorial.\nDepending on the resources\navailable, one may choose to execute the policy and the simulator on GPU or on another\ndevice.\nYou can tune some of these values to adjust the computational requirements.\n\n\n"
      ]
    },
    {
      "cell_type": "code",
      "execution_count": null,
      "metadata": {
        "collapsed": false
      },
      "outputs": [],
      "source": [
        "# Seed\nseed = 0\ntorch.manual_seed(seed)\n\n# Devices\nis_fork = multiprocessing.get_start_method() == \"fork\"\ndevice = (\n    torch.device(0)\n    if torch.cuda.is_available() and not is_fork\n    else torch.device(\"cpu\")\n)\n\n# Sampling\nframes_per_batch = 1_000  # Number of team frames collected per sampling iteration\nn_iters = 10  # Number of sampling and training iterations\ntotal_frames = frames_per_batch * n_iters\n\n# We will stop training the evaders after this many iterations,\n# should be 0 <= iteration_when_stop_training_evaders <= n_iters\niteration_when_stop_training_evaders = n_iters // 2\n\n# Replay buffer\nmemory_size = 1_000_000  # The replay buffer of each group can store this many frames\n\n# Training\nn_optimiser_steps = 100  # Number of optimization steps per training iteration\ntrain_batch_size = 128  # Number of frames trained in each optimiser step\nlr = 3e-4  # Learning rate\nmax_grad_norm = 1.0  # Maximum norm for the gradients\n\n# DDPG\ngamma = 0.99  # Discount factor\npolyak_tau = 0.005  # Tau for the soft-update of the target network"
      ]
    },
    {
      "cell_type": "markdown",
      "metadata": {},
      "source": [
        "## Environment\n\nMulti-agent environments simulate multiple agents interacting with the world.\nTorchRL API allows integrating various types of multi-agent environment flavors.\nIn this tutorial we will focus on environments where multiple agent groups interact in parallel.\nThat is: at every step all agents will get an observation and take an action synchronously.\n\nFurthermore, the TorchRL MARL API allows to separate agents into groups. Each group will be a separate entry in the\ntensordict. The data of agents within a group is stacked together. Therefore, by choosing how to group your agents,\nyou can decide which data is stacked/kept as separate entries.\nThe grouping strategy can be specified at construction in environments like VMAS and PettingZoo.\nFor more info on grouping, see :class:`~torchrl.envs.utils.MarlGroupMapType`.\n\nIn the *simple_tag* environment\nthere are two teams of agents: the chasers (or \"adversaries\") (red circles) and the evaders (or \"agents\") (green circles).\nChasers are rewarded for touching evaders (+10).\nUpon a contact the team of chasers is collectively rewarded and the\nevader touched is penalized with the same value (-10).\nEvaders have higher speed and acceleration than chasers.\nIn the environment there are also obstacles (black circles).\nAgents and obstacles are spawned according to a uniform random distribution.\nAgents act in a 2D continuous world with drag and elastic collisions.\nTheir actions are 2D continuous forces which determine their acceleration.\nEach agent observes its position,\nvelocity, relative positions to all other agents and obstacles, and velocities of evaders.\n\nThe PettingZoo and VMAS versions differ slightly in the reward functions as PettingZoo penalizes evaders for going\nout-of-bounds, while VMAS impedes it physically. This is the reason why you will observe that in VMAS the rewards of the\ntwo teams are identical, just with opposite sign, while in PettingZoo the evaders will have lower rewards.\n\nWe will now instantiate the environment.\nFor this tutorial, we will limit the episodes to ``max_steps``, after which the terminated flag is set. This is\nfunctionality is already provided in the PettingZoo and VMAS simulators but the TorchRL :class:`~torchrl.envs.transforms.StepCounter`\ntransform could alternatively be used.\n\n\n"
      ]
    },
    {
      "cell_type": "code",
      "execution_count": null,
      "metadata": {
        "collapsed": false
      },
      "outputs": [],
      "source": [
        "max_steps = 100  # Environment steps before done\n\nn_chasers = 2\nn_evaders = 1\nn_obstacles = 2\n\nuse_vmas = True  # Set this to True for a great performance speedup\n\nif not use_vmas:\n    base_env = PettingZooEnv(\n        task=\"simple_tag_v3\",\n        parallel=True,  # Use the Parallel version\n        seed=seed,\n        # Scenario specific\n        continuous_actions=True,\n        num_good=n_evaders,\n        num_adversaries=n_chasers,\n        num_obstacles=n_obstacles,\n        max_cycles=max_steps,\n    )\nelse:\n    num_vmas_envs = (\n        frames_per_batch // max_steps\n    )  # Number of vectorized environments. frames_per_batch collection will be divided among these environments\n    base_env = VmasEnv(\n        scenario=\"simple_tag\",\n        num_envs=num_vmas_envs,\n        continuous_actions=True,\n        max_steps=max_steps,\n        device=device,\n        seed=seed,\n        # Scenario specific\n        num_good_agents=n_evaders,\n        num_adversaries=n_chasers,\n        num_landmarks=n_obstacles,\n    )"
      ]
    },
    {
      "cell_type": "markdown",
      "metadata": {},
      "source": [
        "### Group map\n\nPettingZoo and VMAS environments use the TorchRL MARL grouping API.\nWe can access the group map, mapping each group to the agents in it, as follows:\n\n\n"
      ]
    },
    {
      "cell_type": "code",
      "execution_count": null,
      "metadata": {
        "collapsed": false
      },
      "outputs": [],
      "source": [
        "print(f\"group_map: {base_env.group_map}\")"
      ]
    },
    {
      "cell_type": "markdown",
      "metadata": {},
      "source": [
        "as we can see it contains 2 groups: \"agents\" (evaders) and \"adversaries\" (chasers).\n\nThe environment is not only defined by its simulator and transforms, but also\nby a series of metadata that describe what can be expected during its\nexecution.\nFor efficiency purposes, TorchRL is quite stringent when it comes to\nenvironment specs, but you can easily check that your environment specs are\nadequate.\nIn our example, the simulator wrapper takes care of setting the proper specs for your base_env, so\nyou should not have to care about this.\n\nThere are four specs to look at:\n\n- ``action_spec`` defines the action space;\n- ``reward_spec`` defines the reward domain;\n- ``done_spec`` defines the done domain;\n- ``observation_spec`` which defines the domain of all other outputs from environment steps;\n\n\n\n"
      ]
    },
    {
      "cell_type": "code",
      "execution_count": null,
      "metadata": {
        "collapsed": false
      },
      "outputs": [],
      "source": [
        "print(\"action_spec:\", base_env.full_action_spec)\nprint(\"reward_spec:\", base_env.full_reward_spec)\nprint(\"done_spec:\", base_env.full_done_spec)\nprint(\"observation_spec:\", base_env.observation_spec)"
      ]
    },
    {
      "cell_type": "markdown",
      "metadata": {},
      "source": [
        "Using the commands just shown we can access the domain of each value.\n\nWe can see that all specs are structured as a dictionary, with the root always containing the group names.\nThis structure will be followed in all tensordict data coming and going to the environment.\nFurthermore, the specs of each group have leading shape ``(n_agents_in_that_group)`` (1 for agents, 2 for adversaries),\nmeaning that the tensor data of that group will always have that leading shape (agents within a group have the data stacked).\n\nLooking at the ``done_spec``, we can see that there are some keys that are outside of agent groups\n(``\"done\", \"terminated\", \"truncated\"``), which do not have a leading multi-agent dimension.\nThese keys are shared by all agents and represent the environment global done state used for resetting.\nBy default, like in this case, parallel PettingZoo environments are done when any agent is done, but this behavior\ncan be overridden by setting ``done_on_any`` at PettingZoo environment construction.\n\nTo quickly access the keys for each of these values in tensordicts, we can simply ask the environment for the\nrespective keys, and\nwe will immediately understand which are per-agent and which shared.\nThis info will be useful in order to tell all other TorchRL components where to find each value\n\n\n"
      ]
    },
    {
      "cell_type": "code",
      "execution_count": null,
      "metadata": {
        "collapsed": false
      },
      "outputs": [],
      "source": [
        "print(\"action_keys:\", base_env.action_keys)\nprint(\"reward_keys:\", base_env.reward_keys)\nprint(\"done_keys:\", base_env.done_keys)"
      ]
    },
    {
      "cell_type": "markdown",
      "metadata": {},
      "source": [
        "### Transforms\n\nWe can append any TorchRL transform we need to our environment.\nThese will modify its input/output in some desired way.\nWe stress that, in multi-agent contexts, it is paramount to provide explicitly the keys to modify.\n\nFor example, in this case, we will instantiate a ``RewardSum`` transform which will sum rewards over the episode.\nWe will tell this transform where to find the reset keys for each reward key.\nEssentially we just say that the\nepisode reward of each group should be reset when the ``\"_reset\"`` tensordict key is set, meaning that ``env.reset()``\nwas called.\nThe transformed environment will inherit\nthe device and meta-data of the wrapped environment, and transform these depending on the sequence\nof transforms it contains.\n\n\n"
      ]
    },
    {
      "cell_type": "code",
      "execution_count": null,
      "metadata": {
        "collapsed": false
      },
      "outputs": [],
      "source": [
        "env = TransformedEnv(\n    base_env,\n    RewardSum(\n        in_keys=base_env.reward_keys,\n        reset_keys=[\"_reset\"] * len(base_env.group_map.keys()),\n    ),\n)"
      ]
    },
    {
      "cell_type": "markdown",
      "metadata": {},
      "source": [
        "the :func:`check_env_specs` function runs a small rollout and compares its output against the environment\nspecs. If no error is raised, we can be confident that the specs are properly defined:\n\n\n"
      ]
    },
    {
      "cell_type": "code",
      "execution_count": null,
      "metadata": {
        "collapsed": false
      },
      "outputs": [],
      "source": [
        "check_env_specs(env)"
      ]
    },
    {
      "cell_type": "markdown",
      "metadata": {},
      "source": [
        "### Rollout\n\nFor fun, let us see what a simple random rollout looks like. You can\ncall `env.rollout(n_steps)` and get an overview of what the environment inputs\nand outputs look like. Actions will automatically be drawn at random from the action spec\ndomain.\n\n\n"
      ]
    },
    {
      "cell_type": "code",
      "execution_count": null,
      "metadata": {
        "collapsed": false
      },
      "outputs": [],
      "source": [
        "n_rollout_steps = 5\nrollout = env.rollout(n_rollout_steps)\nprint(f\"rollout of {n_rollout_steps} steps:\", rollout)\nprint(\"Shape of the rollout TensorDict:\", rollout.batch_size)"
      ]
    },
    {
      "cell_type": "markdown",
      "metadata": {},
      "source": [
        "We can see that our rollout has ``batch_size`` of ``(n_rollout_steps)``.\nThis means that all the tensors in it will have this leading dimension.\n\nLooking more in depth, we can see that the output tensordict can be divided in the following way:\n\n- *In the root* (accessible by running ``rollout.exclude(\"next\")`` ) we will find all the keys that are available\n  after a reset is called at the first timestep. We can see their evolution through the rollout steps by indexing\n  the ``n_rollout_steps`` dimension. Among these keys, we will find the ones that are different for each agent\n  in the ``rollout[group_name]`` tensordicts, which will have batch size ``(n_rollout_steps, n_agents_in_group)``\n  signifying that it is storing the additional agent dimension. The ones outside the group tensordicts\n  will be the shared ones.\n- *In the next* (accessible by running ``rollout.get(\"next\")`` ). We will find the same structure as the root with some minor differences highlighted below.\n\nIn TorchRL the convention is that done and observations will be present in both root and next (as these are\navailable both at reset time and after a step). Action will only be available in root (as there is no action\nresulting from a step) and reward will only be available in next (as there is no reward at reset time).\nThis structure follows the one in **Reinforcement Learning: An Introduction (Sutton and Barto)** where root represents data at time $t$ and\nnext represents data at time $t+1$ of a world step.\n\n\n### Render a random rollout\n\nIf you are on Google Colab, or on a machine with OpenGL and a GUI, you can actually render a random rollout.\nThis will give you an idea of what a random policy will achieve in this task, in order to compare it\nwith the policy you will train yourself!\n\nTo render a rollout, follow the instructions in the *Render* section at the end of this tutorial\nand just remove the line ``policy=agents_exploration_policy`` from ``env.rollout()``.\n\n\n## Policy\n\nDDPG utilises a deterministic policy. This means that our\nneural network will output the action to take.\nAs the action is continuous, we use a Tanh-Delta distribution to respect the\naction space boundaries. The only thing that this class does is apply a Tanh transformation to make sure the action\nis within the domain bounds.\n\nAnother important decision we need to make is whether we want the agents within a team to **share the policy parameters**.\nOn the one hand, sharing parameters means that they will all share the same policy, which will allow them to benefit from\neach other's experiences. This will also result in faster training.\nOn the other hand, it will make them behaviorally *homogenous*, as they will in fact share the same model.\nFor this example, we will enable sharing as we do not mind the homogeneity and can benefit from the computational\nspeed, but it is important to always think about this decision in your own problems!\n\nWe design the policy in three steps.\n\n**First**: define a neural network ``n_obs_per_agent`` -> ``n_actions_per_agents``\n\nFor this we use the ``MultiAgentMLP``, a TorchRL module made exactly for\nmultiple agents, with much customization available.\n\nWe will define a different policy for each group and store them in a dictionary.\n\n\n\n"
      ]
    },
    {
      "cell_type": "code",
      "execution_count": null,
      "metadata": {
        "collapsed": false
      },
      "outputs": [],
      "source": [
        "policy_modules = {}\nfor group, agents in env.group_map.items():\n    share_parameters_policy = True  # Can change this based on the group\n\n    policy_net = MultiAgentMLP(\n        n_agent_inputs=env.observation_spec[group, \"observation\"].shape[\n            -1\n        ],  # n_obs_per_agent\n        n_agent_outputs=env.full_action_spec[group, \"action\"].shape[\n            -1\n        ],  # n_actions_per_agents\n        n_agents=len(agents),  # Number of agents in the group\n        centralised=False,  # the policies are decentralised (i.e., each agent will act from its local observation)\n        share_params=share_parameters_policy,\n        device=device,\n        depth=2,\n        num_cells=256,\n        activation_class=torch.nn.Tanh,\n    )\n\n    # Wrap the neural network in a :class:`~tensordict.nn.TensorDictModule`.\n    # This is simply a module that will read the ``in_keys`` from a tensordict, feed them to the\n    # neural networks, and write the\n    # outputs in-place at the ``out_keys``.\n\n    policy_module = TensorDictModule(\n        policy_net,\n        in_keys=[(group, \"observation\")],\n        out_keys=[(group, \"param\")],\n    )  # We just name the input and output that the network will read and write to the input tensordict\n    policy_modules[group] = policy_module"
      ]
    },
    {
      "cell_type": "markdown",
      "metadata": {},
      "source": [
        "**Second**: wrap the :class:`~tensodrdict.nn.TensorDictModule` in a :class:`~torchrl.modules.ProbabilisticActor`\n\nWe now need to build the TanhDelta distribution.\nWe instruct the :class:`~torchrl.modules.ProbabilisticActor`\nclass to build a :class:`~torchrl.modules.TanhDelta` out of the policy action\nparameters. We also provide the minimum and maximum values of this\ndistribution, which we gather from the environment specs.\n\nThe name of the ``in_keys`` (and hence the name of the ``out_keys`` from\nthe :class:`TensorDictModule` above) has to end with the\n:class:`~torchrl.modules.TanhDelta` distribution constructor keyword arguments (param).\n\n\n"
      ]
    },
    {
      "cell_type": "code",
      "execution_count": null,
      "metadata": {
        "collapsed": false
      },
      "outputs": [],
      "source": [
        "policies = {}\nfor group, _agents in env.group_map.items():\n    policy = ProbabilisticActor(\n        module=policy_modules[group],\n        spec=env.full_action_spec[group, \"action\"],\n        in_keys=[(group, \"param\")],\n        out_keys=[(group, \"action\")],\n        distribution_class=TanhDelta,\n        distribution_kwargs={\n            \"low\": env.full_action_spec_unbatched[group, \"action\"].space.low,\n            \"high\": env.full_action_spec_unbatched[group, \"action\"].space.high,\n        },\n        return_log_prob=False,\n    )\n    policies[group] = policy"
      ]
    },
    {
      "cell_type": "markdown",
      "metadata": {},
      "source": [
        "**Third**: Exploration\n\nSince the DDPG policy is deterministic, we need a way to perform exploration during collection.\n\nFor this purpose, we need to append an exploration layer to our policies before passing them to the collector.\nIn this case we use a :class:`~torchrl.modules.AdditiveGaussianModule`, which adds gaussian noise to our action\n(and clamps it if the noise makes the action out of bounds).\n\nThis exploration wrapper uses a ``sigma`` parameter which is multiplied by the noise to determine its magnitude.\nSigma can be annealed throughout training to reduce exploration.\nSigma will go from ``sigma_init`` to ``sigma_end`` in ``annealing_num_steps``.\n\n\n"
      ]
    },
    {
      "cell_type": "code",
      "execution_count": null,
      "metadata": {
        "collapsed": false
      },
      "outputs": [],
      "source": [
        "exploration_policies = {}\nfor group, _agents in env.group_map.items():\n    exploration_policy = TensorDictSequential(\n        policies[group],\n        AdditiveGaussianModule(\n            spec=policies[group].spec,\n            annealing_num_steps=total_frames\n            // 2,  # Number of frames after which sigma is sigma_end\n            action_key=(group, \"action\"),\n            sigma_init=0.9,  # Initial value of the sigma\n            sigma_end=0.1,  # Final value of the sigma\n        ),\n    )\n    exploration_policies[group] = exploration_policy"
      ]
    },
    {
      "cell_type": "markdown",
      "metadata": {},
      "source": [
        "## Critic network\n\nThe critic network is a crucial component of the DDPG algorithm, even though it\nisn't used at sampling time. This module will read the observations & actions taken and\nreturn the corresponding value estimates.\n\nAs before, one should think carefully about the decision of **sharing the critic parameters** within an agent group.\nIn general, parameter sharing will grant faster training convergence, but there are a few important\nconsiderations to be made:\n\n- Sharing is not recommended when agents have different reward functions, as the critics will need to learn\n  to assign different values to the same state (e.g., in mixed cooperative-competitive settings).\n  In this case, since the two groups are already using separate networks, the sharing decision only applies\n  for agents within a group, which we already know have the same reward function.\n- In decentralised training settings, sharing cannot be performed without additional infrastructure to\n  synchronise parameters.\n\nIn all other cases where the reward function (to be differentiated from the reward) is the same for all agents\nin a group (as in the current scenario),\nsharing can provide improved performance. This can come at the cost of homogeneity in the agent strategies.\nIn general, the best way to know which choice is preferable is to quickly experiment both options.\n\nHere is also where we have to choose between **MADDPG and IDDPG**:\n\n- With MADDPG, we will obtain a central critic with full-observability\n  (i.e., it will take all the concatenated global agent observations and actions as input).\n  We can do this because we are in a simulator\n  and training is centralised.\n- With IDDPG, we will have a local decentralised critic, just like the policy.\n\nIn any case, the critic output will have shape ``(..., n_agents_in_group, 1)``.\nIf the critic is centralised and shared,\nall the values along the ``n_agents_in_group`` dimension will be identical.\n\nAs with the policy, we create a critic network for each group and store them in a dictionary.\n\n\n"
      ]
    },
    {
      "cell_type": "code",
      "execution_count": null,
      "metadata": {
        "collapsed": false
      },
      "outputs": [],
      "source": [
        "critics = {}\nfor group, agents in env.group_map.items():\n    share_parameters_critic = True  # Can change for each group\n    MADDPG = True  # IDDPG if False, can change for each group\n\n    # This module applies the lambda function: reading the action and observation entries for the group\n    # and concatenating them in a new ``(group, \"obs_action\")`` entry\n    cat_module = TensorDictModule(\n        lambda obs, action: torch.cat([obs, action], dim=-1),\n        in_keys=[(group, \"observation\"), (group, \"action\")],\n        out_keys=[(group, \"obs_action\")],\n    )\n\n    critic_module = TensorDictModule(\n        module=MultiAgentMLP(\n            n_agent_inputs=env.observation_spec[group, \"observation\"].shape[-1]\n            + env.full_action_spec[group, \"action\"].shape[-1],\n            n_agent_outputs=1,  # 1 value per agent\n            n_agents=len(agents),\n            centralised=MADDPG,\n            share_params=share_parameters_critic,\n            device=device,\n            depth=2,\n            num_cells=256,\n            activation_class=torch.nn.Tanh,\n        ),\n        in_keys=[(group, \"obs_action\")],  # Read ``(group, \"obs_action\")``\n        out_keys=[\n            (group, \"state_action_value\")\n        ],  # Write ``(group, \"state_action_value\")``\n    )\n\n    critics[group] = TensorDictSequential(\n        cat_module, critic_module\n    )  # Run them in sequence"
      ]
    },
    {
      "cell_type": "markdown",
      "metadata": {},
      "source": [
        "Let us try our policy and critic modules. As pointed earlier, the usage of\n:class:`~tensordict.nn.TensorDictModule` makes it possible to directly read the output\nof the environment to run these modules, as they know what information to read\nand where to write it.\n\nWe can see that after each group's networks are run their output keys are added to the data under the\ngroup entry.\n\n**From this point on, the multi-agent-specific components have been instantiated, and we will simply use the same\ncomponents as in single-agent learning. Isn't this fantastic?**\n\n\n"
      ]
    },
    {
      "cell_type": "code",
      "execution_count": null,
      "metadata": {
        "collapsed": false
      },
      "outputs": [],
      "source": [
        "reset_td = env.reset()\nfor group, _agents in env.group_map.items():\n    print(\n        f\"Running value and policy for group '{group}':\",\n        critics[group](policies[group](reset_td)),\n    )"
      ]
    },
    {
      "cell_type": "markdown",
      "metadata": {},
      "source": [
        "## Data collector\n\nTorchRL provides a set of data collector classes. Briefly, these\nclasses execute three operations: reset an environment, compute an action\nusing the policy and the latest observation, execute a step in the environment, and repeat\nthe last two steps until the environment signals a stop (or reaches a done\nstate).\n\nWe will use the simplest possible data collector, which has the same output as an environment rollout,\nwith the only difference that it will auto reset done states until the desired frames are collected.\n\nWe need to feed it our exploration policies. Furthermore, to run the policies from all groups as if they were one,\nwe put them in a sequence. They will not interfere with each other as each group writes and reads keys in different places.\n\n\n"
      ]
    },
    {
      "cell_type": "code",
      "execution_count": null,
      "metadata": {
        "collapsed": false
      },
      "outputs": [],
      "source": [
        "# Put exploration policies from each group in a sequence\nagents_exploration_policy = TensorDictSequential(*exploration_policies.values())\n\ncollector = SyncDataCollector(\n    env,\n    agents_exploration_policy,\n    device=device,\n    frames_per_batch=frames_per_batch,\n    total_frames=total_frames,\n)"
      ]
    },
    {
      "cell_type": "markdown",
      "metadata": {},
      "source": [
        "## Replay buffer\n\nReplay buffers are a common building piece of off-policy RL algorithms.\nThere are many types of buffers, in this tutorial we use a basic buffer to store and sample tensordict\ndata randomly.\n\nThis buffer uses :class:`~.data.LazyMemmapStorage`, which stores data on disk.\nThis allows to use the disk memory, but can result in slower sampling as it requires data to be cast to the training device.\nTo store your buffer on the GPU, you can use :class:`~.data.LazyTensorStorage`, passing the desired device.\nThis will result in faster sampling but is subject to the memory constraints of the selected device.\n\n\n"
      ]
    },
    {
      "cell_type": "code",
      "execution_count": null,
      "metadata": {
        "collapsed": false
      },
      "outputs": [],
      "source": [
        "replay_buffers = {}\nscratch_dirs = []\nfor group, _agents in env.group_map.items():\n    scratch_dir = tempfile.TemporaryDirectory().name\n    scratch_dirs.append(scratch_dir)\n    replay_buffer = ReplayBuffer(\n        storage=LazyMemmapStorage(\n            memory_size,\n            scratch_dir=scratch_dir,\n        ),  # We will store up to memory_size multi-agent transitions\n        sampler=RandomSampler(),\n        batch_size=train_batch_size,  # We will sample batches of this size\n    )\n    if device.type != \"cpu\":\n        replay_buffer.append_transform(lambda x: x.to(device))\n    replay_buffers[group] = replay_buffer"
      ]
    },
    {
      "cell_type": "markdown",
      "metadata": {},
      "source": [
        "## Loss function\n\nThe DDPG loss can be directly imported from TorchRL for convenience using the\n:class:`~.objectives.DDPGLoss` class. This is the easiest way of utilising DDPG:\nit hides away the mathematical operations of DDPG and the control flow that\ngoes with it.\n\nIt is also possible to have different policies for each group.\n\n\n"
      ]
    },
    {
      "cell_type": "code",
      "execution_count": null,
      "metadata": {
        "collapsed": false
      },
      "outputs": [],
      "source": [
        "losses = {}\nfor group, _agents in env.group_map.items():\n    loss_module = DDPGLoss(\n        actor_network=policies[group],  # Use the non-explorative policies\n        value_network=critics[group],\n        delay_value=True,  # Whether to use a target network for the value\n        loss_function=\"l2\",\n    )\n    loss_module.set_keys(\n        state_action_value=(group, \"state_action_value\"),\n        reward=(group, \"reward\"),\n        done=(group, \"done\"),\n        terminated=(group, \"terminated\"),\n    )\n    loss_module.make_value_estimator(ValueEstimators.TD0, gamma=gamma)\n\n    losses[group] = loss_module\n\ntarget_updaters = {\n    group: SoftUpdate(loss, tau=polyak_tau) for group, loss in losses.items()\n}\n\noptimisers = {\n    group: {\n        \"loss_actor\": torch.optim.Adam(\n            loss.actor_network_params.flatten_keys().values(), lr=lr\n        ),\n        \"loss_value\": torch.optim.Adam(\n            loss.value_network_params.flatten_keys().values(), lr=lr\n        ),\n    }\n    for group, loss in losses.items()\n}"
      ]
    },
    {
      "cell_type": "markdown",
      "metadata": {},
      "source": [
        "## Training utils\n\nWe do have to define two helper functions that we will use in the training loop.\nThey are very simple and do not contain any important logic.\n\n\n\n"
      ]
    },
    {
      "cell_type": "code",
      "execution_count": null,
      "metadata": {
        "collapsed": false
      },
      "outputs": [],
      "source": [
        "def process_batch(batch: TensorDictBase) -> TensorDictBase:\n    \"\"\"\n    If the `(group, \"terminated\")` and `(group, \"done\")` keys are not present, create them by expanding\n    `\"terminated\"` and `\"done\"`.\n    This is needed to present them with the same shape as the reward to the loss.\n    \"\"\"\n    for group in env.group_map.keys():\n        keys = list(batch.keys(True, True))\n        group_shape = batch.get_item_shape(group)\n        nested_done_key = (\"next\", group, \"done\")\n        nested_terminated_key = (\"next\", group, \"terminated\")\n        if nested_done_key not in keys:\n            batch.set(\n                nested_done_key,\n                batch.get((\"next\", \"done\")).unsqueeze(-1).expand((*group_shape, 1)),\n            )\n        if nested_terminated_key not in keys:\n            batch.set(\n                nested_terminated_key,\n                batch.get((\"next\", \"terminated\"))\n                .unsqueeze(-1)\n                .expand((*group_shape, 1)),\n            )\n    return batch"
      ]
    },
    {
      "cell_type": "markdown",
      "metadata": {},
      "source": [
        "## Training loop\nWe now have all the pieces needed to code our training loop.\nThe steps include:\n\n* Collect data for all groups\n    * Loop over groups\n        * Store group data in group buffer\n        * Loop over epochs\n            * Sample from group buffer\n            * Compute loss on sampled data\n            * Back propagate loss\n            * Optimise\n        * Repeat\n    * Repeat\n* Repeat\n\n\n\n"
      ]
    },
    {
      "cell_type": "code",
      "execution_count": null,
      "metadata": {
        "collapsed": false
      },
      "outputs": [],
      "source": [
        "pbar = tqdm(\n    total=n_iters,\n    desc=\", \".join(\n        [f\"episode_reward_mean_{group} = 0\" for group in env.group_map.keys()]\n    ),\n)\nepisode_reward_mean_map = {group: [] for group in env.group_map.keys()}\ntrain_group_map = copy.deepcopy(env.group_map)\n\n# Training/collection iterations\nfor iteration, batch in enumerate(collector):\n    current_frames = batch.numel()\n    batch = process_batch(batch)  # Util to expand done keys if needed\n    # Loop over groups\n    for group in train_group_map.keys():\n        group_batch = batch.exclude(\n            *[\n                key\n                for _group in env.group_map.keys()\n                if _group != group\n                for key in [_group, (\"next\", _group)]\n            ]\n        )  # Exclude data from other groups\n        group_batch = group_batch.reshape(\n            -1\n        )  # This just affects the leading dimensions in batch_size of the tensordict\n        replay_buffers[group].extend(group_batch)\n\n        for _ in range(n_optimiser_steps):\n            subdata = replay_buffers[group].sample()\n            loss_vals = losses[group](subdata)\n\n            for loss_name in [\"loss_actor\", \"loss_value\"]:\n                loss = loss_vals[loss_name]\n                optimiser = optimisers[group][loss_name]\n\n                loss.backward()\n\n                # Optional\n                params = optimiser.param_groups[0][\"params\"]\n                torch.nn.utils.clip_grad_norm_(params, max_grad_norm)\n\n                optimiser.step()\n                optimiser.zero_grad()\n\n            # Soft-update the target network\n            target_updaters[group].step()\n\n        # Exploration sigma anneal update\n        exploration_policies[group][-1].step(current_frames)\n\n    # Stop training a certain group when a condition is met (e.g., number of training iterations)\n    if iteration == iteration_when_stop_training_evaders:\n        del train_group_map[\"agent\"]\n\n    # Logging\n    for group in env.group_map.keys():\n        episode_reward_mean = (\n            batch.get((\"next\", group, \"episode_reward\"))[\n                batch.get((\"next\", group, \"done\"))\n            ]\n            .mean()\n            .item()\n        )\n        episode_reward_mean_map[group].append(episode_reward_mean)\n\n    pbar.set_description(\n        \", \".join(\n            [\n                f\"episode_reward_mean_{group} = {episode_reward_mean_map[group][-1]}\"\n                for group in env.group_map.keys()\n            ]\n        ),\n        refresh=False,\n    )\n    pbar.update()"
      ]
    },
    {
      "cell_type": "markdown",
      "metadata": {},
      "source": [
        "## Results\n\nWe can plot the mean reward obtained per episode.\n\nTo make training last longer, increase the ``n_iters`` hyperparameter.\n\nWhen running this script locally, you may need to close the opened window to\nproceed with the rest of the screen.\n\n\n"
      ]
    },
    {
      "cell_type": "code",
      "execution_count": null,
      "metadata": {
        "collapsed": false
      },
      "outputs": [],
      "source": [
        "fig, axs = plt.subplots(2, 1)\nfor i, group in enumerate(env.group_map.keys()):\n    axs[i].plot(episode_reward_mean_map[group], label=f\"Episode reward mean {group}\")\n    axs[i].set_ylabel(\"Reward\")\n    axs[i].axvline(\n        x=iteration_when_stop_training_evaders,\n        label=\"Agent (evader) stop training\",\n        color=\"orange\",\n    )\n    axs[i].legend()\naxs[-1].set_xlabel(\"Training iterations\")\nplt.show()"
      ]
    },
    {
      "cell_type": "markdown",
      "metadata": {},
      "source": [
        "## Render\n\n*Rendering instruction are for VMAS*, aka when running with ``use_vmas=True``.\n\nTorchRL offers some utils to record and save rendered videos. You can learn more about these tools\n`here <Environment-Recorders>`.\n\nIn the following code-block, we append a transform that will call the :meth:`render` method from the VMAS\nwrapped environment and save the stack of frames to a `mp4` file which location is determined by the custom\nlogger `video_logger`. Note that this code may require some external dependencies such as torchvision.\n\n\n"
      ]
    },
    {
      "cell_type": "code",
      "execution_count": null,
      "metadata": {
        "collapsed": false
      },
      "outputs": [],
      "source": [
        "if use_vmas and not is_sphinx:\n    # Replace tmpdir with any desired path where the video should be saved\n    with tempfile.TemporaryDirectory() as tmpdir:\n        video_logger = CSVLogger(\"vmas_logs\", tmpdir, video_format=\"mp4\")\n        print(\"Creating rendering env\")\n        env_with_render = TransformedEnv(env.base_env, env.transform.clone())\n        env_with_render = env_with_render.append_transform(\n            PixelRenderTransform(\n                out_keys=[\"pixels\"],\n                # the np.ndarray has a negative stride and needs to be copied before being cast to a tensor\n                preproc=lambda x: x.copy(),\n                as_non_tensor=True,\n                # asking for array rather than on-screen rendering\n                mode=\"rgb_array\",\n            )\n        )\n        env_with_render = env_with_render.append_transform(\n            VideoRecorder(logger=video_logger, tag=\"vmas_rendered\")\n        )\n        with set_exploration_type(ExplorationType.DETERMINISTIC):\n            print(\"Rendering rollout...\")\n            env_with_render.rollout(100, policy=agents_exploration_policy)\n        print(\"Saving the video...\")\n        env_with_render.transform.dump()\n        print(\"Saved! Saved directory tree:\")\n        video_logger.print_log_dir()"
      ]
    },
    {
      "cell_type": "markdown",
      "metadata": {},
      "source": [
        "## Conclusion and next steps\n\nIn this tutorial, we have seen:\n\n- How to create a competitive multi-group multi-agent environment in TorchRL, how its specs work, and how it integrates with the library;\n- How to create multi-agent network architectures in TorchRL for multiple groups;\n- How we can use :class:`tensordict.TensorDict` to carry multi-agent multi-group data;\n- How we can tie all the library components (collectors, modules, replay buffers, and losses) in a multi-agent multi-group MADDPG/IDDPG training loop.\n\nNow that you are proficient with multi-agent DDPG, you can check out all the TorchRL multi-agent implementations in the\nGitHub repository.\nThese are code-only scripts of many MARL algorithms such as the ones seen in this tutorial,\nQMIX, MADDPG, IQL, and many more!\n\nAlso do remember to check out our tutorial: :doc:`/tutorials/multiagent_ppo`.\n\nFinally, you can modify the parameters of this tutorial to try many other configurations and scenarios\nto become a MARL master.\n\n[PettingZoo](https://pettingzoo.farama.org/)_ and VMAS contain many more scenarios.\nHere are a few videos of some possible scenarios you can try in VMAS.\n\n.. figure:: https://github.com/matteobettini/vmas-media/blob/main/media/vmas_scenarios_more.gif?raw=true\n   :alt: VMAS scenarios\n\n   Scenarios available in [VMAS](https://github.com/proroklab/VectorizedMultiAgentSimulator)_\n\n\n"
      ]
    }
  ],
  "metadata": {
    "kernelspec": {
      "display_name": "Python 3",
      "language": "python",
      "name": "python3"
    },
    "language_info": {
      "codemirror_mode": {
        "name": "ipython",
        "version": 3
      },
      "file_extension": ".py",
      "mimetype": "text/x-python",
      "name": "python",
      "nbconvert_exporter": "python",
      "pygments_lexer": "ipython3",
      "version": "3.12.12"
    }
  },
  "nbformat": 4,
  "nbformat_minor": 0
}