{
  "cells": [
    {
      "cell_type": "markdown",
      "metadata": {},
      "source": [
        "\n# Exporting TorchRL modules\n\n**Author**: [Vincent Moens](https://github.com/vmoens)\n\n\n<div class=\"alert alert-info\"><h4>Note</h4><p>To run this tutorial in a notebook, add an installation cell\n  at the beginning containing:\n\n```\n!pip install tensordict\n!pip install torchrl\n!pip install \"gymnasium[atari]\"</p></div>\n```\n## Introduction\n\nLearning a policy has little value if that policy cannot be deployed in real-world settings.\nAs shown in other tutorials, TorchRL has a strong focus on modularity and composability: thanks to ``tensordict``,\nthe components of the library can be written in the most generic way there is by abstracting their signature to a\nmere set of operations on an input ``TensorDict``.\nThis may give the impression that the library is bound to be used only for training, as typical low-level execution\nhardwares (edge devices, robots, arduino, Raspberry Pi) do not execute python code, let alone with pytorch, tensordict\nor torchrl installed.\n\nFortunately, PyTorch provides a full ecosystem of solutions to export code and trained models to devices and\nhardwares, and TorchRL is fully equipped to interact with it.\nIt is possible to choose from a varied set of backends, including ONNX or AOTInductor examplified in this tutorial.\nThis tutorial gives a quick overview of how a trained model can be isolated and shipped as a standalone executable\nto be exported on hardware.\n\nKey learnings:\n\n- Export any TorchRL module after training;\n- Using various backends;\n- Testing your exported model.\n\n## Fast recap: a simple TorchRL training loop\n\nIn this section, we reproduce the training loop from the last Getting Started tutorial, slightly adapted to be used\nwith Atari games as they are rendered by the gymnasium library.\nWe will stick to the DQN example, and show how a policy that outputs a distribution over values can be used instead\nlater.\n"
      ]
    },
    {
      "cell_type": "code",
      "execution_count": null,
      "metadata": {
        "collapsed": false
      },
      "outputs": [],
      "source": [
        "import time\nfrom pathlib import Path\n\nimport numpy as np\n\nimport torch\n\nfrom tensordict.nn import (\n    TensorDictModule as Mod,\n    TensorDictSequential,\n    TensorDictSequential as Seq,\n)\n\nfrom torch.optim import Adam\n\nfrom torchrl._utils import timeit\nfrom torchrl.collectors import SyncDataCollector\nfrom torchrl.data import LazyTensorStorage, ReplayBuffer\n\nfrom torchrl.envs import (\n    Compose,\n    GrayScale,\n    GymEnv,\n    Resize,\n    set_exploration_type,\n    StepCounter,\n    ToTensorImage,\n    TransformedEnv,\n)\n\nfrom torchrl.modules import ConvNet, EGreedyModule, QValueModule\n\nfrom torchrl.objectives import DQNLoss, SoftUpdate\n\ntorch.manual_seed(0)\n\nenv = TransformedEnv(\n    GymEnv(\"ALE/Pong-v5\", categorical_action_encoding=True),\n    Compose(\n        ToTensorImage(), Resize(84, interpolation=\"nearest\"), GrayScale(), StepCounter()\n    ),\n)\nenv.set_seed(0)\n\nvalue_mlp = ConvNet.default_atari_dqn(num_actions=env.action_spec.space.n)\nvalue_net = Mod(value_mlp, in_keys=[\"pixels\"], out_keys=[\"action_value\"])\npolicy = Seq(value_net, QValueModule(spec=env.action_spec))\nexploration_module = EGreedyModule(\n    env.action_spec, annealing_num_steps=100_000, eps_init=0.5\n)\npolicy_explore = Seq(policy, exploration_module)\n\ninit_rand_steps = 5000\nframes_per_batch = 100\noptim_steps = 10\ncollector = SyncDataCollector(\n    env,\n    policy_explore,\n    frames_per_batch=frames_per_batch,\n    total_frames=-1,\n    init_random_frames=init_rand_steps,\n)\nrb = ReplayBuffer(storage=LazyTensorStorage(100_000))\n\nloss = DQNLoss(value_network=policy, action_space=env.action_spec, delay_value=True)\noptim = Adam(loss.parameters())\nupdater = SoftUpdate(loss, eps=0.99)\n\ntotal_count = 0\ntotal_episodes = 0\nt0 = time.time()\nfor data in collector:\n    # Write data in replay buffer\n    rb.extend(data)\n    max_length = rb[:][\"next\", \"step_count\"].max()\n    if len(rb) > init_rand_steps:\n        # Optim loop (we do several optim steps\n        # per batch collected for efficiency)\n        for _ in range(optim_steps):\n            sample = rb.sample(128)\n            loss_vals = loss(sample)\n            loss_vals[\"loss\"].backward()\n            optim.step()\n            optim.zero_grad()\n            # Update exploration factor\n            exploration_module.step(data.numel())\n            # Update target params\n            updater.step()\n            total_count += data.numel()\n            total_episodes += data[\"next\", \"done\"].sum()\n    if max_length > 200:\n        break"
      ]
    },
    {
      "cell_type": "markdown",
      "metadata": {},
      "source": [
        "## Exporting a TensorDictModule-based policy\n\n``TensorDict`` allowed us to build a policy with a great flexibility: from a regular :class:`~torch.nn.Module` that\noutputs action values from an observation, we added a :class:`~torchrl.modules.QValueModule` module that\nread these values and computed an action using some heuristic (e.g., an argmax call).\n\nHowever, there's a small technical catch in our case: the environment (the actual Atari game) doesn't return\ngrayscale, 84x84 images but raw screen-size color ones. The transforms we appended to the environment make sure that\nthe images can be read by the model. We can see that, from the training perspective, the boundary between environment\nand model is blurry, but at execution time things are much clearer: the model should take care of transforming\nthe input data (images) to the format that can be processed by our CNN.\n\nHere again, the magic of tensordict will unblock us: it happens that most of local (non-recursive) TorchRL's\ntransforms can be used both as environment transforms or preprocessing blocks within a :class:`~torch.nn.Module`\ninstance. Let's see how we can prepend them to our policy:\n\n"
      ]
    },
    {
      "cell_type": "code",
      "execution_count": null,
      "metadata": {
        "collapsed": false
      },
      "outputs": [],
      "source": [
        "policy_transform = TensorDictSequential(\n    env.transform[\n        :-1\n    ],  # the last transform is a step counter which we don't need for preproc\n    policy_explore.requires_grad_(\n        False\n    ),  # Using the explorative version of the policy for didactic purposes, see below.\n)"
      ]
    },
    {
      "cell_type": "markdown",
      "metadata": {},
      "source": [
        "We create a fake input, and pass it to :func:`~torch.export.export` with the policy. This will give a \"raw\" python\nfunction that will read our input tensor and output an action without any reference to TorchRL or tensordict modules.\n\nA good practice is to call :meth:`~tensordict.nn.TensorDictSequential.select_out_keys` to let the model know that\nwe only want a certain set of outputs (in case the policy returns more than one tensor).\n\n\n"
      ]
    },
    {
      "cell_type": "code",
      "execution_count": null,
      "metadata": {
        "collapsed": false
      },
      "outputs": [],
      "source": [
        "fake_td = env.base_env.fake_tensordict()\npixels = fake_td[\"pixels\"]\nwith set_exploration_type(\"DETERMINISTIC\"):\n    exported_policy = torch.export.export(\n        # Select only the \"action\" output key\n        policy_transform.select_out_keys(\"action\"),\n        args=(),\n        kwargs={\"pixels\": pixels},\n        strict=False,\n    )"
      ]
    },
    {
      "cell_type": "markdown",
      "metadata": {},
      "source": [
        "Representing the policy can be quite insightful: we can see that the first operations are a permute, a div, unsqueeze,\nresize followed by the convolutional and MLP layers.\n\n\n"
      ]
    },
    {
      "cell_type": "code",
      "execution_count": null,
      "metadata": {
        "collapsed": false
      },
      "outputs": [],
      "source": [
        "print(\"Deterministic policy\")\nexported_policy.graph_module.print_readable()"
      ]
    },
    {
      "cell_type": "markdown",
      "metadata": {},
      "source": [
        "As a final check, we can execute the policy with a dummy input. The output (for a single image) should be an integer\nfrom 0 to 6 representing the action to be executed in the game.\n\n"
      ]
    },
    {
      "cell_type": "code",
      "execution_count": null,
      "metadata": {
        "collapsed": false
      },
      "outputs": [],
      "source": [
        "output = exported_policy.module()(pixels=pixels)\nprint(\"Exported module output\", output)"
      ]
    },
    {
      "cell_type": "markdown",
      "metadata": {},
      "source": [
        "Further details on exporting :class:`~tensordict.nn.TensorDictModule` instances can be found in the tensordict\n[documentation](https://pytorch.org/tensordict/stable/tutorials/export.html).\n\n<div class=\"alert alert-info\"><h4>Note</h4><p>Exporting modules that take and output nested keys is perfectly fine.\n   The corresponding kwargs will be the `\"_\".join(key)` version of the key, i.e., the `(\"group0\", \"agent0\", \"obs\")`\n   key will correspond to the `\"group0_agent0_obs\"` keyword argument. Colliding keys (e.g., `(\"group0_agent0\", \"obs\")`\n   and `(\"group0\", \"agent0_obs\")` may lead to undefined behaviours and should be avoided at all cost.\n   Obviously, key names should also always produce valid keyword arguments, i.e., they should not contain special\n   characters such as spaces or commas.</p></div>\n\n``torch.export`` has many other features that we will explore further below. Before this, let us just do a small\ndigression on exploration and stochastic policies in the context of test-time inference, as well as recurrent\npolicies.\n\n## Working with stochastic policies\n\nAs you probably noted, above we used the :class:`~torchrl.envs.set_exploration_type` context manager to control\nthe behaviour of the policy. If the policy is stochastic (e.g., the policy outputs a distribution over the action\nspace like it is the case in PPO or other similar on-policy algorithms) or explorative (with an exploration module\nappended like E-Greedy, additive gaussian or Ornstein-Uhlenbeck) we may want or not want to use that exploration\nstrategy in its exported version.\nFortunately, export utils can understand that context manager and as long as the exportation occurs within the right\ncontext manager, the behaviour of the policy should match what is indicated. To demonstrate this, let us try with\nanother exploration type:\n\n"
      ]
    },
    {
      "cell_type": "code",
      "execution_count": null,
      "metadata": {
        "collapsed": false
      },
      "outputs": [],
      "source": [
        "with set_exploration_type(\"RANDOM\"):\n    exported_stochastic_policy = torch.export.export(\n        policy_transform.select_out_keys(\"action\"),\n        args=(),\n        kwargs={\"pixels\": pixels},\n        strict=False,\n    )"
      ]
    },
    {
      "cell_type": "markdown",
      "metadata": {},
      "source": [
        "Our exported policy should now have a random module at the end of the call stack, unlike the previous version.\nIndeed, the last three operations are: generate a random integer between 0 and 6, use a random mask and select\nthe network output or the random action based on the value in the mask.\n\n\n"
      ]
    },
    {
      "cell_type": "code",
      "execution_count": null,
      "metadata": {
        "collapsed": false
      },
      "outputs": [],
      "source": [
        "print(\"Stochastic policy\")\nexported_stochastic_policy.graph_module.print_readable()"
      ]
    },
    {
      "cell_type": "markdown",
      "metadata": {},
      "source": [
        "## Working with recurrent policies\n\nAnother typical use case is a recurrent policy that will output an action as well as a one or more recurrent state.\nLSTM and GRU are CuDNN-based modules, which means that they will behave differently than regular\n:class:`~torch.nn.Module` instances (export utils may not trace them well). Fortunately, TorchRL provides a python\nimplementation of these modules that can be swapped with the CuDNN version when desired.\n\nTo show this, let us write a prototypical policy that relies on an RNN:\n\n\n"
      ]
    },
    {
      "cell_type": "code",
      "execution_count": null,
      "metadata": {
        "collapsed": false
      },
      "outputs": [],
      "source": [
        "from tensordict.nn import TensorDictModule\nfrom torchrl.envs import BatchSizeTransform\nfrom torchrl.modules import LSTMModule, MLP\n\nlstm = LSTMModule(\n    input_size=32,\n    num_layers=2,\n    hidden_size=256,\n    in_keys=[\"observation\", \"hidden0\", \"hidden1\"],\n    out_keys=[\"intermediate\", \"hidden0\", \"hidden1\"],\n)"
      ]
    },
    {
      "cell_type": "markdown",
      "metadata": {},
      "source": [
        "If the LSTM module is not python based but CuDNN (:class:`~torch.nn.LSTM`), the :meth:`~torchrl.modules.LSTMModule.make_python_based`\nmethod can be used to use the python version.\n\n\n"
      ]
    },
    {
      "cell_type": "code",
      "execution_count": null,
      "metadata": {
        "collapsed": false
      },
      "outputs": [],
      "source": [
        "lstm = lstm.make_python_based()"
      ]
    },
    {
      "cell_type": "markdown",
      "metadata": {},
      "source": [
        "Let's now create the policy. We combine two layers that modify the shape of the input (unsqueeze/squeeze operations)\nwith the LSTM and an MLP.\n\n\n"
      ]
    },
    {
      "cell_type": "code",
      "execution_count": null,
      "metadata": {
        "collapsed": false
      },
      "outputs": [],
      "source": [
        "recurrent_policy = TensorDictSequential(\n    # Unsqueeze the first dim of all tensors to make LSTMCell happy\n    BatchSizeTransform(reshape_fn=lambda x: x.unsqueeze(0)),\n    lstm,\n    TensorDictModule(\n        MLP(in_features=256, out_features=5, num_cells=[64, 64]),\n        in_keys=[\"intermediate\"],\n        out_keys=[\"action\"],\n    ),\n    # Squeeze the first dim of all tensors to get the original shape back\n    BatchSizeTransform(reshape_fn=lambda x: x.squeeze(0)),\n)"
      ]
    },
    {
      "cell_type": "markdown",
      "metadata": {},
      "source": [
        "As before, we select the relevant keys:\n\n\n"
      ]
    },
    {
      "cell_type": "code",
      "execution_count": null,
      "metadata": {
        "collapsed": false
      },
      "outputs": [],
      "source": [
        "recurrent_policy.select_out_keys(\"action\", \"hidden0\", \"hidden1\")\nprint(\"recurrent policy input keys:\", recurrent_policy.in_keys)\nprint(\"recurrent policy output keys:\", recurrent_policy.out_keys)"
      ]
    },
    {
      "cell_type": "markdown",
      "metadata": {},
      "source": [
        "We are now ready to export. To do this, we build fake inputs and pass them to :func:`~torch.export.export`:\n\n\n"
      ]
    },
    {
      "cell_type": "code",
      "execution_count": null,
      "metadata": {
        "collapsed": false
      },
      "outputs": [],
      "source": [
        "fake_obs = torch.randn(32)\nfake_hidden0 = torch.randn(2, 256)\nfake_hidden1 = torch.randn(2, 256)\n\n# Tensor indicating whether the state is the first of a sequence\nfake_is_init = torch.zeros((), dtype=torch.bool)\n\nexported_recurrent_policy = torch.export.export(\n    recurrent_policy,\n    args=(),\n    kwargs={\n        \"observation\": fake_obs,\n        \"hidden0\": fake_hidden0,\n        \"hidden1\": fake_hidden1,\n        \"is_init\": fake_is_init,\n    },\n    strict=False,\n)\nprint(\"Recurrent policy graph:\")\nexported_recurrent_policy.graph_module.print_readable()"
      ]
    },
    {
      "cell_type": "markdown",
      "metadata": {},
      "source": [
        "## AOTInductor: Export your policy to pytorch-free C++ binaries\n\nAOTInductor is a PyTorch module that allows you to export your model (policy or other) to pytorch-free C++ binaries.\nThis is particularly useful when you need to deploy your model on devices or platforms where PyTorch is not available.\n\nHere's an example of how you can use AOTInductor to export your policy, inspired by the\n[AOTI documentation](https://pytorch.org/docs/main/torch.compiler_aot_inductor.html):\n\n\n"
      ]
    },
    {
      "cell_type": "code",
      "execution_count": null,
      "metadata": {
        "collapsed": false
      },
      "outputs": [],
      "source": [
        "from tempfile import TemporaryDirectory\n\nfrom torch._inductor import aoti_compile_and_package, aoti_load_package\n\nwith TemporaryDirectory() as tmpdir:\n    path = str(Path(tmpdir) / \"model.pt2\")\n    with torch.no_grad():\n        pkg_path = aoti_compile_and_package(\n            exported_policy,\n            # Specify the generated shared library path\n            package_path=path,\n        )\n    print(\"pkg_path\", pkg_path)\n\n    compiled_module = aoti_load_package(pkg_path)\n\nprint(compiled_module(pixels=pixels))"
      ]
    },
    {
      "cell_type": "markdown",
      "metadata": {},
      "source": [
        "## Exporting TorchRL models with ONNX\n\n<div class=\"alert alert-info\"><h4>Note</h4><p>To execute this part of the script, make sure pytorch onnx is installed:\n\n\n```\n!pip install onnx-pytorch\n!pip install onnxruntime</p></div>\n```\nYou can also find more information about using ONNX in the PyTorch ecosystem\n[here](https://pytorch.org/tutorials/beginner/onnx/intro_onnx.html). The following example is based on this\ndocumentation.\n\nIn this section, we are going to showcase how we can export our model in such a way that it can be\nexecuted on a pytorch-free setting.\n\nThere are plenty of resources on the web explaining how ONNX can be used to deploy PyTorch models on various\nhardwares and devices, including [Raspberry Pi](https://qengineering.eu/install-pytorch-on-raspberry-pi-4.html),\n[NVIDIA TensorRT](https://docs.nvidia.com/deeplearning/tensorrt/quick-start-guide/index.html),\n[iOS](https://apple.github.io/coremltools/docs-guides/source/convert-pytorch.html) and\n[Android](https://onnxruntime.ai/docs/tutorials/mobile/).\n\nThe Atari game we trained on can be isolated without TorchRL or gymnasium with the\n[ALE library](https://github.com/Farama-Foundation/Arcade-Learning-Environment) and therefore provides us with\na good example of what we can achieve with ONNX.\n\nLet us see what this API looks like:\n\n"
      ]
    },
    {
      "cell_type": "code",
      "execution_count": null,
      "metadata": {
        "collapsed": false
      },
      "outputs": [],
      "source": [
        "from ale_py import ALEInterface, roms\n\n# Create the interface\nale = ALEInterface()\n# Load the pong environment\nale.loadROM(roms.Pong)\nale.reset_game()\n\n# Make a step in the simulator\naction = 0\nreward = ale.act(action)\nscreen_obs = ale.getScreenRGB()\nprint(\"Observation from ALE simulator:\", type(screen_obs), screen_obs.shape)\n\nfrom matplotlib import pyplot as plt\n\nplt.tick_params(left=False, bottom=False, labelleft=False, labelbottom=False)\nplt.imshow(screen_obs)\nplt.title(\"Screen rendering of Pong game.\")"
      ]
    },
    {
      "cell_type": "markdown",
      "metadata": {},
      "source": [
        "Exporting to ONNX is quite similar the Export/AOTI above:\n\n\n"
      ]
    },
    {
      "cell_type": "code",
      "execution_count": null,
      "metadata": {
        "collapsed": false
      },
      "outputs": [],
      "source": [
        "import onnxruntime\n\nwith set_exploration_type(\"DETERMINISTIC\"):\n    # We use torch.onnx.dynamo_export to capture the computation graph from our policy_explore model\n    pixels = torch.as_tensor(screen_obs)\n    onnx_policy_export = torch.onnx.dynamo_export(policy_transform, pixels=pixels)"
      ]
    },
    {
      "cell_type": "markdown",
      "metadata": {},
      "source": [
        "We can now save the program on disk and load it:\n\n"
      ]
    },
    {
      "cell_type": "code",
      "execution_count": null,
      "metadata": {
        "collapsed": false
      },
      "outputs": [],
      "source": [
        "with TemporaryDirectory() as tmpdir:\n    onnx_file_path = str(Path(tmpdir) / \"policy.onnx\")\n    onnx_policy_export.save(onnx_file_path)\n\n    ort_session = onnxruntime.InferenceSession(\n        onnx_file_path, providers=[\"CPUExecutionProvider\"]\n    )\n\nonnxruntime_input = {ort_session.get_inputs()[0].name: screen_obs}\nonnx_policy = ort_session.run(None, onnxruntime_input)"
      ]
    },
    {
      "cell_type": "markdown",
      "metadata": {},
      "source": [
        "### Running a rollout with ONNX\n\nWe now have an ONNX model that runs our policy. Let's compare it to the original TorchRL instance: because it is\nmore lightweight, the ONNX version should be faster than the TorchRL one.\n\n"
      ]
    },
    {
      "cell_type": "code",
      "execution_count": null,
      "metadata": {
        "collapsed": false
      },
      "outputs": [],
      "source": [
        "def onnx_policy(screen_obs: np.ndarray) -> int:  # noqa: F811\n    onnxruntime_input = {ort_session.get_inputs()[0].name: screen_obs}\n    onnxruntime_outputs = ort_session.run(None, onnxruntime_input)\n    action = int(onnxruntime_outputs[0])\n    return action\n\n\nwith timeit(\"ONNX rollout\"):\n    num_steps = 1000\n    ale.reset_game()\n    for _ in range(num_steps):\n        screen_obs = ale.getScreenRGB()\n        action = onnx_policy(screen_obs)\n        reward = ale.act(action)\n\nwith timeit(\"TorchRL version\"), torch.no_grad(), set_exploration_type(\"DETERMINISTIC\"):\n    env.rollout(num_steps, policy_explore)\n\nprint(timeit.print())"
      ]
    },
    {
      "cell_type": "markdown",
      "metadata": {},
      "source": [
        "Note that ONNX also offers the possibility of optimizing models directly, but this is beyond the scope of this\ntutorial.\n\n## Conclusion\n\nIn this tutorial, we learned how to export TorchRL modules using various backends such as PyTorch's built-in export\nfunctionality, ``AOTInductor``, and ``ONNX``.\nWe demonstrated how to export a policy trained on an Atari game and run it on a pytorch-free setting using the ``ALE``\nlibrary. We also compared the performance of the original TorchRL instance with the exported ONNX model.\n\nKey takeaways:\n\n- Exporting TorchRL modules allows for deployment on devices without PyTorch installed.\n- AOTInductor and ONNX provide alternative backends for exporting models.\n- Optimizing ONNX models can improve performance.\n\nFurther reading and learning steps:\n\n- Check out the official documentation for PyTorch's [export functionality](https://pytorch.org/docs/stable/export.html),\n  [AOTInductor](https://pytorch.org/tutorials/recipes/torch_export_aoti_python.html), and\n  [ONNX](https://pytorch.org/tutorials/beginner/onnx/intro_onnx.html) for more\n  information.\n- Experiment with deploying exported models on different devices.\n- Explore optimization techniques for ONNX models to improve performance.\n\n\n"
      ]
    }
  ],
  "metadata": {
    "kernelspec": {
      "display_name": "Python 3",
      "language": "python",
      "name": "python3"
    },
    "language_info": {
      "codemirror_mode": {
        "name": "ipython",
        "version": 3
      },
      "file_extension": ".py",
      "mimetype": "text/x-python",
      "name": "python",
      "nbconvert_exporter": "python",
      "pygments_lexer": "ipython3",
      "version": "3.12.12"
    }
  },
  "nbformat": 4,
  "nbformat_minor": 0
}