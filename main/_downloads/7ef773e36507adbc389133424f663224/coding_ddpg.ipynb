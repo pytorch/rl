{
  "cells": [
    {
      "cell_type": "markdown",
      "metadata": {},
      "source": [
        "\n# TorchRL objectives: Coding a DDPG loss\n**Author**: [Vincent Moens](https://github.com/vmoens)\n\n"
      ]
    },
    {
      "cell_type": "markdown",
      "metadata": {},
      "source": [
        "## Overview\n\nTorchRL separates the training of RL algorithms in various pieces that will be\nassembled in your training script: the environment, the data collection and\nstorage, the model and finally the loss function.\n\nTorchRL losses (or \"objectives\") are stateful objects that contain the\ntrainable parameters (policy and value models).\nThis tutorial will guide you through the steps to code a loss from the ground up\nusing TorchRL.\n\nTo this aim, we will be focusing on DDPG, which is a relatively straightforward\nalgorithm to code.\n[Deep Deterministic Policy Gradient](https://arxiv.org/abs/1509.02971) (DDPG)\nis a simple continuous control algorithm. It consists in learning a\nparametric value function for an action-observation pair, and\nthen learning a policy that outputs actions that maximize this value\nfunction given a certain observation.\n\nWhat you will learn:\n\n- how to write a loss module and customize its value estimator;\n- how to build an environment in TorchRL, including transforms\n  (for example, data normalization) and parallel execution;\n- how to design a policy and value network;\n- how to collect data from your environment efficiently and store them\n  in a replay buffer;\n- how to store trajectories (and not transitions) in your replay buffer);\n- how to evaluate your model.\n\n### Prerequisites\n\nThis tutorial assumes that you have completed the\n[PPO tutorial](reinforcement_ppo.html) which gives\nan overview of the TorchRL components and dependencies, such as\n:class:`tensordict.TensorDict` and :class:`tensordict.nn.TensorDictModules`,\nalthough it should be\nsufficiently transparent to be understood without a deep understanding of\nthese classes.\n\n<div class=\"alert alert-info\"><h4>Note</h4><p>We do not aim at giving a SOTA implementation of the algorithm, but rather\n  to provide a high-level illustration of TorchRL's loss implementations\n  and the library features that are to be used in the context of\n  this algorithm.</p></div>\n\n## Imports and setup\n\n```bash\n%%bash\npip3 install torchrl mujoco glfw\n```\n"
      ]
    },
    {
      "cell_type": "code",
      "execution_count": null,
      "metadata": {
        "collapsed": false
      },
      "outputs": [],
      "source": [
        "import torch\nimport tqdm"
      ]
    },
    {
      "cell_type": "markdown",
      "metadata": {},
      "source": [
        "We will execute the policy on CUDA if available\n\n"
      ]
    },
    {
      "cell_type": "code",
      "execution_count": null,
      "metadata": {
        "collapsed": false
      },
      "outputs": [],
      "source": [
        "is_fork = multiprocessing.get_start_method() == \"fork\"\ndevice = (\n    torch.device(0)\n    if torch.cuda.is_available() and not is_fork\n    else torch.device(\"cpu\")\n)\ncollector_device = torch.device(\"cpu\")  # Change the device to ``cuda`` to use CUDA"
      ]
    },
    {
      "cell_type": "markdown",
      "metadata": {},
      "source": [
        "## TorchRL :class:`~torchrl.objectives.LossModule`\n\nTorchRL provides a series of losses to use in your training scripts.\nThe aim is to have losses that are easily reusable/swappable and that have\na simple signature.\n\nThe main characteristics of TorchRL losses are:\n\n- They are stateful objects: they contain a copy of the trainable parameters\n  such that ``loss_module.parameters()`` gives whatever is needed to train the\n  algorithm.\n- They follow the ``TensorDict`` convention: the :meth:`torch.nn.Module.forward`\n  method will receive a TensorDict as input that contains all the necessary\n  information to return a loss value.\n\n```Python\n>>> data = replay_buffer.sample()\n>>> loss_dict = loss_module(data)\n```\n- They output a :class:`tensordict.TensorDict` instance with the loss values\n  written under a ``\"loss_<smth>\"`` where ``smth`` is a string describing the\n  loss. Additional keys in the ``TensorDict`` may be useful metrics to log during\n  training time.\n\n  .. note::\n    The reason we return independent losses is to let the user use a different\n    optimizer for different sets of parameters for instance. Summing the losses\n    can be simply done via\n\n    ..code - block::Python\n\n      >>> loss_val = sum(loss for key, loss in loss_dict.items() if key.startswith(\"loss_\"))\n\n### The ``__init__`` method\n\nThe parent class of all losses is :class:`~torchrl.objectives.LossModule`.\nAs many other components of the library, its :meth:`~torchrl.objectives.LossModule.forward` method expects\nas input a :class:`tensordict.TensorDict` instance sampled from an experience\nreplay buffer, or any similar data structure. Using this format makes it\npossible to re-use the module across\nmodalities, or in complex settings where the model needs to read multiple\nentries for instance. In other words, it allows us to code a loss module that\nis oblivious to the data type that is being given to is and that focuses on\nrunning the elementary steps of the loss function and only those.\n\nTo keep the tutorial as didactic as we can, we'll be displaying each method\nof the class independently and we'll be populating the class at a later\nstage.\n\nLet us start with the :meth:`~torchrl.objectives.LossModule.__init__`\nmethod. DDPG aims at solving a control task with a simple strategy:\ntraining a policy to output actions that maximize the value predicted by\na value network. Hence, our loss module needs to receive two networks in its\nconstructor: an actor and a value networks. We expect both of these to be\nTensorDict-compatible objects, such as\n:class:`tensordict.nn.TensorDictModule`.\nOur loss function will need to compute a target value and fit the value\nnetwork to this, and generate an action and fit the policy such that its\nvalue estimate is maximized.\n\nThe crucial step of the :meth:`LossModule.__init__` method is the call to\n:meth:`~torchrl.LossModule.convert_to_functional`. This method will extract\nthe parameters from the module and convert it to a functional module.\nStrictly speaking, this is not necessary and one may perfectly code all\nthe losses without it. However, we encourage its usage for the following\nreason.\n\nThe reason TorchRL does this is that RL algorithms often execute the same\nmodel with different sets of parameters, called \"trainable\" and \"target\"\nparameters.\nThe \"trainable\" parameters are those that the optimizer needs to fit. The\n\"target\" parameters are usually a copy of the former's with some time lag\n(absolute or diluted through a moving average).\nThese target parameters are used to compute the value associated with the\nnext observation. One the advantages of using a set of target parameters\nfor the value model that do not match exactly the current configuration is\nthat they provide a pessimistic bound on the value function being computed.\nPay attention to the ``create_target_params`` keyword argument below: this\nargument tells the :meth:`~torchrl.objectives.LossModule.convert_to_functional`\nmethod to create a set of target parameters in the loss module to be used\nfor target value computation. If this is set to ``False`` (see the actor network\nfor instance) the ``target_actor_network_params`` attribute will still be\naccessible but this will just return a **detached** version of the\nactor parameters.\n\nLater, we will see how the target parameters should be updated in TorchRL.\n\n\n"
      ]
    },
    {
      "cell_type": "code",
      "execution_count": null,
      "metadata": {
        "collapsed": false
      },
      "outputs": [],
      "source": [
        "from tensordict.nn import TensorDictModule, TensorDictSequential\n\n\ndef _init(\n    self,\n    actor_network: TensorDictModule,\n    value_network: TensorDictModule,\n) -> None:\n    super(type(self), self).__init__()\n\n    self.convert_to_functional(\n        actor_network,\n        \"actor_network\",\n        create_target_params=True,\n    )\n    self.convert_to_functional(\n        value_network,\n        \"value_network\",\n        create_target_params=True,\n        compare_against=list(actor_network.parameters()),\n    )\n\n    self.actor_in_keys = actor_network.in_keys\n\n    # Since the value we'll be using is based on the actor and value network,\n    # we put them together in a single actor-critic container.\n    actor_critic = ActorCriticWrapper(actor_network, value_network)\n    self.actor_critic = actor_critic\n    self.loss_function = \"l2\""
      ]
    },
    {
      "cell_type": "markdown",
      "metadata": {},
      "source": [
        "### The value estimator loss method\n\nIn many RL algorithm, the value network (or Q-value network) is trained based\non an empirical value estimate. This can be bootstrapped (TD(0), low\nvariance, high bias), meaning\nthat the target value is obtained using the next reward and nothing else, or\na Monte-Carlo estimate can be obtained (TD(1)) in which case the whole\nsequence of upcoming rewards will be used (high variance, low bias). An\nintermediate estimator (TD($\\lambda$)) can also be used to compromise\nbias and variance.\nTorchRL makes it easy to use one or the other estimator via the\n:class:`~torchrl.objectives.utils.ValueEstimators` Enum class, which contains\npointers to all the value estimators implemented. Let us define the default\nvalue function here. We will take the simplest version (TD(0)), and show later\non how this can be changed.\n\n"
      ]
    },
    {
      "cell_type": "code",
      "execution_count": null,
      "metadata": {
        "collapsed": false
      },
      "outputs": [],
      "source": [
        "from torchrl.objectives.utils import ValueEstimators\n\ndefault_value_estimator = ValueEstimators.TD0"
      ]
    },
    {
      "cell_type": "markdown",
      "metadata": {},
      "source": [
        "We also need to give some instructions to DDPG on how to build the value\nestimator, depending on the user query. Depending on the estimator provided,\nwe will build the corresponding module to be used at train time:\n\n"
      ]
    },
    {
      "cell_type": "code",
      "execution_count": null,
      "metadata": {
        "collapsed": false
      },
      "outputs": [],
      "source": [
        "from torchrl.objectives.utils import default_value_kwargs\nfrom torchrl.objectives.value import TD0Estimator, TD1Estimator, TDLambdaEstimator\n\n\ndef make_value_estimator(self, value_type: ValueEstimators, **hyperparams):\n    hp = dict(default_value_kwargs(value_type))\n    if hasattr(self, \"gamma\"):\n        hp[\"gamma\"] = self.gamma\n    hp.update(hyperparams)\n    value_key = \"state_action_value\"\n    if value_type == ValueEstimators.TD1:\n        self._value_estimator = TD1Estimator(value_network=self.actor_critic, **hp)\n    elif value_type == ValueEstimators.TD0:\n        self._value_estimator = TD0Estimator(value_network=self.actor_critic, **hp)\n    elif value_type == ValueEstimators.GAE:\n        raise NotImplementedError(\n            f\"Value type {value_type} it not implemented for loss {type(self)}.\"\n        )\n    elif value_type == ValueEstimators.TDLambda:\n        self._value_estimator = TDLambdaEstimator(value_network=self.actor_critic, **hp)\n    else:\n        raise NotImplementedError(f\"Unknown value type {value_type}\")\n    self._value_estimator.set_keys(value=value_key)"
      ]
    },
    {
      "cell_type": "markdown",
      "metadata": {},
      "source": [
        "The ``make_value_estimator`` method can but does not need to be called: if\nnot, the :class:`~torchrl.objectives.LossModule` will query this method with\nits default estimator.\n\n### The actor loss method\n\nThe central piece of an RL algorithm is the training loss for the actor.\nIn the case of DDPG, this function is quite simple: we just need to compute\nthe value associated with an action computed using the policy and optimize\nthe actor weights to maximize this value.\n\nWhen computing this value, we must make sure to take the value parameters out\nof the graph, otherwise the actor and value loss will be mixed up.\nFor this, the :func:`~torchrl.objectives.utils.hold_out_params` function\ncan be used.\n\n"
      ]
    },
    {
      "cell_type": "code",
      "execution_count": null,
      "metadata": {
        "collapsed": false
      },
      "outputs": [],
      "source": [
        "def _loss_actor(\n    self,\n    tensordict,\n) -> torch.Tensor:\n    td_copy = tensordict.select(*self.actor_in_keys)\n    # Get an action from the actor network: since we made it functional, we need to pass the params\n    with self.actor_network_params.to_module(self.actor_network):\n        td_copy = self.actor_network(td_copy)\n    # get the value associated with that action\n    with self.value_network_params.detach().to_module(self.value_network):\n        td_copy = self.value_network(td_copy)\n    return -td_copy.get(\"state_action_value\")"
      ]
    },
    {
      "cell_type": "markdown",
      "metadata": {},
      "source": [
        "### The value loss method\n\nWe now need to optimize our value network parameters.\nTo do this, we will rely on the value estimator of our class:\n\n\n"
      ]
    },
    {
      "cell_type": "code",
      "execution_count": null,
      "metadata": {
        "collapsed": false
      },
      "outputs": [],
      "source": [
        "from torchrl.objectives.utils import distance_loss\n\n\ndef _loss_value(\n    self,\n    tensordict,\n):\n    td_copy = tensordict.clone()\n\n    # V(s, a)\n    with self.value_network_params.to_module(self.value_network):\n        self.value_network(td_copy)\n    pred_val = td_copy.get(\"state_action_value\").squeeze(-1)\n\n    # we manually reconstruct the parameters of the actor-critic, where the first\n    # set of parameters belongs to the actor and the second to the value function.\n    target_params = TensorDict(\n        {\n            \"module\": {\n                \"0\": self.target_actor_network_params,\n                \"1\": self.target_value_network_params,\n            }\n        },\n        batch_size=self.target_actor_network_params.batch_size,\n        device=self.target_actor_network_params.device,\n    )\n    with target_params.to_module(self.actor_critic):\n        target_value = self.value_estimator.value_estimate(tensordict).squeeze(-1)\n\n    # Computes the value loss: L2, L1 or smooth L1 depending on `self.loss_function`\n    loss_value = distance_loss(pred_val, target_value, loss_function=self.loss_function)\n    td_error = (pred_val - target_value).pow(2)\n\n    return loss_value, td_error, pred_val, target_value"
      ]
    },
    {
      "cell_type": "markdown",
      "metadata": {},
      "source": [
        "### Putting things together in a forward call\n\nThe only missing piece is the forward method, which will glue together the\nvalue and actor loss, collect the cost values and write them in a ``TensorDict``\ndelivered to the user.\n\n"
      ]
    },
    {
      "cell_type": "code",
      "execution_count": null,
      "metadata": {
        "collapsed": false
      },
      "outputs": [],
      "source": [
        "from tensordict import TensorDict, TensorDictBase\n\n\ndef _forward(self, input_tensordict: TensorDictBase) -> TensorDict:\n    loss_value, td_error, pred_val, target_value = self.loss_value(\n        input_tensordict,\n    )\n    td_error = td_error.detach()\n    td_error = td_error.unsqueeze(input_tensordict.ndimension())\n    if input_tensordict.device is not None:\n        td_error = td_error.to(input_tensordict.device)\n    input_tensordict.set(\n        \"td_error\",\n        td_error,\n        inplace=True,\n    )\n    loss_actor = self.loss_actor(input_tensordict)\n    return TensorDict(\n        source={\n            \"loss_actor\": loss_actor.mean(),\n            \"loss_value\": loss_value.mean(),\n            \"pred_value\": pred_val.mean().detach(),\n            \"target_value\": target_value.mean().detach(),\n            \"pred_value_max\": pred_val.max().detach(),\n            \"target_value_max\": target_value.max().detach(),\n        },\n        batch_size=[],\n    )\n\n\nfrom torchrl.objectives import LossModule\n\n\nclass DDPGLoss(LossModule):\n    default_value_estimator = default_value_estimator\n    make_value_estimator = make_value_estimator\n\n    __init__ = _init\n    forward = _forward\n    loss_value = _loss_value\n    loss_actor = _loss_actor"
      ]
    },
    {
      "cell_type": "markdown",
      "metadata": {},
      "source": [
        "Now that we have our loss, we can use it to train a policy to solve a\ncontrol task.\n\n## Environment\n\nIn most algorithms, the first thing that needs to be taken care of is the\nconstruction of the environment as it conditions the remainder of the\ntraining script.\n\nFor this example, we will be using the ``\"cheetah\"`` task. The goal is to make\na half-cheetah run as fast as possible.\n\nIn TorchRL, one can create such a task by relying on ``dm_control`` or ``gym``:\n\n```python\nenv = GymEnv(\"HalfCheetah-v4\")\n```\nor\n\n```python\nenv = DMControlEnv(\"cheetah\", \"run\")\n```\nBy default, these environment disable rendering. Training from states is\nusually easier than training from images. To keep things simple, we focus\non learning from states only. To pass the pixels to the ``tensordicts`` that\nare collected by :func:`env.step()`, simply pass the ``from_pixels=True``\nargument to the constructor:\n\n```python\nenv = GymEnv(\"HalfCheetah-v4\", from_pixels=True, pixels_only=True)\n```\nWe write a :func:`make_env` helper function that will create an environment\nwith either one of the two backends considered above (``dm-control`` or ``gym``).\n\n\n"
      ]
    },
    {
      "cell_type": "code",
      "execution_count": null,
      "metadata": {
        "collapsed": false
      },
      "outputs": [],
      "source": [
        "from torchrl.envs.libs.dm_control import DMControlEnv\nfrom torchrl.envs.libs.gym import GymEnv\n\nenv_library = None\nenv_name = None\n\n\ndef make_env(from_pixels=False):\n    \"\"\"Create a base ``env``.\"\"\"\n    global env_library\n    global env_name\n\n    if backend == \"dm_control\":\n        env_name = \"cheetah\"\n        env_task = \"run\"\n        env_args = (env_name, env_task)\n        env_library = DMControlEnv\n    elif backend == \"gym\":\n        env_name = \"HalfCheetah-v4\"\n        env_args = (env_name,)\n        env_library = GymEnv\n    else:\n        raise NotImplementedError\n\n    env_kwargs = {\n        \"device\": device,\n        \"from_pixels\": from_pixels,\n        \"pixels_only\": from_pixels,\n        \"frame_skip\": 2,\n    }\n    env = env_library(*env_args, **env_kwargs)\n    return env"
      ]
    },
    {
      "cell_type": "markdown",
      "metadata": {},
      "source": [
        "### Transforms\n\nNow that we have a base environment, we may want to modify its representation\nto make it more policy-friendly. In TorchRL, transforms are appended to the\nbase environment in a specialized :class:`torchr.envs.TransformedEnv` class.\n\n- It is common in DDPG to rescale the reward using some heuristic value. We\n  will multiply the reward by 5 in this example.\n\n- If we are using :mod:`dm_control`, it is also important to build an interface\n  between the simulator which works with double precision numbers, and our\n  script which presumably uses single precision ones. This transformation goes\n  both ways: when calling :func:`env.step`, our actions will need to be\n  represented in double precision, and the output will need to be transformed\n  to single precision.\n  The :class:`~torchrl.envs.DoubleToFloat` transform does exactly this: the\n  ``in_keys`` list refers to the keys that will need to be transformed from\n  double to float, while the ``in_keys_inv`` refers to those that need to\n  be transformed to double before being passed to the environment.\n\n- We concatenate the state keys together using the :class:`~torchrl.envs.CatTensors`\n  transform.\n\n- Finally, we also leave the possibility of normalizing the states: we will\n  take care of computing the normalizing constants later on.\n\n\n"
      ]
    },
    {
      "cell_type": "code",
      "execution_count": null,
      "metadata": {
        "collapsed": false
      },
      "outputs": [],
      "source": [
        "from torchrl.envs import (\n    CatTensors,\n    DoubleToFloat,\n    EnvCreator,\n    InitTracker,\n    ObservationNorm,\n    ParallelEnv,\n    RewardScaling,\n    StepCounter,\n    TransformedEnv,\n)\n\n\ndef make_transformed_env(\n    env,\n):\n    \"\"\"Apply transforms to the ``env`` (such as reward scaling and state normalization).\"\"\"\n\n    env = TransformedEnv(env)\n\n    # we append transforms one by one, although we might as well create the\n    # transformed environment using the `env = TransformedEnv(base_env, transforms)`\n    # syntax.\n    env.append_transform(RewardScaling(loc=0.0, scale=reward_scaling))\n\n    # We concatenate all states into a single \"observation_vector\"\n    # even if there is a single tensor, it'll be renamed in \"observation_vector\".\n    # This facilitates the downstream operations as we know the name of the\n    # output tensor.\n    # In some environments (not half-cheetah), there may be more than one\n    # observation vector: in this case this code snippet will concatenate them\n    # all.\n    selected_keys = list(env.observation_spec.keys())\n    out_key = \"observation_vector\"\n    env.append_transform(CatTensors(in_keys=selected_keys, out_key=out_key))\n\n    # we normalize the states, but for now let's just instantiate a stateless\n    # version of the transform\n    env.append_transform(ObservationNorm(in_keys=[out_key], standard_normal=True))\n\n    env.append_transform(DoubleToFloat())\n\n    env.append_transform(StepCounter(max_frames_per_traj))\n\n    # We need a marker for the start of trajectories for our Ornstein-Uhlenbeck (OU)\n    # exploration:\n    env.append_transform(InitTracker())\n\n    return env"
      ]
    },
    {
      "cell_type": "markdown",
      "metadata": {},
      "source": [
        "### Parallel execution\n\nThe following helper function allows us to run environments in parallel.\nRunning environments in parallel can significantly speed up the collection\nthroughput. When using transformed environment, we need to choose whether we\nwant to execute the transform individually for each environment, or\ncentralize the data and transform it in batch. Both approaches are easy to\ncode:\n\n```python\nenv = ParallelEnv(\n    lambda: TransformedEnv(GymEnv(\"HalfCheetah-v4\"), transforms),\n    num_workers=4\n)\nenv = TransformedEnv(\n    ParallelEnv(lambda: GymEnv(\"HalfCheetah-v4\"), num_workers=4),\n    transforms\n)\n```\nTo leverage the vectorization capabilities of PyTorch, we adopt\nthe first method:\n\n\n"
      ]
    },
    {
      "cell_type": "code",
      "execution_count": null,
      "metadata": {
        "collapsed": false
      },
      "outputs": [],
      "source": [
        "def parallel_env_constructor(\n    env_per_collector,\n    transform_state_dict,\n):\n    if env_per_collector == 1:\n\n        def make_t_env():\n            env = make_transformed_env(make_env())\n            env.transform[2].init_stats(3)\n            env.transform[2].loc.copy_(transform_state_dict[\"loc\"])\n            env.transform[2].scale.copy_(transform_state_dict[\"scale\"])\n            return env\n\n        env_creator = EnvCreator(make_t_env)\n        return env_creator\n\n    parallel_env = ParallelEnv(\n        num_workers=env_per_collector,\n        create_env_fn=EnvCreator(lambda: make_env()),\n        create_env_kwargs=None,\n        pin_memory=False,\n    )\n    env = make_transformed_env(parallel_env)\n    # we call `init_stats` for a limited number of steps, just to instantiate\n    # the lazy buffers.\n    env.transform[2].init_stats(3, cat_dim=1, reduce_dim=[0, 1])\n    env.transform[2].load_state_dict(transform_state_dict)\n    return env\n\n\n# The backend can be ``gym`` or ``dm_control``\nbackend = \"gym\""
      ]
    },
    {
      "cell_type": "markdown",
      "metadata": {},
      "source": [
        "<div class=\"alert alert-info\"><h4>Note</h4><p>``frame_skip`` batches multiple step together with a single action\n  If > 1, the other frame counts (for example, frames_per_batch, total_frames)\n  need to be adjusted to have a consistent total number of frames collected\n  across experiments. This is important as raising the frame-skip but keeping the\n  total number of frames unchanged may seem like cheating: all things compared,\n  a dataset of 10M elements collected with a frame-skip of 2 and another with\n  a frame-skip of 1 actually have a ratio of interactions with the environment\n  of 2:1! In a nutshell, one should be cautious about the frame-count of a\n  training script when dealing with frame skipping as this may lead to\n  biased comparisons between training strategies.</p></div>\n\nScaling the reward helps us control the signal magnitude for a more\nefficient learning.\n\n"
      ]
    },
    {
      "cell_type": "code",
      "execution_count": null,
      "metadata": {
        "collapsed": false
      },
      "outputs": [],
      "source": [
        "reward_scaling = 5.0"
      ]
    },
    {
      "cell_type": "markdown",
      "metadata": {},
      "source": [
        "We also define when a trajectory will be truncated. A thousand steps (500 if\nframe-skip = 2) is a good number to use for the cheetah task:\n\n"
      ]
    },
    {
      "cell_type": "code",
      "execution_count": null,
      "metadata": {
        "collapsed": false
      },
      "outputs": [],
      "source": [
        "max_frames_per_traj = 500"
      ]
    },
    {
      "cell_type": "markdown",
      "metadata": {},
      "source": [
        "### Normalization of the observations\n\nTo compute the normalizing statistics, we run an arbitrary number of random\nsteps in the environment and compute the mean and standard deviation of the\ncollected observations. The :func:`ObservationNorm.init_stats()` method can\nbe used for this purpose. To get the summary statistics, we create a dummy\nenvironment and run it for a given number of steps, collect data over a given\nnumber of steps and compute its summary statistics.\n\n\n"
      ]
    },
    {
      "cell_type": "code",
      "execution_count": null,
      "metadata": {
        "collapsed": false
      },
      "outputs": [],
      "source": [
        "def get_env_stats():\n    \"\"\"Gets the stats of an environment.\"\"\"\n    proof_env = make_transformed_env(make_env())\n    t = proof_env.transform[2]\n    t.init_stats(init_env_steps)\n    transform_state_dict = t.state_dict()\n    proof_env.close()\n    return transform_state_dict"
      ]
    },
    {
      "cell_type": "markdown",
      "metadata": {},
      "source": [
        "### Normalization stats\nNumber of random steps used as for stats computation using ``ObservationNorm``\n\n"
      ]
    },
    {
      "cell_type": "code",
      "execution_count": null,
      "metadata": {
        "collapsed": false
      },
      "outputs": [],
      "source": [
        "init_env_steps = 5000\n\ntransform_state_dict = get_env_stats()"
      ]
    },
    {
      "cell_type": "markdown",
      "metadata": {},
      "source": [
        "Number of environments in each data collector\n\n"
      ]
    },
    {
      "cell_type": "code",
      "execution_count": null,
      "metadata": {
        "collapsed": false
      },
      "outputs": [],
      "source": [
        "env_per_collector = 4"
      ]
    },
    {
      "cell_type": "markdown",
      "metadata": {},
      "source": [
        "We pass the stats computed earlier to normalize the output of our\nenvironment:\n\n"
      ]
    },
    {
      "cell_type": "code",
      "execution_count": null,
      "metadata": {
        "collapsed": false
      },
      "outputs": [],
      "source": [
        "parallel_env = parallel_env_constructor(\n    env_per_collector=env_per_collector,\n    transform_state_dict=transform_state_dict,\n)\n\n\nfrom torchrl.data import Composite"
      ]
    },
    {
      "cell_type": "markdown",
      "metadata": {},
      "source": [
        "## Building the model\n\nWe now turn to the setup of the model. As we have seen, DDPG requires a\nvalue network, trained to estimate the value of a state-action pair, and a\nparametric actor that learns how to select actions that maximize this value.\n\nRecall that building a TorchRL module requires two steps:\n\n- writing the :class:`torch.nn.Module` that will be used as network,\n- wrapping the network in a :class:`tensordict.nn.TensorDictModule` where the\n  data flow is handled by specifying the input and output keys.\n\nIn more complex scenarios, :class:`tensordict.nn.TensorDictSequential` can\nalso be used.\n\n\nThe Q-Value network is wrapped in a :class:`~torchrl.modules.ValueOperator`\nthat automatically sets the ``out_keys`` to ``\"state_action_value`` for q-value\nnetworks and ``state_value`` for other value networks.\n\nTorchRL provides a built-in version of the DDPG networks as presented in the\noriginal paper. These can be found under :class:`~torchrl.modules.DdpgMlpActor`\nand :class:`~torchrl.modules.DdpgMlpQNet`.\n\nSince we use lazy modules, it is necessary to materialize the lazy modules\nbefore being able to move the policy from device to device and achieve other\noperations. Hence, it is good practice to run the modules with a small\nsample of data. For this purpose, we generate fake data from the\nenvironment specs.\n\n\n"
      ]
    },
    {
      "cell_type": "code",
      "execution_count": null,
      "metadata": {
        "collapsed": false
      },
      "outputs": [],
      "source": [
        "from torchrl.modules import (\n    ActorCriticWrapper,\n    DdpgMlpActor,\n    DdpgMlpQNet,\n    OrnsteinUhlenbeckProcessModule,\n    ProbabilisticActor,\n    TanhDelta,\n    ValueOperator,\n)\n\n\ndef make_ddpg_actor(\n    transform_state_dict,\n    device=\"cpu\",\n):\n    proof_environment = make_transformed_env(make_env())\n    proof_environment.transform[2].init_stats(3)\n    proof_environment.transform[2].load_state_dict(transform_state_dict)\n\n    out_features = proof_environment.action_spec.shape[-1]\n\n    actor_net = DdpgMlpActor(\n        action_dim=out_features,\n    )\n\n    in_keys = [\"observation_vector\"]\n    out_keys = [\"param\"]\n\n    actor = TensorDictModule(\n        actor_net,\n        in_keys=in_keys,\n        out_keys=out_keys,\n    )\n\n    actor = ProbabilisticActor(\n        actor,\n        distribution_class=TanhDelta,\n        in_keys=[\"param\"],\n        spec=Composite(action=proof_environment.action_spec),\n    ).to(device)\n\n    q_net = DdpgMlpQNet()\n\n    in_keys = in_keys + [\"action\"]\n    qnet = ValueOperator(\n        in_keys=in_keys,\n        module=q_net,\n    ).to(device)\n\n    # initialize lazy modules\n    qnet(actor(proof_environment.reset().to(device)))\n    return actor, qnet\n\n\nactor, qnet = make_ddpg_actor(\n    transform_state_dict=transform_state_dict,\n    device=device,\n)"
      ]
    },
    {
      "cell_type": "markdown",
      "metadata": {},
      "source": [
        "### Exploration\n\nThe policy is passed into a :class:`~torchrl.modules.OrnsteinUhlenbeckProcessModule`\nexploration module, as suggested in the original paper.\nLet's define the number of frames before OU noise reaches its minimum value\n\n"
      ]
    },
    {
      "cell_type": "code",
      "execution_count": null,
      "metadata": {
        "collapsed": false
      },
      "outputs": [],
      "source": [
        "annealing_frames = 1_000_000\n\nactor_model_explore = TensorDictSequential(\n    actor,\n    OrnsteinUhlenbeckProcessModule(\n        spec=actor.spec.clone(),\n        annealing_num_steps=annealing_frames,\n    ).to(device),\n)\nif device == torch.device(\"cpu\"):\n    actor_model_explore.share_memory()"
      ]
    },
    {
      "cell_type": "markdown",
      "metadata": {},
      "source": [
        "## Data collector\n\nTorchRL provides specialized classes to help you collect data by executing\nthe policy in the environment. These \"data collectors\" iteratively compute\nthe action to be executed at a given time, then execute a step in the\nenvironment and reset it when required.\nData collectors are designed to help developers have a tight control\non the number of frames per batch of data, on the (a)sync nature of this\ncollection and on the resources allocated to the data collection (for example\nGPU, number of workers, and so on).\n\nHere we will use\n:class:`~torchrl.collectors.SyncDataCollector`, a simple, single-process\ndata collector. TorchRL offers other collectors, such as\n:class:`~torchrl.collectors.MultiaSyncDataCollector`, which executed the\nrollouts in an asynchronous manner (for example, data will be collected while\nthe policy is being optimized, thereby decoupling the training and\ndata collection).\n\nThe parameters to specify are:\n\n- an environment factory or an environment,\n- the policy,\n- the total number of frames before the collector is considered empty,\n- the maximum number of frames per trajectory (useful for non-terminating\n  environments, like ``dm_control`` ones).\n\n  .. note::\n\n    The ``max_frames_per_traj`` passed to the collector will have the effect\n    of registering a new :class:`~torchrl.envs.StepCounter` transform\n    with the environment used for inference. We can achieve the same result\n    manually, as we do in this script.\n\nOne should also pass:\n\n- the number of frames in each batch collected,\n- the number of random steps executed independently from the policy,\n- the devices used for policy execution\n- the devices used to store data before the data is passed to the main\n  process.\n\nThe total frames we will use during training should be around 1M.\n\n"
      ]
    },
    {
      "cell_type": "code",
      "execution_count": null,
      "metadata": {
        "collapsed": false
      },
      "outputs": [],
      "source": [
        "total_frames = 10_000  # 1_000_000"
      ]
    },
    {
      "cell_type": "markdown",
      "metadata": {},
      "source": [
        "The number of frames returned by the collector at each iteration of the outer\nloop is equal to the length of each sub-trajectories times the number of\nenvironments run in parallel in each collector.\n\nIn other words, we expect batches from the collector to have a shape\n``[env_per_collector, traj_len]`` where\n``traj_len=frames_per_batch/env_per_collector``:\n\n\n"
      ]
    },
    {
      "cell_type": "code",
      "execution_count": null,
      "metadata": {
        "collapsed": false
      },
      "outputs": [],
      "source": [
        "traj_len = 200\nframes_per_batch = env_per_collector * traj_len\ninit_random_frames = 5000\nnum_collectors = 2\n\nfrom torchrl.collectors import SyncDataCollector\nfrom torchrl.envs import ExplorationType\n\ncollector = SyncDataCollector(\n    parallel_env,\n    policy=actor_model_explore,\n    total_frames=total_frames,\n    frames_per_batch=frames_per_batch,\n    init_random_frames=init_random_frames,\n    reset_at_each_iter=False,\n    split_trajs=False,\n    device=collector_device,\n    exploration_type=ExplorationType.RANDOM,\n)"
      ]
    },
    {
      "cell_type": "markdown",
      "metadata": {},
      "source": [
        "## Evaluator: building your recorder object\n\nAs the training data is obtained using some exploration strategy, the true\nperformance of our algorithm needs to be assessed in deterministic mode. We\ndo this using a dedicated class, ``LogValidationReward``, which executes the policy in\nthe environment at a given frequency and returns some statistics obtained\nfrom these simulations.\n\nThe following helper function builds this object:\n\n"
      ]
    },
    {
      "cell_type": "code",
      "execution_count": null,
      "metadata": {
        "collapsed": false
      },
      "outputs": [],
      "source": [
        "from torchrl.trainers import LogValidationReward\n\n\ndef make_recorder(actor_model_explore, transform_state_dict, record_interval):\n    base_env = make_env()\n    environment = make_transformed_env(base_env)\n    environment.transform[2].init_stats(\n        3\n    )  # must be instantiated to load the state dict\n    environment.transform[2].load_state_dict(transform_state_dict)\n\n    recorder_obj = LogValidationReward(\n        record_frames=1000,\n        policy_exploration=actor_model_explore,\n        environment=environment,\n        exploration_type=ExplorationType.DETERMINISTIC,\n        record_interval=record_interval,\n    )\n    return recorder_obj"
      ]
    },
    {
      "cell_type": "markdown",
      "metadata": {},
      "source": [
        "We will be recording the performance every 10 batch collected\n\n"
      ]
    },
    {
      "cell_type": "code",
      "execution_count": null,
      "metadata": {
        "collapsed": false
      },
      "outputs": [],
      "source": [
        "record_interval = 10\n\nrecorder = make_recorder(\n    actor_model_explore, transform_state_dict, record_interval=record_interval\n)\n\nfrom torchrl.data.replay_buffers import (\n    LazyMemmapStorage,\n    PrioritizedSampler,\n    RandomSampler,\n    TensorDictReplayBuffer,\n)"
      ]
    },
    {
      "cell_type": "markdown",
      "metadata": {},
      "source": [
        "## Replay buffer\n\nReplay buffers come in two flavors: prioritized (where some error signal\nis used to give a higher likelihood of sampling to some items than others)\nand regular, circular experience replay.\n\nTorchRL replay buffers are composable: one can pick up the storage, sampling\nand writing strategies. It is also possible to\nstore tensors on physical memory using a memory-mapped array. The following\nfunction takes care of creating the replay buffer with the desired\nhyperparameters:\n\n\n"
      ]
    },
    {
      "cell_type": "code",
      "execution_count": null,
      "metadata": {
        "collapsed": false
      },
      "outputs": [],
      "source": [
        "from torchrl.envs import RandomCropTensorDict\n\n\ndef make_replay_buffer(buffer_size, batch_size, random_crop_len, prefetch=3, prb=False):\n    if prb:\n        sampler = PrioritizedSampler(\n            max_capacity=buffer_size,\n            alpha=0.7,\n            beta=0.5,\n        )\n    else:\n        sampler = RandomSampler()\n    replay_buffer = TensorDictReplayBuffer(\n        storage=LazyMemmapStorage(\n            buffer_size,\n            scratch_dir=buffer_scratch_dir,\n        ),\n        batch_size=batch_size,\n        sampler=sampler,\n        pin_memory=False,\n        prefetch=prefetch,\n        transform=RandomCropTensorDict(random_crop_len, sample_dim=1),\n    )\n    return replay_buffer"
      ]
    },
    {
      "cell_type": "markdown",
      "metadata": {},
      "source": [
        "We'll store the replay buffer in a temporary directory on disk\n\n"
      ]
    },
    {
      "cell_type": "code",
      "execution_count": null,
      "metadata": {
        "collapsed": false
      },
      "outputs": [],
      "source": [
        "import tempfile\n\ntmpdir = tempfile.TemporaryDirectory()\nbuffer_scratch_dir = tmpdir.name"
      ]
    },
    {
      "cell_type": "markdown",
      "metadata": {},
      "source": [
        "### Replay buffer storage and batch size\n\nTorchRL replay buffer counts the number of elements along the first dimension.\nSince we'll be feeding trajectories to our buffer, we need to adapt the buffer\nsize by dividing it by the length of the sub-trajectories yielded by our\ndata collector.\nRegarding the batch-size, our sampling strategy will consist in sampling\ntrajectories of length ``traj_len=200`` before selecting sub-trajectories\nor length ``random_crop_len=25`` on which the loss will be computed.\nThis strategy balances the choice of storing whole trajectories of a certain\nlength with the need for providing samples with a sufficient heterogeneity\nto our loss. The following figure shows the dataflow from a collector\nthat gets 8 frames in each batch with 2 environments run in parallel,\nfeeds them to a replay buffer that contains 1000 trajectories and\nsamples sub-trajectories of 2 time steps each.\n\n.. figure:: /_static/img/replaybuffer_traj.png\n   :alt: Storing trajectories in the replay buffer\n\nLet's start with the number of frames stored in the buffer\n\n"
      ]
    },
    {
      "cell_type": "code",
      "execution_count": null,
      "metadata": {
        "collapsed": false
      },
      "outputs": [],
      "source": [
        "def ceil_div(x, y):\n    return -x // (-y)\n\n\nbuffer_size = 1_000_000\nbuffer_size = ceil_div(buffer_size, traj_len)"
      ]
    },
    {
      "cell_type": "markdown",
      "metadata": {},
      "source": [
        "Prioritized replay buffer is disabled by default\n\n"
      ]
    },
    {
      "cell_type": "code",
      "execution_count": null,
      "metadata": {
        "collapsed": false
      },
      "outputs": [],
      "source": [
        "prb = False"
      ]
    },
    {
      "cell_type": "markdown",
      "metadata": {},
      "source": [
        "We also need to define how many updates we'll be doing per batch of data\ncollected. This is known as the update-to-data or ``UTD`` ratio:\n\n"
      ]
    },
    {
      "cell_type": "code",
      "execution_count": null,
      "metadata": {
        "collapsed": false
      },
      "outputs": [],
      "source": [
        "update_to_data = 64"
      ]
    },
    {
      "cell_type": "markdown",
      "metadata": {},
      "source": [
        "We'll be feeding the loss with trajectories of length 25:\n\n"
      ]
    },
    {
      "cell_type": "code",
      "execution_count": null,
      "metadata": {
        "collapsed": false
      },
      "outputs": [],
      "source": [
        "random_crop_len = 25"
      ]
    },
    {
      "cell_type": "markdown",
      "metadata": {},
      "source": [
        "In the original paper, the authors perform one update with a batch of 64\nelements for each frame collected. Here, we reproduce the same ratio\nbut while realizing several updates at each batch collection. We\nadapt our batch-size to achieve the same number of update-per-frame ratio:\n\n"
      ]
    },
    {
      "cell_type": "code",
      "execution_count": null,
      "metadata": {
        "collapsed": false
      },
      "outputs": [],
      "source": [
        "batch_size = ceil_div(64 * frames_per_batch, update_to_data * random_crop_len)\n\nreplay_buffer = make_replay_buffer(\n    buffer_size=buffer_size,\n    batch_size=batch_size,\n    random_crop_len=random_crop_len,\n    prefetch=3,\n    prb=prb,\n)"
      ]
    },
    {
      "cell_type": "markdown",
      "metadata": {},
      "source": [
        "## Loss module construction\n\nWe build our loss module with the actor and ``qnet`` we've just created.\nBecause we have target parameters to update, we _must_ create a target network\nupdater.\n\n\n"
      ]
    },
    {
      "cell_type": "code",
      "execution_count": null,
      "metadata": {
        "collapsed": false
      },
      "outputs": [],
      "source": [
        "gamma = 0.99\nlmbda = 0.9\ntau = 0.001  # Decay factor for the target network\n\nloss_module = DDPGLoss(actor, qnet)"
      ]
    },
    {
      "cell_type": "markdown",
      "metadata": {},
      "source": [
        "let's use the TD(lambda) estimator!\n\n"
      ]
    },
    {
      "cell_type": "code",
      "execution_count": null,
      "metadata": {
        "collapsed": false
      },
      "outputs": [],
      "source": [
        "loss_module.make_value_estimator(ValueEstimators.TDLambda, gamma=gamma, lmbda=lmbda)"
      ]
    },
    {
      "cell_type": "markdown",
      "metadata": {},
      "source": [
        "<div class=\"alert alert-info\"><h4>Note</h4><p>Off-policy usually dictates a TD(0) estimator. Here, we use a TD($\\lambda$)\n  estimator, which will introduce some bias as the trajectory that follows\n  a certain state has been collected with an outdated policy.\n  This trick, as the multi-step trick that can be used during data collection,\n  are alternative versions of \"hacks\" that we usually find to work well in\n  practice despite the fact that they introduce some bias in the return\n  estimates.</p></div>\n\n### Target network updater\n\nTarget networks are a crucial part of off-policy RL algorithms.\nUpdating the target network parameters is made easy thanks to the\n:class:`~torchrl.objectives.HardUpdate` and :class:`~torchrl.objectives.SoftUpdate`\nclasses. They're built with the loss module as argument, and the update is\nachieved via a call to `updater.step()` at the appropriate location in the\ntraining loop.\n\n"
      ]
    },
    {
      "cell_type": "code",
      "execution_count": null,
      "metadata": {
        "collapsed": false
      },
      "outputs": [],
      "source": [
        "from torchrl.objectives.utils import SoftUpdate\n\ntarget_net_updater = SoftUpdate(loss_module, eps=1 - tau)"
      ]
    },
    {
      "cell_type": "markdown",
      "metadata": {},
      "source": [
        "### Optimizer\n\nFinally, we will use the Adam optimizer for the policy and value network:\n\n"
      ]
    },
    {
      "cell_type": "code",
      "execution_count": null,
      "metadata": {
        "collapsed": false
      },
      "outputs": [],
      "source": [
        "from torch import optim\n\noptimizer_actor = optim.Adam(\n    loss_module.actor_network_params.values(True, True), lr=1e-4, weight_decay=0.0\n)\noptimizer_value = optim.Adam(\n    loss_module.value_network_params.values(True, True), lr=1e-3, weight_decay=1e-2\n)\ntotal_collection_steps = total_frames // frames_per_batch"
      ]
    },
    {
      "cell_type": "markdown",
      "metadata": {},
      "source": [
        "## Time to train the policy\n\nThe training loop is pretty straightforward now that we have built all the\nmodules we need.\n\n\n"
      ]
    },
    {
      "cell_type": "code",
      "execution_count": null,
      "metadata": {
        "collapsed": false
      },
      "outputs": [],
      "source": [
        "rewards = []\nrewards_eval = []\n\n# Main loop\n\ncollected_frames = 0\npbar = tqdm.tqdm(total=total_frames)\nr0 = None\nfor i, tensordict in enumerate(collector):\n\n    # update weights of the inference policy\n    collector.update_policy_weights_()\n\n    if r0 is None:\n        r0 = tensordict[\"next\", \"reward\"].mean().item()\n    pbar.update(tensordict.numel())\n\n    # extend the replay buffer with the new data\n    current_frames = tensordict.numel()\n    collected_frames += current_frames\n    replay_buffer.extend(tensordict.cpu())\n\n    # optimization steps\n    if collected_frames >= init_random_frames:\n        for _ in range(update_to_data):\n            # sample from replay buffer\n            sampled_tensordict = replay_buffer.sample().to(device)\n\n            # Compute loss\n            loss_dict = loss_module(sampled_tensordict)\n\n            # optimize\n            loss_dict[\"loss_actor\"].backward()\n            gn1 = torch.nn.utils.clip_grad_norm_(\n                loss_module.actor_network_params.values(True, True), 10.0\n            )\n            optimizer_actor.step()\n            optimizer_actor.zero_grad()\n\n            loss_dict[\"loss_value\"].backward()\n            gn2 = torch.nn.utils.clip_grad_norm_(\n                loss_module.value_network_params.values(True, True), 10.0\n            )\n            optimizer_value.step()\n            optimizer_value.zero_grad()\n\n            gn = (gn1**2 + gn2**2) ** 0.5\n\n            # update priority\n            if prb:\n                replay_buffer.update_tensordict_priority(sampled_tensordict)\n            # update target network\n            target_net_updater.step()\n\n    rewards.append(\n        (\n            i,\n            tensordict[\"next\", \"reward\"].mean().item(),\n        )\n    )\n    td_record = recorder(None)\n    if td_record is not None:\n        rewards_eval.append((i, td_record[\"r_evaluation\"].item()))\n    if len(rewards_eval) and collected_frames >= init_random_frames:\n        target_value = loss_dict[\"target_value\"].item()\n        loss_value = loss_dict[\"loss_value\"].item()\n        loss_actor = loss_dict[\"loss_actor\"].item()\n        rn = sampled_tensordict[\"next\", \"reward\"].mean().item()\n        rs = sampled_tensordict[\"next\", \"reward\"].std().item()\n        pbar.set_description(\n            f\"reward: {rewards[-1][1]: 4.2f} (r0 = {r0: 4.2f}), \"\n            f\"reward eval: reward: {rewards_eval[-1][1]: 4.2f}, \"\n            f\"reward normalized={rn :4.2f}/{rs :4.2f}, \"\n            f\"grad norm={gn: 4.2f}, \"\n            f\"loss_value={loss_value: 4.2f}, \"\n            f\"loss_actor={loss_actor: 4.2f}, \"\n            f\"target value: {target_value: 4.2f}\"\n        )\n\n    # update the exploration strategy\n    actor_model_explore[1].step(current_frames)\n\ncollector.shutdown()\ndel collector\n\ntry:\n    parallel_env.close()\n    del parallel_env\nexcept Exception:\n    pass"
      ]
    },
    {
      "cell_type": "markdown",
      "metadata": {},
      "source": [
        "## Experiment results\n\nWe make a simple plot of the average rewards during training. We can observe\nthat our policy learned quite well to solve the task.\n\n<div class=\"alert alert-info\"><h4>Note</h4><p>As already mentioned above, to get a more reasonable performance,\n  use a greater value for ``total_frames`` for example, 1M.</p></div>\n\n"
      ]
    },
    {
      "cell_type": "code",
      "execution_count": null,
      "metadata": {
        "collapsed": false
      },
      "outputs": [],
      "source": [
        "from matplotlib import pyplot as plt\n\nplt.figure()\nplt.plot(*zip(*rewards), label=\"training\")\nplt.plot(*zip(*rewards_eval), label=\"eval\")\nplt.legend()\nplt.xlabel(\"iter\")\nplt.ylabel(\"reward\")\nplt.tight_layout()"
      ]
    },
    {
      "cell_type": "markdown",
      "metadata": {},
      "source": [
        "## Conclusion\n\nIn this tutorial, we have learned how to code a loss module in TorchRL given\nthe concrete example of DDPG.\n\nThe key takeaways are:\n\n- How to use the :class:`~torchrl.objectives.LossModule` class to code up a new\n  loss component;\n- How to use (or not) a target network, and how to update its parameters;\n- How to create an optimizer associated with a loss module.\n\n## Next Steps\n\nTo iterate further on this loss module we might consider:\n\n- Using `@dispatch` (see [[Feature] Distpatch IQL loss module](https://github.com/pytorch/rl/pull/1230).)\n- Allowing flexible TensorDict keys.\n\n\n"
      ]
    }
  ],
  "metadata": {
    "kernelspec": {
      "display_name": "Python 3",
      "language": "python",
      "name": "python3"
    },
    "language_info": {
      "codemirror_mode": {
        "name": "ipython",
        "version": 3
      },
      "file_extension": ".py",
      "mimetype": "text/x-python",
      "name": "python",
      "nbconvert_exporter": "python",
      "pygments_lexer": "ipython3",
      "version": "3.9.24"
    }
  },
  "nbformat": 4,
  "nbformat_minor": 0
}