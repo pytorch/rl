{
  "cells": [
    {
      "cell_type": "markdown",
      "metadata": {},
      "source": [
        "\n# TorchRL trainer: A DQN example\n**Author**: [Vincent Moens](https://github.com/vmoens)\n\n"
      ]
    },
    {
      "cell_type": "markdown",
      "metadata": {},
      "source": [
        "TorchRL provides a generic :class:`~torchrl.trainers.Trainer` class to handle\nyour training loop. The trainer executes a nested loop where the outer loop\nis the data collection and the inner loop consumes this data or some data\nretrieved from the replay buffer to train the model.\nAt various points in this training loop, hooks can be attached and executed at\ngiven intervals.\n\nIn this tutorial, we will be using the trainer class to train a DQN algorithm\nto solve the CartPole task from scratch.\n\nMain takeaways:\n\n- Building a trainer with its essential components: data collector, loss\n  module, replay buffer and optimizer.\n- Adding hooks to a trainer, such as loggers, target network updaters and such.\n\nThe trainer is fully customisable and offers a large set of functionalities.\nThe tutorial is organised around its construction.\nWe will be detailing how to build each of the components of the library first,\nand then put the pieces together using the :class:`~torchrl.trainers.Trainer`\nclass.\n\nAlong the road, we will also focus on some other aspects of the library:\n\n- how to build an environment in TorchRL, including transforms (e.g. data\n  normalization, frame concatenation, resizing and turning to grayscale)\n  and parallel execution. Unlike what we did in the\n  `DDPG tutorial <coding_ddpg>`, we\n  will normalize the pixels and not the state vector.\n- how to design a :class:`~torchrl.modules.QValueActor` object, i.e. an actor\n  that estimates the action values and picks up the action with the highest\n  estimated return;\n- how to collect data from your environment efficiently and store them\n  in a replay buffer;\n- how to use multi-step, a simple preprocessing step for off-policy algorithms;\n- and finally how to evaluate your model.\n\n**Prerequisites**: We encourage you to get familiar with torchrl through the\n`PPO tutorial <coding_ppo>` first.\n\n## DQN\n\nDQN ([Deep Q-Learning](https://www.cs.toronto.edu/~vmnih/docs/dqn.pdf)) was\nthe founding work in deep reinforcement learning.\n\nOn a high level, the algorithm is quite simple: Q-learning consists in\nlearning a table of state-action values in such a way that, when\nencountering any particular state, we know which action to pick just by\nsearching for the one with the highest value. This simple setting\nrequires the actions and states to be\ndiscrete, otherwise a lookup table cannot be built.\n\nDQN uses a neural network that encodes a map from the state-action space to\na value (scalar) space, which amortizes the cost of storing and exploring all\nthe possible state-action combinations: if a state has not been seen in the\npast, we can still pass it in conjunction with the various actions available\nthrough our neural network and get an interpolated value for each of the\nactions available.\n\nWe will solve the classic control problem of the cart pole. From the\nGymnasium doc from where this environment is retrieved:\n\n| A pole is attached by an un-actuated joint to a cart, which moves along a\n| frictionless track. The pendulum is placed upright on the cart and the goal\n| is to balance the pole by applying forces in the left and right direction\n| on the cart.\n\n.. figure:: /_static/img/cartpole_demo.gif\n   :alt: Cart Pole\n\nWe do not aim at giving a SOTA implementation of the algorithm, but rather\nto provide a high-level illustration of TorchRL features in the context\nof this algorithm.\n\n"
      ]
    },
    {
      "cell_type": "code",
      "execution_count": null,
      "metadata": {
        "collapsed": false
      },
      "outputs": [],
      "source": [
        "import os\nimport uuid\n\nimport torch\nfrom torch import nn\nfrom torchrl.collectors import MultiaSyncDataCollector, SyncDataCollector\nfrom torchrl.data import LazyMemmapStorage, MultiStep, TensorDictReplayBuffer\nfrom torchrl.envs import (\n    EnvCreator,\n    ExplorationType,\n    ParallelEnv,\n    RewardScaling,\n    StepCounter,\n)\nfrom torchrl.envs.libs.gym import GymEnv\nfrom torchrl.envs.transforms import (\n    CatFrames,\n    Compose,\n    GrayScale,\n    ObservationNorm,\n    Resize,\n    ToTensorImage,\n    TransformedEnv,\n)\nfrom torchrl.modules import DuelingCnnDQNet, EGreedyModule, QValueActor\n\nfrom torchrl.objectives import DQNLoss, SoftUpdate\nfrom torchrl.record.loggers.csv import CSVLogger\nfrom torchrl.trainers import (\n    LogScalar,\n    LogValidationReward,\n    ReplayBufferTrainer,\n    Trainer,\n    UpdateWeights,\n)\n\n\ndef is_notebook() -> bool:\n    try:\n        shell = get_ipython().__class__.__name__\n        if shell == \"ZMQInteractiveShell\":\n            return True  # Jupyter notebook or qtconsole\n        elif shell == \"TerminalInteractiveShell\":\n            return False  # Terminal running IPython\n        else:\n            return False  # Other type (?)\n    except NameError:\n        return False  # Probably standard Python interpreter"
      ]
    },
    {
      "cell_type": "markdown",
      "metadata": {},
      "source": [
        "Let's get started with the various pieces we need for our algorithm:\n\n- An environment;\n- A policy (and related modules that we group under the \"model\" umbrella);\n- A data collector, which makes the policy play in the environment and\n  delivers training data;\n- A replay buffer to store the training data;\n- A loss module, which computes the objective function to train our policy\n  to maximise the return;\n- An optimizer, which performs parameter updates based on our loss.\n\nAdditional modules include a logger, a recorder (executes the policy in\n\"eval\" mode) and a target network updater. With all these components into\nplace, it is easy to see how one could misplace or misuse one component in\nthe training script. The trainer is there to orchestrate everything for you!\n\n## Building the environment\n\nFirst let's write a helper function that will output an environment. As usual,\nthe \"raw\" environment may be too simple to be used in practice and we'll need\nsome data transformation to expose its output to the policy.\n\nWe will be using five transforms:\n\n- :class:`~torchrl.envs.StepCounter` to count the number of steps in each trajectory;\n- :class:`~torchrl.envs.transforms.ToTensorImage` will convert a ``[W, H, C]`` uint8\n  tensor in a floating point tensor in the ``[0, 1]`` space with shape\n  ``[C, W, H]``;\n- :class:`~torchrl.envs.transforms.RewardScaling` to reduce the scale of the return;\n- :class:`~torchrl.envs.transforms.GrayScale` will turn our image into grayscale;\n- :class:`~torchrl.envs.transforms.Resize` will resize the image in a 64x64 format;\n- :class:`~torchrl.envs.transforms.CatFrames` will concatenate an arbitrary number of\n  successive frames (``N=4``) in a single tensor along the channel dimension.\n  This is useful as a single image does not carry information about the\n  motion of the cartpole. Some memory about past observations and actions\n  is needed, either via a recurrent neural network or using a stack of\n  frames.\n- :class:`~torchrl.envs.transforms.ObservationNorm` which will normalize our observations\n  given some custom summary statistics.\n\nIn practice, our environment builder has two arguments:\n\n- ``parallel``: determines whether multiple environments have to be run in\n  parallel. We stack the transforms after the\n  :class:`~torchrl.envs.ParallelEnv` to take advantage\n  of vectorization of the operations on device, although this would\n  technically work with every single environment attached to its own set of\n  transforms.\n- ``obs_norm_sd`` will contain the normalizing constants for\n  the :class:`~torchrl.envs.ObservationNorm` transform.\n\n\n"
      ]
    },
    {
      "cell_type": "code",
      "execution_count": null,
      "metadata": {
        "collapsed": false
      },
      "outputs": [],
      "source": [
        "def make_env(\n    parallel=False,\n    obs_norm_sd=None,\n    num_workers=1,\n):\n    if obs_norm_sd is None:\n        obs_norm_sd = {\"standard_normal\": True}\n    if parallel:\n\n        def maker():\n            return GymEnv(\n                \"CartPole-v1\",\n                from_pixels=True,\n                pixels_only=True,\n                device=device,\n            )\n\n        base_env = ParallelEnv(\n            num_workers,\n            EnvCreator(maker),\n            # Don't create a sub-process if we have only one worker\n            serial_for_single=True,\n            mp_start_method=mp_context,\n        )\n    else:\n        base_env = GymEnv(\n            \"CartPole-v1\",\n            from_pixels=True,\n            pixels_only=True,\n            device=device,\n        )\n\n    env = TransformedEnv(\n        base_env,\n        Compose(\n            StepCounter(),  # to count the steps of each trajectory\n            ToTensorImage(),\n            RewardScaling(loc=0.0, scale=0.1),\n            GrayScale(),\n            Resize(64, 64),\n            CatFrames(4, in_keys=[\"pixels\"], dim=-3),\n            ObservationNorm(in_keys=[\"pixels\"], **obs_norm_sd),\n        ),\n    )\n    return env"
      ]
    },
    {
      "cell_type": "markdown",
      "metadata": {},
      "source": [
        "### Compute normalizing constants\n\nTo normalize images, we don't want to normalize each pixel independently\nwith a full ``[C, W, H]`` normalizing mask, but with simpler ``[C, 1, 1]``\nshaped set of normalizing constants (loc and scale parameters).\nWe will be using the ``reduce_dim`` argument\nof :meth:`~torchrl.envs.ObservationNorm.init_stats` to instruct which\ndimensions must be reduced, and the ``keep_dims`` parameter to ensure that\nnot all dimensions disappear in the process:\n\n\n"
      ]
    },
    {
      "cell_type": "code",
      "execution_count": null,
      "metadata": {
        "collapsed": false
      },
      "outputs": [],
      "source": [
        "def get_norm_stats():\n    test_env = make_env()\n    test_env.transform[-1].init_stats(\n        num_iter=1000, cat_dim=0, reduce_dim=[-1, -2, -4], keep_dims=(-1, -2)\n    )\n    obs_norm_sd = test_env.transform[-1].state_dict()\n    # let's check that normalizing constants have a size of ``[C, 1, 1]`` where\n    # ``C=4`` (because of :class:`~torchrl.envs.CatFrames`).\n    print(\"state dict of the observation norm:\", obs_norm_sd)\n    test_env.close()\n    del test_env\n    return obs_norm_sd"
      ]
    },
    {
      "cell_type": "markdown",
      "metadata": {},
      "source": [
        "## Building the model (Deep Q-network)\n\nThe following function builds a :class:`~torchrl.modules.DuelingCnnDQNet`\nobject which is a simple CNN followed by a two-layer MLP. The only trick used\nhere is that the action values (i.e. left and right action value) are\ncomputed using\n\n\\begin{align}\\mathbb{v} = b(obs) + v(obs) - \\mathbb{E}[v(obs)]\\end{align}\n\nwhere $\\mathbb{v}$ is our vector of action values,\n$b$ is a $\\mathbb{R}^n \\rightarrow 1$ function and $v$ is a\n$\\mathbb{R}^n \\rightarrow \\mathbb{R}^m$ function, for\n$n = \\# obs$ and $m = \\# actions$.\n\nOur network is wrapped in a :class:`~torchrl.modules.QValueActor`,\nwhich will read the state-action\nvalues, pick up the one with the maximum value and write all those results\nin the input :class:`tensordict.TensorDict`.\n\n\n"
      ]
    },
    {
      "cell_type": "code",
      "execution_count": null,
      "metadata": {
        "collapsed": false
      },
      "outputs": [],
      "source": [
        "def make_model(dummy_env):\n    cnn_kwargs = {\n        \"num_cells\": [32, 64, 64],\n        \"kernel_sizes\": [6, 4, 3],\n        \"strides\": [2, 2, 1],\n        \"activation_class\": nn.ELU,\n        # This can be used to reduce the size of the last layer of the CNN\n        # \"squeeze_output\": True,\n        # \"aggregator_class\": nn.AdaptiveAvgPool2d,\n        # \"aggregator_kwargs\": {\"output_size\": (1, 1)},\n    }\n    mlp_kwargs = {\n        \"depth\": 2,\n        \"num_cells\": [\n            64,\n            64,\n        ],\n        \"activation_class\": nn.ELU,\n    }\n    net = DuelingCnnDQNet(\n        dummy_env.action_spec.shape[-1], 1, cnn_kwargs, mlp_kwargs\n    ).to(device)\n    net.value[-1].bias.data.fill_(init_bias)\n\n    actor = QValueActor(net, in_keys=[\"pixels\"], spec=dummy_env.action_spec).to(device)\n    # init actor: because the model is composed of lazy conv/linear layers,\n    # we must pass a fake batch of data through it to instantiate them.\n    tensordict = dummy_env.fake_tensordict()\n    actor(tensordict)\n\n    # we join our actor with an EGreedyModule for data collection\n    exploration_module = EGreedyModule(\n        spec=dummy_env.action_spec,\n        annealing_num_steps=total_frames,\n        eps_init=eps_greedy_val,\n        eps_end=eps_greedy_val_env,\n    )\n    actor_explore = TensorDictSequential(actor, exploration_module)\n\n    return actor, actor_explore"
      ]
    },
    {
      "cell_type": "markdown",
      "metadata": {},
      "source": [
        "## Collecting and storing data\n\n### Replay buffers\n\nReplay buffers play a central role in off-policy RL algorithms such as DQN.\nThey constitute the dataset we will be sampling from during training.\n\nHere, we will use a regular sampling strategy, although a prioritized RB\ncould improve the performance significantly.\n\nWe place the storage on disk using\n:class:`~torchrl.data.replay_buffers.storages.LazyMemmapStorage` class. This\nstorage is created in a lazy manner: it will only be instantiated once the\nfirst batch of data is passed to it.\n\nThe only requirement of this storage is that the data passed to it at write\ntime must always have the same shape.\n\n"
      ]
    },
    {
      "cell_type": "code",
      "execution_count": null,
      "metadata": {
        "collapsed": false
      },
      "outputs": [],
      "source": [
        "buffer_scratch_dir = tempfile.TemporaryDirectory().name\n\n\ndef get_replay_buffer(buffer_size, n_optim, batch_size, device):\n    replay_buffer = TensorDictReplayBuffer(\n        batch_size=batch_size,\n        storage=LazyMemmapStorage(buffer_size, scratch_dir=buffer_scratch_dir),\n        prefetch=n_optim,\n        transform=lambda td: td.to(device),\n    )\n    return replay_buffer"
      ]
    },
    {
      "cell_type": "markdown",
      "metadata": {},
      "source": [
        "### Data collector\n\nAs in `PPO <coding_ppo>` and\n`DDPG <coding_ddpg>`, we will be using\na data collector as a dataloader in the outer loop.\n\nWe choose the following configuration: we will be running a series of\nparallel environments synchronously in parallel in different collectors,\nthemselves running in parallel but asynchronously.\n\n<div class=\"alert alert-info\"><h4>Note</h4><p>This feature is only available when running the code within the \"spawn\"\n  start method of python multiprocessing library. If this tutorial is run\n  directly as a script (thereby using the \"fork\" method) we will be using\n  a regular :class:`~torchrl.collectors.SyncDataCollector`.</p></div>\n\nThe advantage of this configuration is that we can balance the amount of\ncompute that is executed in batch with what we want to be executed\nasynchronously. We encourage the reader to experiment how the collection\nspeed is impacted by modifying the number of collectors (ie the number of\nenvironment constructors passed to the collector) and the number of\nenvironment executed in parallel in each collector (controlled by the\n``num_workers`` hyperparameter).\n\nCollector's devices are fully parametrizable through the ``device`` (general),\n``policy_device``, ``env_device`` and ``storing_device`` arguments.\nThe ``storing_device`` argument will modify the\nlocation of the data being collected: if the batches that we are gathering\nhave a considerable size, we may want to store them on a different location\nthan the device where the computation is happening. For asynchronous data\ncollectors such as ours, different storing devices mean that the data that\nwe collect won't sit on the same device each time, which is something that\nout training loop must account for. For simplicity, we set the devices to\nthe same value for all sub-collectors.\n\n"
      ]
    },
    {
      "cell_type": "code",
      "execution_count": null,
      "metadata": {
        "collapsed": false
      },
      "outputs": [],
      "source": [
        "def get_collector(\n    stats,\n    num_collectors,\n    actor_explore,\n    frames_per_batch,\n    total_frames,\n    device,\n):\n    # We can't use nested child processes with mp_start_method=\"fork\"\n    if is_fork:\n        cls = SyncDataCollector\n        env_arg = make_env(parallel=True, obs_norm_sd=stats, num_workers=num_workers)\n    else:\n        cls = MultiaSyncDataCollector\n        env_arg = [\n            make_env(parallel=True, obs_norm_sd=stats, num_workers=num_workers)\n        ] * num_collectors\n    data_collector = cls(\n        env_arg,\n        policy=actor_explore,\n        frames_per_batch=frames_per_batch,\n        total_frames=total_frames,\n        # this is the default behavior: the collector runs in ``\"random\"`` (or explorative) mode\n        exploration_type=ExplorationType.RANDOM,\n        # We set the all the devices to be identical. Below is an example of\n        # heterogeneous devices\n        device=device,\n        storing_device=device,\n        split_trajs=False,\n        postproc=MultiStep(gamma=gamma, n_steps=5),\n    )\n    return data_collector"
      ]
    },
    {
      "cell_type": "markdown",
      "metadata": {},
      "source": [
        "## Loss function\n\nBuilding our loss function is straightforward: we only need to provide\nthe model and a bunch of hyperparameters to the DQNLoss class.\n\n### Target parameters\n\nMany off-policy RL algorithms use the concept of \"target parameters\" when it\ncomes to estimate the value of the next state or state-action pair.\nThe target parameters are lagged copies of the model parameters. Because\ntheir predictions mismatch those of the current model configuration, they\nhelp learning by putting a pessimistic bound on the value being estimated.\nThis is a powerful trick (known as \"Double Q-Learning\") that is ubiquitous\nin similar algorithms.\n\n\n"
      ]
    },
    {
      "cell_type": "code",
      "execution_count": null,
      "metadata": {
        "collapsed": false
      },
      "outputs": [],
      "source": [
        "def get_loss_module(actor, gamma):\n    loss_module = DQNLoss(actor, delay_value=True)\n    loss_module.make_value_estimator(gamma=gamma)\n    target_updater = SoftUpdate(loss_module, eps=0.995)\n    return loss_module, target_updater"
      ]
    },
    {
      "cell_type": "markdown",
      "metadata": {},
      "source": [
        "## Hyperparameters\n\nLet's start with our hyperparameters. The following setting should work well\nin practice, and the performance of the algorithm should hopefully not be\ntoo sensitive to slight variations of these.\n\n"
      ]
    },
    {
      "cell_type": "code",
      "execution_count": null,
      "metadata": {
        "collapsed": false
      },
      "outputs": [],
      "source": [
        "is_fork = multiprocessing.get_start_method() == \"fork\"\ndevice = (\n    torch.device(0)\n    if torch.cuda.is_available() and not is_fork\n    else torch.device(\"cpu\")\n)"
      ]
    },
    {
      "cell_type": "markdown",
      "metadata": {},
      "source": [
        "### Optimizer\n\n"
      ]
    },
    {
      "cell_type": "code",
      "execution_count": null,
      "metadata": {
        "collapsed": false
      },
      "outputs": [],
      "source": [
        "# the learning rate of the optimizer\nlr = 2e-3\n# weight decay\nwd = 1e-5\n# the beta parameters of Adam\nbetas = (0.9, 0.999)\n# Optimization steps per batch collected (aka UPD or updates per data)\nn_optim = 8"
      ]
    },
    {
      "cell_type": "markdown",
      "metadata": {},
      "source": [
        "### DQN parameters\ngamma decay factor\n\n"
      ]
    },
    {
      "cell_type": "code",
      "execution_count": null,
      "metadata": {
        "collapsed": false
      },
      "outputs": [],
      "source": [
        "gamma = 0.99"
      ]
    },
    {
      "cell_type": "markdown",
      "metadata": {},
      "source": [
        "Smooth target network update decay parameter.\nThis loosely corresponds to a 1/tau interval with hard target network\nupdate\n\n"
      ]
    },
    {
      "cell_type": "code",
      "execution_count": null,
      "metadata": {
        "collapsed": false
      },
      "outputs": [],
      "source": [
        "tau = 0.02"
      ]
    },
    {
      "cell_type": "markdown",
      "metadata": {},
      "source": [
        "### Data collection and replay buffer\n\n<div class=\"alert alert-info\"><h4>Note</h4><p>Values to be used for proper training have been commented.</p></div>\n\nTotal frames collected in the environment. In other implementations, the\nuser defines a maximum number of episodes.\nThis is harder to do with our data collectors since they return batches\nof N collected frames, where N is a constant.\nHowever, one can easily get the same restriction on number of episodes by\nbreaking the training loop when a certain number\nepisodes has been collected.\n\n"
      ]
    },
    {
      "cell_type": "code",
      "execution_count": null,
      "metadata": {
        "collapsed": false
      },
      "outputs": [],
      "source": [
        "total_frames = 5_000  # 500000"
      ]
    },
    {
      "cell_type": "markdown",
      "metadata": {},
      "source": [
        "Random frames used to initialize the replay buffer.\n\n"
      ]
    },
    {
      "cell_type": "code",
      "execution_count": null,
      "metadata": {
        "collapsed": false
      },
      "outputs": [],
      "source": [
        "init_random_frames = 100  # 1000"
      ]
    },
    {
      "cell_type": "markdown",
      "metadata": {},
      "source": [
        "Frames in each batch collected.\n\n"
      ]
    },
    {
      "cell_type": "code",
      "execution_count": null,
      "metadata": {
        "collapsed": false
      },
      "outputs": [],
      "source": [
        "frames_per_batch = 32  # 128"
      ]
    },
    {
      "cell_type": "markdown",
      "metadata": {},
      "source": [
        "Frames sampled from the replay buffer at each optimization step\n\n"
      ]
    },
    {
      "cell_type": "code",
      "execution_count": null,
      "metadata": {
        "collapsed": false
      },
      "outputs": [],
      "source": [
        "batch_size = 32  # 256"
      ]
    },
    {
      "cell_type": "markdown",
      "metadata": {},
      "source": [
        "Size of the replay buffer in terms of frames\n\n"
      ]
    },
    {
      "cell_type": "code",
      "execution_count": null,
      "metadata": {
        "collapsed": false
      },
      "outputs": [],
      "source": [
        "buffer_size = min(total_frames, 100000)"
      ]
    },
    {
      "cell_type": "markdown",
      "metadata": {},
      "source": [
        "Number of environments run in parallel in each data collector\n\n"
      ]
    },
    {
      "cell_type": "code",
      "execution_count": null,
      "metadata": {
        "collapsed": false
      },
      "outputs": [],
      "source": [
        "num_workers = 2  # 8\nnum_collectors = 2  # 4"
      ]
    },
    {
      "cell_type": "markdown",
      "metadata": {},
      "source": [
        "### Environment and exploration\n\nWe set the initial and final value of the epsilon factor in Epsilon-greedy\nexploration.\nSince our policy is deterministic, exploration is crucial: without it, the\nonly source of randomness would be the environment reset.\n\n"
      ]
    },
    {
      "cell_type": "code",
      "execution_count": null,
      "metadata": {
        "collapsed": false
      },
      "outputs": [],
      "source": [
        "eps_greedy_val = 0.1\neps_greedy_val_env = 0.005"
      ]
    },
    {
      "cell_type": "markdown",
      "metadata": {},
      "source": [
        "To speed up learning, we set the bias of the last layer of our value network\nto a predefined value (this is not mandatory)\n\n"
      ]
    },
    {
      "cell_type": "code",
      "execution_count": null,
      "metadata": {
        "collapsed": false
      },
      "outputs": [],
      "source": [
        "init_bias = 2.0"
      ]
    },
    {
      "cell_type": "markdown",
      "metadata": {},
      "source": [
        "<div class=\"alert alert-info\"><h4>Note</h4><p>For fast rendering of the tutorial ``total_frames`` hyperparameter\n  was set to a very low number. To get a reasonable performance, use a greater\n  value e.g. 500000</p></div>\n\n\n"
      ]
    },
    {
      "cell_type": "markdown",
      "metadata": {},
      "source": [
        "## Building a Trainer\n\nTorchRL's :class:`~torchrl.trainers.Trainer` class constructor takes the\nfollowing keyword-only arguments:\n\n- ``collector``\n- ``loss_module``\n- ``optimizer``\n- ``logger``: A logger can be\n- ``total_frames``: this parameter defines the lifespan of the trainer.\n- ``frame_skip``: when a frame-skip is used, the collector must be made\n  aware of it in order to accurately count the number of frames\n  collected etc. Making the trainer aware of this parameter is not\n  mandatory but helps to have a fairer comparison between settings where\n  the total number of frames (budget) is fixed but the frame-skip is\n  variable.\n\n"
      ]
    },
    {
      "cell_type": "code",
      "execution_count": null,
      "metadata": {
        "collapsed": false
      },
      "outputs": [],
      "source": [
        "stats = get_norm_stats()\ntest_env = make_env(parallel=False, obs_norm_sd=stats)\n# Get model\nactor, actor_explore = make_model(test_env)\nloss_module, target_net_updater = get_loss_module(actor, gamma)\n\ncollector = get_collector(\n    stats=stats,\n    num_collectors=num_collectors,\n    actor_explore=actor_explore,\n    frames_per_batch=frames_per_batch,\n    total_frames=total_frames,\n    device=device,\n)\noptimizer = torch.optim.Adam(\n    loss_module.parameters(), lr=lr, weight_decay=wd, betas=betas\n)\nexp_name = f\"dqn_exp_{uuid.uuid1()}\"\ntmpdir = tempfile.TemporaryDirectory()\nlogger = CSVLogger(exp_name=exp_name, log_dir=tmpdir.name)\nwarnings.warn(f\"log dir: {logger.experiment.log_dir}\")"
      ]
    },
    {
      "cell_type": "markdown",
      "metadata": {},
      "source": [
        "We can control how often the scalars should be logged. Here we set this\nto a low value as our training loop is short:\n\n"
      ]
    },
    {
      "cell_type": "code",
      "execution_count": null,
      "metadata": {
        "collapsed": false
      },
      "outputs": [],
      "source": [
        "log_interval = 500\n\ntrainer = Trainer(\n    collector=collector,\n    total_frames=total_frames,\n    frame_skip=1,\n    loss_module=loss_module,\n    optimizer=optimizer,\n    logger=logger,\n    optim_steps_per_batch=n_optim,\n    log_interval=log_interval,\n)"
      ]
    },
    {
      "cell_type": "markdown",
      "metadata": {},
      "source": [
        "### Registering hooks\n\nRegistering hooks can be achieved in two separate ways:\n\n- If the hook has it, the :meth:`~torchrl.trainers.TrainerHookBase.register`\n  method is the first choice. One just needs to provide the trainer as input\n  and the hook will be registered with a default name at a default location.\n  For some hooks, the registration can be quite complex: :class:`~torchrl.trainers.ReplayBufferTrainer`\n  requires 3 hooks (``extend``, ``sample`` and ``update_priority``) which\n  can be cumbersome to implement.\n\n"
      ]
    },
    {
      "cell_type": "code",
      "execution_count": null,
      "metadata": {
        "collapsed": false
      },
      "outputs": [],
      "source": [
        "buffer_hook = ReplayBufferTrainer(\n    get_replay_buffer(buffer_size, n_optim, batch_size=batch_size, device=device),\n    flatten_tensordicts=True,\n)\nbuffer_hook.register(trainer)\nweight_updater = UpdateWeights(collector, update_weights_interval=1)\nweight_updater.register(trainer)\nrecorder = LogValidationReward(\n    record_interval=100,  # log every 100 optimization steps\n    record_frames=1000,  # maximum number of frames in the record\n    frame_skip=1,\n    policy_exploration=actor_explore,\n    environment=test_env,\n    exploration_type=ExplorationType.DETERMINISTIC,\n    log_keys=[(\"next\", \"reward\")],\n    out_keys={(\"next\", \"reward\"): \"rewards\"},\n    log_pbar=True,\n)\nrecorder.register(trainer)"
      ]
    },
    {
      "cell_type": "markdown",
      "metadata": {},
      "source": [
        "The exploration module epsilon factor is also annealed:\n\n\n"
      ]
    },
    {
      "cell_type": "code",
      "execution_count": null,
      "metadata": {
        "collapsed": false
      },
      "outputs": [],
      "source": [
        "trainer.register_op(\"post_steps\", actor_explore[1].step, frames=frames_per_batch)"
      ]
    },
    {
      "cell_type": "markdown",
      "metadata": {},
      "source": [
        "- Any callable (including :class:`~torchrl.trainers.TrainerHookBase`\n  subclasses) can be registered using :meth:`~torchrl.trainers.Trainer.register_op`.\n  In this case, a location must be explicitly passed (). This method gives\n  more control over the location of the hook but it also requires more\n  understanding of the Trainer mechanism.\n  Check the `trainer documentation <ref_trainers>`\n  for a detailed description of the trainer hooks.\n\n\n"
      ]
    },
    {
      "cell_type": "code",
      "execution_count": null,
      "metadata": {
        "collapsed": false
      },
      "outputs": [],
      "source": [
        "trainer.register_op(\"post_optim\", target_net_updater.step)"
      ]
    },
    {
      "cell_type": "markdown",
      "metadata": {},
      "source": [
        "We can log the training rewards too. Note that this is of limited interest\nwith CartPole, as rewards are always 1. The discounted sum of rewards is\nmaximised not by getting higher rewards but by keeping the cart-pole alive\nfor longer.\nThis will be reflected by the `total_rewards` value displayed in the\nprogress bar.\n\n\n"
      ]
    },
    {
      "cell_type": "code",
      "execution_count": null,
      "metadata": {
        "collapsed": false
      },
      "outputs": [],
      "source": [
        "log_reward = LogScalar(log_pbar=True)\nlog_reward.register(trainer)"
      ]
    },
    {
      "cell_type": "markdown",
      "metadata": {},
      "source": [
        "<div class=\"alert alert-info\"><h4>Note</h4><p>It is possible to link multiple optimizers to the trainer if needed.\n  In this case, each optimizer will be tied to a field in the loss\n  dictionary.\n  Check the :class:`~torchrl.trainers.OptimizerHook` to learn more.</p></div>\n\nHere we are, ready to train our algorithm! A simple call to\n``trainer.train()`` and we'll be getting our results logged in.\n\n\n"
      ]
    },
    {
      "cell_type": "code",
      "execution_count": null,
      "metadata": {
        "collapsed": false
      },
      "outputs": [],
      "source": [
        "trainer.train()"
      ]
    },
    {
      "cell_type": "markdown",
      "metadata": {},
      "source": [
        "We can now quickly check the CSVs with the results.\n\n"
      ]
    },
    {
      "cell_type": "code",
      "execution_count": null,
      "metadata": {
        "collapsed": false
      },
      "outputs": [],
      "source": [
        "def print_csv_files_in_folder(folder_path):\n    \"\"\"\n    Find all CSV files in a folder and prints the first 10 lines of each file.\n\n    Args:\n        folder_path (str): The relative path to the folder.\n\n    \"\"\"\n    csv_files = []\n    output_str = \"\"\n    for dirpath, _, filenames in os.walk(folder_path):\n        for file in filenames:\n            if file.endswith(\".csv\"):\n                csv_files.append(os.path.join(dirpath, file))\n    for csv_file in csv_files:\n        output_str += f\"File: {csv_file}\\n\"\n        with open(csv_file) as f:\n            for i, line in enumerate(f):\n                if i == 10:\n                    break\n                output_str += line.strip() + \"\\n\"\n        output_str += \"\\n\"\n    print(output_str)\n\n\nprint_csv_files_in_folder(logger.experiment.log_dir)\n\ntrainer.shutdown()\ndel trainer"
      ]
    },
    {
      "cell_type": "markdown",
      "metadata": {},
      "source": [
        "## Conclusion and possible improvements\n\nIn this tutorial we have learned:\n\n- How to write a Trainer, including building its components and registering\n  them in the trainer;\n- How to code a DQN algorithm, including how to create a policy that picks\n  up the action with the highest value with\n  :class:`~torchrl.modules.QValueNetwork`;\n- How to build a multiprocessed data collector;\n\nPossible improvements to this tutorial could include:\n\n- A prioritized replay buffer could also be used. This will give a\n  higher priority to samples that have the worst value accuracy.\n  Learn more on the\n  `replay buffer section <ref_buffers>`\n  of the documentation.\n- A distributional loss (see :class:`~torchrl.objectives.DistributionalDQNLoss`\n  for more information).\n- More fancy exploration techniques, such as :class:`~torchrl.modules.NoisyLinear` layers and such.\n\n"
      ]
    }
  ],
  "metadata": {
    "kernelspec": {
      "display_name": "Python 3",
      "language": "python",
      "name": "python3"
    },
    "language_info": {
      "codemirror_mode": {
        "name": "ipython",
        "version": 3
      },
      "file_extension": ".py",
      "mimetype": "text/x-python",
      "name": "python",
      "nbconvert_exporter": "python",
      "pygments_lexer": "ipython3",
      "version": "3.12.12"
    }
  },
  "nbformat": 4,
  "nbformat_minor": 0
}