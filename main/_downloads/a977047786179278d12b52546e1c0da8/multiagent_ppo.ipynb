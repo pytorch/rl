{
  "cells": [
    {
      "cell_type": "markdown",
      "metadata": {},
      "source": [
        "\n# Multi-Agent Reinforcement Learning (PPO) with TorchRL Tutorial\n**Author**: [Matteo Bettini](https://github.com/matteobettini)\n\n.. seealso::\n   The [BenchMARL](https://github.com/facebookresearch/BenchMARL)_ library provides state-of-the-art\n   implementations of MARL algorithms using TorchRL.\n\nThis tutorial demonstrates how to use PyTorch and :py:mod:`torchrl` to\nsolve a Multi-Agent Reinforcement Learning (MARL) problem.\n\nFor ease of use, this tutorial will follow the general structure of the already available in:\n:doc:`/tutorials/coding_ppo`.\nIt is suggested but not mandatory to get familiar with that prior to starting this tutorial.\n\nIn this tutorial, we will use the *Navigation* environment from\n[VMAS](https://github.com/proroklab/VectorizedMultiAgentSimulator)_,\na multi-robot simulator, also\nbased on PyTorch, that runs parallel batched simulation on device.\n\nIn the *Navigation* environment,\nwe need to train multiple robots (spawned at random positions)\nto navigate to their goals (also at random positions), while\nusing  [LIDAR sensors](https://en.wikipedia.org/wiki/Lidar)_ to avoid collisions among each other.\n\n.. figure:: https://pytorch.s3.amazonaws.com/torchrl/github-artifacts/img/navigation.gif\n   :alt: Navigation\n\n   Multi-agent *Navigation* scenario\n\nKey learnings:\n\n- How to create a multi-agent environment in TorchRL, how its specs work, and how it integrates with the library;\n- How you use GPU vectorized environments in TorchRL;\n- How to create different multi-agent network architectures in TorchRL (e.g., using parameter sharing, centralised critic)\n- How we can use :class:`tensordict.TensorDict` to carry multi-agent data;\n- How we can tie all the library components (collectors, modules, replay buffers, and losses) in a multi-agent MAPPO/IPPO training loop.\n"
      ]
    },
    {
      "cell_type": "markdown",
      "metadata": {},
      "source": [
        "If you are running this in Google Colab, make sure you install the following dependencies:\n\n```bash\n!pip3 install torchrl\n!pip3 install vmas\n!pip3 install tqdm\n```\nProximal Policy Optimization (PPO) is a policy-gradient algorithm where a\nbatch of data is being collected and directly consumed to train the policy to maximise\nthe expected return given some proximality constraints. You can think of it\nas a sophisticated version of [REINFORCE](https://link.springer.com/content/pdf/10.1007/BF00992696.pdf),\nthe foundational policy-optimization algorithm. For more information, see the\n[Proximal Policy Optimization Algorithms](https://arxiv.org/abs/1707.06347) paper.\n\nThis type of algorithms is usually trained *on-policy*. This means that, at every learning iteration, we have a\n**sampling** and a **training** phase. In the **sampling** phase of iteration $t$, rollouts are collected\nfrom agents' interactions in the environment using the current policies $\\mathbf{\\pi}_t$.\nIn the **training** phase, all the collected rollouts are immediately fed to the training process to perform\nbackpropagation. This leads to updated policies which are then used again for sampling.\nThe execution of this process in a loop constitutes *on-policy learning*.\n\n.. figure:: https://pytorch.s3.amazonaws.com/torchrl/github-artifacts/img/on_policy_vmas.png\n   :alt: On-policy learning\n\n   On-policy learning\n\n\nIn the training phase of the PPO algorithm, a *critic* is used to estimate the goodness of the actions\ntaken by the policy. The critic learns to approximate the value (mean discounted return) of a specific state.\nThe PPO loss then compares the actual return obtained by the policy to the one estimated by the critic to determine\nthe advantage of the action taken and guide the policy optimization.\n\nIn multi-agent settings, things are a bit different. We now have multiple policies $\\mathbf{\\pi}$,\none for each agent. Policies are typically local and decentralised. This means that\nthe policy for a single agent will output an action for that agent based only on its observation.\nIn the MARL literature, this is referred to as **decentralised execution**.\nOn the other hand, different formulations exist for the critic, mainly:\n\n- In [MAPPO](https://arxiv.org/abs/2103.01955) the critic is centralised and takes as input the global state\n  of the system. This can be a global observation or simply the concatenation of the agents' observation. MAPPO\n  can be used in contexts where **centralised training** is performed as it needs access to global information.\n- In [IPPO](https://arxiv.org/abs/2011.09533) the critic takes as input just the observation of the respective agent,\n  exactly like the policy. This allows **decentralised training** as both the critic and the policy will only need local\n  information to compute their outputs.\n\nCentralised critics help overcome the non-stationary of multiple agents learning concurrently, but,\non the other hand, they may be impacted by their large input space.\nIn this tutorial, we will be able to train both formulations, and we will also discuss how\nparameter-sharing (the practice of sharing the network parameters across the agents) impacts each.\n\nThis tutorial is structured as follows:\n\n1. First, we will define a set of hyperparameters we will be using.\n\n2. Next, we will create a vectorized multi-agent environment, using TorchRL's\n   wrapper for the VMAS simulator.\n\n3. Next, we will design the policy and the critic networks, discussing the impact of the various choices on\n   parameter sharing and critic centralization.\n\n4. Next, we will create the sampling collector and the replay buffer.\n\n5. Finally, we will run our training loop and analyse the results.\n\nIf you are running this in Colab or in a machine with a GUI, you will also have the option\nto render and visualise your own trained policy prior and after training.\n\nLet's import our dependencies\n\n\n"
      ]
    },
    {
      "cell_type": "code",
      "execution_count": null,
      "metadata": {
        "collapsed": false
      },
      "outputs": [],
      "source": [
        "# Torch\nimport torch\n\n# Tensordict modules\nfrom tensordict.nn import set_composite_lp_aggregate, TensorDictModule\nfrom tensordict.nn.distributions import NormalParamExtractor\nfrom torch import multiprocessing\n\n# Data collection\nfrom torchrl.collectors import SyncDataCollector\nfrom torchrl.data.replay_buffers import ReplayBuffer\nfrom torchrl.data.replay_buffers.samplers import SamplerWithoutReplacement\nfrom torchrl.data.replay_buffers.storages import LazyTensorStorage\n\n# Env\nfrom torchrl.envs import RewardSum, TransformedEnv\nfrom torchrl.envs.libs.vmas import VmasEnv\nfrom torchrl.envs.utils import check_env_specs\n\n# Multi-agent network\nfrom torchrl.modules import MultiAgentMLP, ProbabilisticActor, TanhNormal\n\n# Loss\nfrom torchrl.objectives import ClipPPOLoss, ValueEstimators\n\n# Utils\ntorch.manual_seed(0)\nfrom matplotlib import pyplot as plt\nfrom tqdm import tqdm"
      ]
    },
    {
      "cell_type": "markdown",
      "metadata": {},
      "source": [
        "## Define Hyperparameters\n\nWe set the hyperparameters for our tutorial.\nDepending on the resources\navailable, one may choose to execute the policy and the simulator on GPU or on another\ndevice.\nYou can tune some of these values to adjust the computational requirements.\n\n\n"
      ]
    },
    {
      "cell_type": "code",
      "execution_count": null,
      "metadata": {
        "collapsed": false
      },
      "outputs": [],
      "source": [
        "# Devices\nis_fork = multiprocessing.get_start_method() == \"fork\"\ndevice = (\n    torch.device(0)\n    if torch.cuda.is_available() and not is_fork\n    else torch.device(\"cpu\")\n)\nvmas_device = device  # The device where the simulator is run (VMAS can run on GPU)\n\n# Sampling\nframes_per_batch = 6_000  # Number of team frames collected per training iteration\nn_iters = 5  # Number of sampling and training iterations\ntotal_frames = frames_per_batch * n_iters\n\n# Training\nnum_epochs = 30  # Number of optimization steps per training iteration\nminibatch_size = 400  # Size of the mini-batches in each optimization step\nlr = 3e-4  # Learning rate\nmax_grad_norm = 1.0  # Maximum norm for the gradients\n\n# PPO\nclip_epsilon = 0.2  # clip value for PPO loss\ngamma = 0.99  # discount factor\nlmbda = 0.9  # lambda for generalised advantage estimation\nentropy_eps = 1e-4  # coefficient of the entropy term in the PPO loss\n\n# disable log-prob aggregation\nset_composite_lp_aggregate(False).set()"
      ]
    },
    {
      "cell_type": "markdown",
      "metadata": {},
      "source": [
        "## Environment\n\nMulti-agent environments simulate multiple agents interacting with the world.\nTorchRL API allows integrating various types of multi-agent environment flavors.\nSome examples include environments with shared or individual agent rewards, done flags, and observations.\nFor more information on how the multi-agent environments API works in TorchRL, you can check out the dedicated\n`doc section <MARL-environment-API>`.\n\nThe VMAS simulator, in particular, models agents with individual rewards, info, observations, and actions, but\nwith a collective done flag.\nFurthermore, it uses *vectorization* to perform simulation in a batch.\nThis means that all its state and physics\nare PyTorch tensors with a first dimension representing the number of parallel environments in a batch.\nThis allows leveraging the Single Instruction Multiple Data (SIMD) paradigm of GPUs and significantly\nspeed up parallel computation by leveraging parallelization in GPU warps. It also means\nthat, when using it in TorchRL, both simulation and training can be run on-device, without ever passing\ndata to the CPU.\n\nThe multi-agent task we will solve today is *Navigation* (see animated figure above).\nIn *Navigation*, randomly spawned agents\n(circles with surrounding dots) need to navigate\nto randomly spawned goals (smaller circles).\nAgents need to use LIDARs (dots around them) to\navoid colliding into each other.\nAgents act in a 2D continuous world with drag and elastic collisions.\nTheir actions are 2D continuous forces which determine their acceleration.\nThe reward is composed of three terms: a collision penalization, a reward based on the distance to the goal, and a\nfinal shared reward given when all agents reach their goal.\nThe distance-based term is computed as the difference in the relative distance\nbetween an agent and its goal over two consecutive timesteps.\nEach agent observes its position,\nvelocity, lidar readings, and relative position to its goal.\n\nWe will now instantiate the environment.\nFor this tutorial, we will limit the episodes to ``max_steps``, after which the done flag is set. This is\nfunctionality is already provided in the VMAS simulator but the TorchRL :class:`~.envs.transforms.StepCount`\ntransform could alternatively be used.\nWe will also use ``num_vmas_envs`` vectorized environments, to leverage batch simulation.\n\n\n\n"
      ]
    },
    {
      "cell_type": "code",
      "execution_count": null,
      "metadata": {
        "collapsed": false
      },
      "outputs": [],
      "source": [
        "max_steps = 100  # Episode steps before done\nnum_vmas_envs = (\n    frames_per_batch // max_steps\n)  # Number of vectorized envs. frames_per_batch should be divisible by this number\nscenario_name = \"navigation\"\nn_agents = 3\n\nenv = VmasEnv(\n    scenario=scenario_name,\n    num_envs=num_vmas_envs,\n    continuous_actions=True,  # VMAS supports both continuous and discrete actions\n    max_steps=max_steps,\n    device=vmas_device,\n    # Scenario kwargs\n    n_agents=n_agents,  # These are custom kwargs that change for each VMAS scenario, see the VMAS repo to know more.\n)"
      ]
    },
    {
      "cell_type": "markdown",
      "metadata": {},
      "source": [
        "The environment is not only defined by its simulator and transforms, but also\nby a series of metadata that describe what can be expected during its\nexecution.\nFor efficiency purposes, TorchRL is quite stringent when it comes to\nenvironment specs, but you can easily check that your environment specs are\nadequate.\nIn our example, the :class:`~.envs.libs.vmas.VmasEnv` takes care of setting the proper specs for your env so\nyou should not have to care about this.\n\nThere are four specs to look at:\n\n- ``action_spec`` defines the action space;\n- ``reward_spec`` defines the reward domain;\n- ``done_spec`` defines the done domain;\n- ``observation_spec`` which defines the domain of all other outputs from environment steps;\n\n\n\n"
      ]
    },
    {
      "cell_type": "code",
      "execution_count": null,
      "metadata": {
        "collapsed": false
      },
      "outputs": [],
      "source": [
        "print(\"action_spec:\", env.full_action_spec)\nprint(\"reward_spec:\", env.full_reward_spec)\nprint(\"done_spec:\", env.full_done_spec)\nprint(\"observation_spec:\", env.observation_spec)"
      ]
    },
    {
      "cell_type": "markdown",
      "metadata": {},
      "source": [
        "Using the commands just shown we can access the domain of each value.\nDoing this we can see that all specs apart from done have a leading shape ``(num_vmas_envs, n_agents)``.\nThis represents the fact that those values will be present for each agent in each individual environment.\nThe done spec, on the other hand, has leading shape ``num_vmas_envs``, representing that done is shared among\nagents.\n\nTorchRL has a way to keep track of which MARL specs are shared and which are not.\nIn fact, specs that have the additional agent dimension\n(i.e., they vary for each agent) will be contained in a inner \"agents\" key.\n\nAs you can see the reward and action spec present the \"agent\" key,\nmeaning that entries in tensordicts belonging to those specs will be nested in an \"agents\" tensordict,\ngrouping all per-agent values.\n\nTo quickly access the keys for each of these values in tensordicts, we can simply ask the environment for the\nrespective keys, and\nwe will immediately understand which are per-agent and which shared.\nThis info will be useful in order to tell all other TorchRL components where to find each value\n\n\n"
      ]
    },
    {
      "cell_type": "code",
      "execution_count": null,
      "metadata": {
        "collapsed": false
      },
      "outputs": [],
      "source": [
        "print(\"action_keys:\", env.action_keys)\nprint(\"reward_keys:\", env.reward_keys)\nprint(\"done_keys:\", env.done_keys)"
      ]
    },
    {
      "cell_type": "markdown",
      "metadata": {},
      "source": [
        "### Transforms\n\nWe can append any TorchRL transform we need to our environment.\nThese will modify its input/output in some desired way.\nWe stress that, in multi-agent contexts, it is paramount to provide explicitly the keys to modify.\n\nFor example, in this case, we will instantiate a ``RewardSum`` transform which will sum rewards over the episode.\nWe will tell this transform where to find the reward key and where to write the summed episode reward.\nThe transformed environment will inherit\nthe device and meta-data of the wrapped environment, and transform these depending on the sequence\nof transforms it contains.\n\n\n"
      ]
    },
    {
      "cell_type": "code",
      "execution_count": null,
      "metadata": {
        "collapsed": false
      },
      "outputs": [],
      "source": [
        "env = TransformedEnv(\n    env,\n    RewardSum(in_keys=[env.reward_key], out_keys=[(\"agents\", \"episode_reward\")]),\n)"
      ]
    },
    {
      "cell_type": "markdown",
      "metadata": {},
      "source": [
        "the :func:`check_env_specs` function runs a small rollout and compares its output against the environment\nspecs. If no error is raised, we can be confident that the specs are properly defined:\n\n\n"
      ]
    },
    {
      "cell_type": "code",
      "execution_count": null,
      "metadata": {
        "collapsed": false
      },
      "outputs": [],
      "source": [
        "check_env_specs(env)"
      ]
    },
    {
      "cell_type": "markdown",
      "metadata": {},
      "source": [
        "### Rollout\n\nFor fun, let's see what a simple random rollout looks like. You can\ncall `env.rollout(n_steps)` and get an overview of what the environment inputs\nand outputs look like. Actions will automatically be drawn at random from the action spec\ndomain.\n\n\n"
      ]
    },
    {
      "cell_type": "code",
      "execution_count": null,
      "metadata": {
        "collapsed": false
      },
      "outputs": [],
      "source": [
        "n_rollout_steps = 5\nrollout = env.rollout(n_rollout_steps)\nprint(\"rollout of three steps:\", rollout)\nprint(\"Shape of the rollout TensorDict:\", rollout.batch_size)"
      ]
    },
    {
      "cell_type": "markdown",
      "metadata": {},
      "source": [
        "We can see that our rollout has ``batch_size`` of ``(num_vmas_envs, n_rollout_steps)``.\nThis means that all the tensors in it will have those leading dimensions.\n\nLooking more in depth, we can see that the output tensordict can be divided in the following way:\n\n- *In the root* (accessible by running ``rollout.exclude(\"next\")`` ) we will find all the keys that are available\n  after a reset is called at the first timestep. We can see their evolution through the rollout steps by indexing\n  the ``n_rollout_steps`` dimension. Among these keys, we will find the ones that are different for each agent\n  in the ``rollout[\"agents\"]`` tensordict, which will have batch size ``(num_vmas_envs, n_rollout_steps, n_agents)``\n  signifying that it is storing the additional agent dimension. The ones outside this agent tensordict\n  will be the shared ones (in this case only done).\n- *In the next* (accessible by running ``rollout.get(\"next\")`` ). We will find the same structure as the root,\n  but for keys that are available only after a step.\n\nIn TorchRL the convention is that done and observations will be present in both root and next (as these are\navailable both at reset time and after a step). Action will only be available in root (as there is no action\nresulting from a step) and reward will only be available in next (as there is no reward at reset time).\nThis structure follows the one in **Reinforcement Learning: An Introduction (Sutton and Barto)** where root represents data at time $t$ and\nnext represents data at time $t+1$ of a world step.\n\n\n### Render a random rollout\n\nIf you are on Google Colab, or on a machine with OpenGL and a GUI, you can actually render a random rollout.\nThis will give you an idea of what a random policy will achieve in this task, in order to compare it\nwith the policy you will train yourself!\n\nTo render a rollout, follow the instructions in the *Render* section at the end of this tutorial\nand just remove the line ``policy=policy`` from ``env.rollout()`` .\n\n\n## Policy\n\nPPO utilises a stochastic policy to handle exploration. This means that our\nneural network will have to output the parameters of a distribution, rather\nthan a single value corresponding to the action taken.\n\nAs the data is continuous, we use a Tanh-Normal distribution to respect the\naction space boundaries. TorchRL provides such distribution, and the only\nthing we need to care about is to build a neural network that outputs the\nright number of parameters.\n\nIn this case, each agent's action will be represented by a 2-dimensional independent normal distribution.\nFor this, our neural network will have to output a mean and a standard deviation for each action.\nEach agent will thus have ``2 * n_actions_per_agents`` outputs.\n\nAnother important decision we need to make is whether we want our agents to **share the policy parameters**.\nOn the one hand, sharing parameters means that they will all share the same policy, which will allow them to benefit from\neach other's experiences. This will also result in faster training.\nOn the other hand, it will make them behaviorally *homogenous*, as they will in fact share the same model.\nFor this example, we will enable sharing as we do not mind the homogeneity and can benefit from the computational\nspeed, but it is important to always think about this decision in your own problems!\n\nWe design the policy in three steps.\n\n**First**: define a neural network ``n_obs_per_agent`` -> ``2 * n_actions_per_agents``\n\nFor this we use the ``MultiAgentMLP``, a TorchRL module made exactly for\nmultiple agents, with much customization available.\n\n\n"
      ]
    },
    {
      "cell_type": "code",
      "execution_count": null,
      "metadata": {
        "collapsed": false
      },
      "outputs": [],
      "source": [
        "share_parameters_policy = True\n\npolicy_net = torch.nn.Sequential(\n    MultiAgentMLP(\n        n_agent_inputs=env.observation_spec[\"agents\", \"observation\"].shape[\n            -1\n        ],  # n_obs_per_agent\n        n_agent_outputs=2\n        * env.full_action_spec[env.action_key].shape[-1],  # 2 * n_actions_per_agents\n        n_agents=env.n_agents,\n        centralised=False,  # the policies are decentralised (ie each agent will act from its observation)\n        share_params=share_parameters_policy,\n        device=device,\n        depth=2,\n        num_cells=256,\n        activation_class=torch.nn.Tanh,\n    ),\n    NormalParamExtractor(),  # this will just separate the last dimension into two outputs: a loc and a non-negative scale\n)"
      ]
    },
    {
      "cell_type": "markdown",
      "metadata": {},
      "source": [
        "**Second**: wrap the neural network in a :class:`TensorDictModule`\n\nThis is simply a module that will read the ``in_keys`` from a tensordict, feed them to the\nneural networks, and write the\noutputs in-place at the ``out_keys``.\n\nNote that we use ``(\"agents\", ...)`` keys as these keys are denoting data with the\nadditional ``n_agents`` dimension.\n\n\n"
      ]
    },
    {
      "cell_type": "code",
      "execution_count": null,
      "metadata": {
        "collapsed": false
      },
      "outputs": [],
      "source": [
        "policy_module = TensorDictModule(\n    policy_net,\n    in_keys=[(\"agents\", \"observation\")],\n    out_keys=[(\"agents\", \"loc\"), (\"agents\", \"scale\")],\n)"
      ]
    },
    {
      "cell_type": "markdown",
      "metadata": {},
      "source": [
        "**Third**: wrap the :class:`TensorDictModule` in a :class:`ProbabilisticActor`\n\nWe now need to build a distribution out of the location and scale of our\nnormal distribution. To do so, we instruct the :class:`ProbabilisticActor`\nclass to build a :class:`TanhNormal` out of the location and scale\nparameters. We also provide the minimum and maximum values of this\ndistribution, which we gather from the environment specs.\n\nThe name of the ``in_keys`` (and hence the name of the ``out_keys`` from\nthe :class:`TensorDictModule` above) has to end with the\n:class:`TanhNormal` distribution constructor keyword arguments (loc and scale).\n\n\n"
      ]
    },
    {
      "cell_type": "code",
      "execution_count": null,
      "metadata": {
        "collapsed": false
      },
      "outputs": [],
      "source": [
        "policy = ProbabilisticActor(\n    module=policy_module,\n    spec=env.action_spec_unbatched,\n    in_keys=[(\"agents\", \"loc\"), (\"agents\", \"scale\")],\n    out_keys=[env.action_key],\n    distribution_class=TanhNormal,\n    distribution_kwargs={\n        \"low\": env.full_action_spec_unbatched[env.action_key].space.low,\n        \"high\": env.full_action_spec_unbatched[env.action_key].space.high,\n    },\n    return_log_prob=True,\n)  # we'll need the log-prob for the PPO loss"
      ]
    },
    {
      "cell_type": "markdown",
      "metadata": {},
      "source": [
        "## Critic network\n\nThe critic network is a crucial component of the PPO algorithm, even though it\nisn't used at sampling time. This module will read the observations and\nreturn the corresponding value estimates.\n\nAs before, one should think carefully about the decision of **sharing the critic parameters**.\nIn general, parameter sharing will grant faster training convergence, but there are a few important\nconsiderations to be made:\n\n- Sharing is not recommended when agents have different reward functions, as the critics will need to learn\n  to assign different values to the same state (e.g., in mixed cooperative-competitive settings).\n- In decentralised training settings, sharing cannot be performed without additional infrastructure to\n  synchronise parameters.\n\nIn all other cases where the reward function (to be differentiated from the reward) is the same for all agents\n(as in the current scenario),\nsharing can provide improved performance. This can come at the cost of homogeneity in the agent strategies.\nIn general, the best way to know which choice is preferable is to quickly experiment both options.\n\nHere is also where we have to choose between **MAPPO and IPPO**:\n\n- With MAPPO, we will obtain a central critic with full-observability\n  (i.e., it will take all the concatenated agent observations as input).\n  We can do this because we are in a simulator\n  and training is centralised.\n- With IPPO, we will have a local decentralised critic, just like the policy.\n\nIn any case, the critic output will have shape ``(..., n_agents, 1)``.\nIf the critic is centralised and shared,\nall the values along the ``n_agents`` dimension will be identical.\n\n\n"
      ]
    },
    {
      "cell_type": "code",
      "execution_count": null,
      "metadata": {
        "collapsed": false
      },
      "outputs": [],
      "source": [
        "share_parameters_critic = True\nmappo = True  # IPPO if False\n\ncritic_net = MultiAgentMLP(\n    n_agent_inputs=env.observation_spec[\"agents\", \"observation\"].shape[-1],\n    n_agent_outputs=1,  # 1 value per agent\n    n_agents=env.n_agents,\n    centralised=mappo,\n    share_params=share_parameters_critic,\n    device=device,\n    depth=2,\n    num_cells=256,\n    activation_class=torch.nn.Tanh,\n)\n\ncritic = TensorDictModule(\n    module=critic_net,\n    in_keys=[(\"agents\", \"observation\")],\n    out_keys=[(\"agents\", \"state_value\")],\n)"
      ]
    },
    {
      "cell_type": "markdown",
      "metadata": {},
      "source": [
        "Let us try our policy and critic modules. As pointed earlier, the usage of\n:class:`TensorDictModule` makes it possible to directly read the output\nof the environment to run these modules, as they know what information to read\nand where to write it:\n\n**From this point on, the multi-agent-specific components have been instantiated, and we will simply use the same\ncomponents as in single-agent learning. Isn't this fantastic?**\n\n\n"
      ]
    },
    {
      "cell_type": "code",
      "execution_count": null,
      "metadata": {
        "collapsed": false
      },
      "outputs": [],
      "source": [
        "print(\"Running policy:\", policy(env.reset()))\nprint(\"Running value:\", critic(env.reset()))"
      ]
    },
    {
      "cell_type": "markdown",
      "metadata": {},
      "source": [
        "## Data collector\n\nTorchRL provides a set of data collector classes. Briefly, these\nclasses execute three operations: reset an environment, compute an action\nusing the policy and the latest observation, execute a step in the environment, and repeat\nthe last two steps until the environment signals a stop (or reaches a done\nstate).\n\nWe will use the simplest possible data collector, which has the same output as an environment rollout,\nwith the only difference that it will auto reset done states until the desired frames are collected.\n\n\n"
      ]
    },
    {
      "cell_type": "code",
      "execution_count": null,
      "metadata": {
        "collapsed": false
      },
      "outputs": [],
      "source": [
        "collector = SyncDataCollector(\n    env,\n    policy,\n    device=vmas_device,\n    storing_device=device,\n    frames_per_batch=frames_per_batch,\n    total_frames=total_frames,\n)"
      ]
    },
    {
      "cell_type": "markdown",
      "metadata": {},
      "source": [
        "## Replay buffer\n\nReplay buffers are a common building piece of off-policy RL algorithms.\nIn on-policy contexts, a replay buffer is refilled every time a batch of\ndata is collected, and its data is repeatedly consumed for a certain number\nof epochs.\n\nUsing a replay buffer for PPO is not mandatory and we could simply\nuse the collected data online, but using these classes\nmakes it easy for us to build the inner training loop in a reproducible way.\n\n\n"
      ]
    },
    {
      "cell_type": "code",
      "execution_count": null,
      "metadata": {
        "collapsed": false
      },
      "outputs": [],
      "source": [
        "replay_buffer = ReplayBuffer(\n    storage=LazyTensorStorage(\n        frames_per_batch, device=device\n    ),  # We store the frames_per_batch collected at each iteration\n    sampler=SamplerWithoutReplacement(),\n    batch_size=minibatch_size,  # We will sample minibatches of this size\n)"
      ]
    },
    {
      "cell_type": "markdown",
      "metadata": {},
      "source": [
        "## Loss function\n\nThe PPO loss can be directly imported from TorchRL for convenience using the\n:class:`~.objectives.ClipPPOLoss` class. This is the easiest way of utilising PPO:\nit hides away the mathematical operations of PPO and the control flow that\ngoes with it.\n\nPPO requires some \"advantage estimation\" to be computed. In short, an advantage\nis a value that reflects an expectancy over the return value while dealing with\nthe bias / variance tradeoff.\nTo compute the advantage, one just needs to (1) build the advantage module, which\nutilises our value operator, and (2) pass each batch of data through it before each\nepoch.\nThe GAE module will update the input :class:`TensorDict` with new ``\"advantage\"`` and\n``\"value_target\"`` entries.\nThe ``\"value_target\"`` is a gradient-free tensor that represents the empirical\nvalue that the value network should represent with the input observation.\nBoth of these will be used by :class:`ClipPPOLoss` to\nreturn the policy and value losses.\n\n\n"
      ]
    },
    {
      "cell_type": "code",
      "execution_count": null,
      "metadata": {
        "collapsed": false
      },
      "outputs": [],
      "source": [
        "loss_module = ClipPPOLoss(\n    actor_network=policy,\n    critic_network=critic,\n    clip_epsilon=clip_epsilon,\n    entropy_coef=entropy_eps,\n    normalize_advantage=False,  # Important to avoid normalizing across the agent dimension\n)\nloss_module.set_keys(  # We have to tell the loss where to find the keys\n    reward=env.reward_key,\n    action=env.action_key,\n    value=(\"agents\", \"state_value\"),\n    # These last 2 keys will be expanded to match the reward shape\n    done=(\"agents\", \"done\"),\n    terminated=(\"agents\", \"terminated\"),\n)\n\n\nloss_module.make_value_estimator(\n    ValueEstimators.GAE, gamma=gamma, lmbda=lmbda\n)  # We build GAE\nGAE = loss_module.value_estimator\n\noptim = torch.optim.Adam(loss_module.parameters(), lr)"
      ]
    },
    {
      "cell_type": "markdown",
      "metadata": {},
      "source": [
        "## Training loop\nWe now have all the pieces needed to code our training loop.\nThe steps include:\n\n* Collect data\n    * Compute advantage\n        * Loop over epochs\n            * Loop over minibatches to compute loss values\n                * Back propagate\n                * Optimise\n            * Repeat\n        * Repeat\n    * Repeat\n* Repeat\n\n\n\n"
      ]
    },
    {
      "cell_type": "code",
      "execution_count": null,
      "metadata": {
        "collapsed": false
      },
      "outputs": [],
      "source": [
        "pbar = tqdm(total=n_iters, desc=\"episode_reward_mean = 0\")\n\nepisode_reward_mean_list = []\nfor tensordict_data in collector:\n    tensordict_data.set(\n        (\"next\", \"agents\", \"done\"),\n        tensordict_data.get((\"next\", \"done\"))\n        .unsqueeze(-1)\n        .expand(tensordict_data.get_item_shape((\"next\", env.reward_key))),\n    )\n    tensordict_data.set(\n        (\"next\", \"agents\", \"terminated\"),\n        tensordict_data.get((\"next\", \"terminated\"))\n        .unsqueeze(-1)\n        .expand(tensordict_data.get_item_shape((\"next\", env.reward_key))),\n    )\n    # We need to expand the done and terminated to match the reward shape (this is expected by the value estimator)\n\n    with torch.no_grad():\n        GAE(\n            tensordict_data,\n            params=loss_module.critic_network_params,\n            target_params=loss_module.target_critic_network_params,\n        )  # Compute GAE and add it to the data\n\n    data_view = tensordict_data.reshape(-1)  # Flatten the batch size to shuffle data\n    replay_buffer.extend(data_view)\n\n    for _ in range(num_epochs):\n        for _ in range(frames_per_batch // minibatch_size):\n            subdata = replay_buffer.sample()\n            loss_vals = loss_module(subdata)\n\n            loss_value = (\n                loss_vals[\"loss_objective\"]\n                + loss_vals[\"loss_critic\"]\n                + loss_vals[\"loss_entropy\"]\n            )\n\n            loss_value.backward()\n\n            torch.nn.utils.clip_grad_norm_(\n                loss_module.parameters(), max_grad_norm\n            )  # Optional\n\n            optim.step()\n            optim.zero_grad()\n\n    collector.update_policy_weights_()\n\n    # Logging\n    done = tensordict_data.get((\"next\", \"agents\", \"done\"))\n    episode_reward_mean = (\n        tensordict_data.get((\"next\", \"agents\", \"episode_reward\"))[done].mean().item()\n    )\n    episode_reward_mean_list.append(episode_reward_mean)\n    pbar.set_description(f\"episode_reward_mean = {episode_reward_mean}\", refresh=False)\n    pbar.update()"
      ]
    },
    {
      "cell_type": "markdown",
      "metadata": {},
      "source": [
        "## Results\n\nLet's plot the mean reward obtained per episode\n\nTo make training last longer, increase the ``n_iters`` hyperparameter.\n\n\n"
      ]
    },
    {
      "cell_type": "code",
      "execution_count": null,
      "metadata": {
        "collapsed": false
      },
      "outputs": [],
      "source": [
        "plt.plot(episode_reward_mean_list)\nplt.xlabel(\"Training iterations\")\nplt.ylabel(\"Reward\")\nplt.title(\"Episode reward mean\")\nplt.show()"
      ]
    },
    {
      "cell_type": "markdown",
      "metadata": {},
      "source": [
        "## Render\n\nIf you are running this in a machine with GUI, you can render the trained policy by running:\n\n```python\nwith torch.no_grad():\n   env.rollout(\n       max_steps=max_steps,\n       policy=policy,\n       callback=lambda env, _: env.render(),\n       auto_cast_to_device=True,\n       break_when_any_done=False,\n   )\n```\nIf you are running this in Google Colab, you can render the trained policy by running:\n\n```bash\n!apt-get update\n!apt-get install -y x11-utils\n!apt-get install -y xvfb\n!pip install pyvirtualdisplay\n```\n```python\nimport pyvirtualdisplay\ndisplay = pyvirtualdisplay.Display(visible=False, size=(1400, 900))\ndisplay.start()\nfrom PIL import Image\n\ndef rendering_callback(env, td):\n    env.frames.append(Image.fromarray(env.render(mode=\"rgb_array\")))\nenv.frames = []\nwith torch.no_grad():\n   env.rollout(\n       max_steps=max_steps,\n       policy=policy,\n       callback=rendering_callback,\n       auto_cast_to_device=True,\n       break_when_any_done=False,\n   )\nenv.frames[0].save(\n    f\"{scenario_name}.gif\",\n    save_all=True,\n    append_images=env.frames[1:],\n   duration=3,\n   loop=0,\n)\n\nfrom IPython.display import Image\nImage(open(f\"{scenario_name}.gif\", \"rb\").read())\n```\n"
      ]
    },
    {
      "cell_type": "markdown",
      "metadata": {},
      "source": [
        "## Conclusion and next steps\n\nIn this tutorial, we have seen:\n\n- How to create a multi-agent environment in TorchRL, how its specs work, and how it integrates with the library;\n- How you use GPU vectorized environments in TorchRL;\n- How to create different multi-agent network architectures in TorchRL (e.g., using parameter sharing, centralised critic)\n- How we can use :class:`tensordict.TensorDict` to carry multi-agent data;\n- How we can tie all the library components (collectors, modules, replay buffers, and losses) in a multi-agent MAPPO/IPPO training loop.\n\nNow that you are proficient with multi-agent DDPG, you can check out all the TorchRL multi-agent implementations in the\nGitHub repository.\nThese are code-only scripts of many popular MARL algorithms such as the ones seen in this tutorial,\nQMIX, MADDPG, IQL, and many more!\n\nYou can also check out our other multi-agent tutorial on how to train competitive\nMADDPG/IDDPG in PettingZoo/VMAS with multiple agent groups: :doc:`/tutorials/multiagent_competitive_ddpg`.\n\nIf you are interested in creating or wrapping your own multi-agent environments in TorchRL,\nyou can check out the dedicated\n`doc section <MARL-environment-API>`.\n\nFinally, you can modify the parameters of this tutorial to try many other configurations and scenarios\nto become a MARL master.\nHere are a few videos of some possible scenarios you can try in VMAS.\n\n.. figure:: https://github.com/matteobettini/vmas-media/blob/main/media/vmas_scenarios_more.gif?raw=true\n   :alt: VMAS scenarios\n\n   Scenarios available in [VMAS](https://github.com/proroklab/VectorizedMultiAgentSimulator)_\n\n\n"
      ]
    }
  ],
  "metadata": {
    "kernelspec": {
      "display_name": "Python 3",
      "language": "python",
      "name": "python3"
    },
    "language_info": {
      "codemirror_mode": {
        "name": "ipython",
        "version": 3
      },
      "file_extension": ".py",
      "mimetype": "text/x-python",
      "name": "python",
      "nbconvert_exporter": "python",
      "pygments_lexer": "ipython3",
      "version": "3.9.24"
    }
  },
  "nbformat": 4,
  "nbformat_minor": 0
}